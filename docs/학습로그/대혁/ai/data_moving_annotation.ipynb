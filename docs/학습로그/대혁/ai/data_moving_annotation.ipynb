{
  "nbformat": 4,
  "nbformat_minor": 0,
  "metadata": {
    "colab": {
      "provenance": []
    },
    "kernelspec": {
      "name": "python3",
      "display_name": "Python 3"
    },
    "language_info": {
      "name": "python"
    },
    "widgets": {
      "application/vnd.jupyter.widget-state+json": {
        "2f5db7b7009547168cf8b00c54622e0b": {
          "model_module": "@jupyter-widgets/controls",
          "model_name": "HBoxModel",
          "model_module_version": "1.5.0",
          "state": {
            "_dom_classes": [],
            "_model_module": "@jupyter-widgets/controls",
            "_model_module_version": "1.5.0",
            "_model_name": "HBoxModel",
            "_view_count": null,
            "_view_module": "@jupyter-widgets/controls",
            "_view_module_version": "1.5.0",
            "_view_name": "HBoxView",
            "box_style": "",
            "children": [
              "IPY_MODEL_25c7a045a9f7412dbbea9523e4e052af",
              "IPY_MODEL_126488fa97b14cb6a42db47fb2046738",
              "IPY_MODEL_408eb513264e451a9c66ea2d5c35e3d9"
            ],
            "layout": "IPY_MODEL_3bd713e213f84c99bbcc3810018a8ae7"
          }
        },
        "25c7a045a9f7412dbbea9523e4e052af": {
          "model_module": "@jupyter-widgets/controls",
          "model_name": "HTMLModel",
          "model_module_version": "1.5.0",
          "state": {
            "_dom_classes": [],
            "_model_module": "@jupyter-widgets/controls",
            "_model_module_version": "1.5.0",
            "_model_name": "HTMLModel",
            "_view_count": null,
            "_view_module": "@jupyter-widgets/controls",
            "_view_module_version": "1.5.0",
            "_view_name": "HTMLView",
            "description": "",
            "description_tooltip": null,
            "layout": "IPY_MODEL_a56413d16de34b4282c7e63bf8b03cea",
            "placeholder": "​",
            "style": "IPY_MODEL_5c6c8831da18419ba67fde863df0b887",
            "value": "100%"
          }
        },
        "126488fa97b14cb6a42db47fb2046738": {
          "model_module": "@jupyter-widgets/controls",
          "model_name": "FloatProgressModel",
          "model_module_version": "1.5.0",
          "state": {
            "_dom_classes": [],
            "_model_module": "@jupyter-widgets/controls",
            "_model_module_version": "1.5.0",
            "_model_name": "FloatProgressModel",
            "_view_count": null,
            "_view_module": "@jupyter-widgets/controls",
            "_view_module_version": "1.5.0",
            "_view_name": "ProgressView",
            "bar_style": "success",
            "description": "",
            "description_tooltip": null,
            "layout": "IPY_MODEL_530613864532400fa956438711601247",
            "max": 10990,
            "min": 0,
            "orientation": "horizontal",
            "style": "IPY_MODEL_f52ad171387445c08744a429f20f2b88",
            "value": 10990
          }
        },
        "408eb513264e451a9c66ea2d5c35e3d9": {
          "model_module": "@jupyter-widgets/controls",
          "model_name": "HTMLModel",
          "model_module_version": "1.5.0",
          "state": {
            "_dom_classes": [],
            "_model_module": "@jupyter-widgets/controls",
            "_model_module_version": "1.5.0",
            "_model_name": "HTMLModel",
            "_view_count": null,
            "_view_module": "@jupyter-widgets/controls",
            "_view_module_version": "1.5.0",
            "_view_name": "HTMLView",
            "description": "",
            "description_tooltip": null,
            "layout": "IPY_MODEL_ca2e6e30d40e41a7a973e515596f8f6a",
            "placeholder": "​",
            "style": "IPY_MODEL_2287b5e52e1b4a3a9abd8766dbea507b",
            "value": " 10990/10990 [00:00&lt;00:00, 369164.86it/s]"
          }
        },
        "3bd713e213f84c99bbcc3810018a8ae7": {
          "model_module": "@jupyter-widgets/base",
          "model_name": "LayoutModel",
          "model_module_version": "1.2.0",
          "state": {
            "_model_module": "@jupyter-widgets/base",
            "_model_module_version": "1.2.0",
            "_model_name": "LayoutModel",
            "_view_count": null,
            "_view_module": "@jupyter-widgets/base",
            "_view_module_version": "1.2.0",
            "_view_name": "LayoutView",
            "align_content": null,
            "align_items": null,
            "align_self": null,
            "border": null,
            "bottom": null,
            "display": null,
            "flex": null,
            "flex_flow": null,
            "grid_area": null,
            "grid_auto_columns": null,
            "grid_auto_flow": null,
            "grid_auto_rows": null,
            "grid_column": null,
            "grid_gap": null,
            "grid_row": null,
            "grid_template_areas": null,
            "grid_template_columns": null,
            "grid_template_rows": null,
            "height": null,
            "justify_content": null,
            "justify_items": null,
            "left": null,
            "margin": null,
            "max_height": null,
            "max_width": null,
            "min_height": null,
            "min_width": null,
            "object_fit": null,
            "object_position": null,
            "order": null,
            "overflow": null,
            "overflow_x": null,
            "overflow_y": null,
            "padding": null,
            "right": null,
            "top": null,
            "visibility": null,
            "width": null
          }
        },
        "a56413d16de34b4282c7e63bf8b03cea": {
          "model_module": "@jupyter-widgets/base",
          "model_name": "LayoutModel",
          "model_module_version": "1.2.0",
          "state": {
            "_model_module": "@jupyter-widgets/base",
            "_model_module_version": "1.2.0",
            "_model_name": "LayoutModel",
            "_view_count": null,
            "_view_module": "@jupyter-widgets/base",
            "_view_module_version": "1.2.0",
            "_view_name": "LayoutView",
            "align_content": null,
            "align_items": null,
            "align_self": null,
            "border": null,
            "bottom": null,
            "display": null,
            "flex": null,
            "flex_flow": null,
            "grid_area": null,
            "grid_auto_columns": null,
            "grid_auto_flow": null,
            "grid_auto_rows": null,
            "grid_column": null,
            "grid_gap": null,
            "grid_row": null,
            "grid_template_areas": null,
            "grid_template_columns": null,
            "grid_template_rows": null,
            "height": null,
            "justify_content": null,
            "justify_items": null,
            "left": null,
            "margin": null,
            "max_height": null,
            "max_width": null,
            "min_height": null,
            "min_width": null,
            "object_fit": null,
            "object_position": null,
            "order": null,
            "overflow": null,
            "overflow_x": null,
            "overflow_y": null,
            "padding": null,
            "right": null,
            "top": null,
            "visibility": null,
            "width": null
          }
        },
        "5c6c8831da18419ba67fde863df0b887": {
          "model_module": "@jupyter-widgets/controls",
          "model_name": "DescriptionStyleModel",
          "model_module_version": "1.5.0",
          "state": {
            "_model_module": "@jupyter-widgets/controls",
            "_model_module_version": "1.5.0",
            "_model_name": "DescriptionStyleModel",
            "_view_count": null,
            "_view_module": "@jupyter-widgets/base",
            "_view_module_version": "1.2.0",
            "_view_name": "StyleView",
            "description_width": ""
          }
        },
        "530613864532400fa956438711601247": {
          "model_module": "@jupyter-widgets/base",
          "model_name": "LayoutModel",
          "model_module_version": "1.2.0",
          "state": {
            "_model_module": "@jupyter-widgets/base",
            "_model_module_version": "1.2.0",
            "_model_name": "LayoutModel",
            "_view_count": null,
            "_view_module": "@jupyter-widgets/base",
            "_view_module_version": "1.2.0",
            "_view_name": "LayoutView",
            "align_content": null,
            "align_items": null,
            "align_self": null,
            "border": null,
            "bottom": null,
            "display": null,
            "flex": null,
            "flex_flow": null,
            "grid_area": null,
            "grid_auto_columns": null,
            "grid_auto_flow": null,
            "grid_auto_rows": null,
            "grid_column": null,
            "grid_gap": null,
            "grid_row": null,
            "grid_template_areas": null,
            "grid_template_columns": null,
            "grid_template_rows": null,
            "height": null,
            "justify_content": null,
            "justify_items": null,
            "left": null,
            "margin": null,
            "max_height": null,
            "max_width": null,
            "min_height": null,
            "min_width": null,
            "object_fit": null,
            "object_position": null,
            "order": null,
            "overflow": null,
            "overflow_x": null,
            "overflow_y": null,
            "padding": null,
            "right": null,
            "top": null,
            "visibility": null,
            "width": null
          }
        },
        "f52ad171387445c08744a429f20f2b88": {
          "model_module": "@jupyter-widgets/controls",
          "model_name": "ProgressStyleModel",
          "model_module_version": "1.5.0",
          "state": {
            "_model_module": "@jupyter-widgets/controls",
            "_model_module_version": "1.5.0",
            "_model_name": "ProgressStyleModel",
            "_view_count": null,
            "_view_module": "@jupyter-widgets/base",
            "_view_module_version": "1.2.0",
            "_view_name": "StyleView",
            "bar_color": null,
            "description_width": ""
          }
        },
        "ca2e6e30d40e41a7a973e515596f8f6a": {
          "model_module": "@jupyter-widgets/base",
          "model_name": "LayoutModel",
          "model_module_version": "1.2.0",
          "state": {
            "_model_module": "@jupyter-widgets/base",
            "_model_module_version": "1.2.0",
            "_model_name": "LayoutModel",
            "_view_count": null,
            "_view_module": "@jupyter-widgets/base",
            "_view_module_version": "1.2.0",
            "_view_name": "LayoutView",
            "align_content": null,
            "align_items": null,
            "align_self": null,
            "border": null,
            "bottom": null,
            "display": null,
            "flex": null,
            "flex_flow": null,
            "grid_area": null,
            "grid_auto_columns": null,
            "grid_auto_flow": null,
            "grid_auto_rows": null,
            "grid_column": null,
            "grid_gap": null,
            "grid_row": null,
            "grid_template_areas": null,
            "grid_template_columns": null,
            "grid_template_rows": null,
            "height": null,
            "justify_content": null,
            "justify_items": null,
            "left": null,
            "margin": null,
            "max_height": null,
            "max_width": null,
            "min_height": null,
            "min_width": null,
            "object_fit": null,
            "object_position": null,
            "order": null,
            "overflow": null,
            "overflow_x": null,
            "overflow_y": null,
            "padding": null,
            "right": null,
            "top": null,
            "visibility": null,
            "width": null
          }
        },
        "2287b5e52e1b4a3a9abd8766dbea507b": {
          "model_module": "@jupyter-widgets/controls",
          "model_name": "DescriptionStyleModel",
          "model_module_version": "1.5.0",
          "state": {
            "_model_module": "@jupyter-widgets/controls",
            "_model_module_version": "1.5.0",
            "_model_name": "DescriptionStyleModel",
            "_view_count": null,
            "_view_module": "@jupyter-widgets/base",
            "_view_module_version": "1.2.0",
            "_view_name": "StyleView",
            "description_width": ""
          }
        },
        "cae9fb53462040dfb707c2edbbce56a5": {
          "model_module": "@jupyter-widgets/controls",
          "model_name": "HBoxModel",
          "model_module_version": "1.5.0",
          "state": {
            "_dom_classes": [],
            "_model_module": "@jupyter-widgets/controls",
            "_model_module_version": "1.5.0",
            "_model_name": "HBoxModel",
            "_view_count": null,
            "_view_module": "@jupyter-widgets/controls",
            "_view_module_version": "1.5.0",
            "_view_name": "HBoxView",
            "box_style": "",
            "children": [
              "IPY_MODEL_9790bcf10c6f4bf794c85b88dc6d996a",
              "IPY_MODEL_176aec0cf91f485e99a4cc0390ebf146",
              "IPY_MODEL_c287690b1a4c4b1895dc52c0d7d09de7"
            ],
            "layout": "IPY_MODEL_efe3fba62aad4ab591feb89060898853"
          }
        },
        "9790bcf10c6f4bf794c85b88dc6d996a": {
          "model_module": "@jupyter-widgets/controls",
          "model_name": "HTMLModel",
          "model_module_version": "1.5.0",
          "state": {
            "_dom_classes": [],
            "_model_module": "@jupyter-widgets/controls",
            "_model_module_version": "1.5.0",
            "_model_name": "HTMLModel",
            "_view_count": null,
            "_view_module": "@jupyter-widgets/controls",
            "_view_module_version": "1.5.0",
            "_view_name": "HTMLView",
            "description": "",
            "description_tooltip": null,
            "layout": "IPY_MODEL_f311cc2897e84bb5b570bbb40daf5d7f",
            "placeholder": "​",
            "style": "IPY_MODEL_12ab095e2a0842be8018c0c6d85efd7a",
            "value": "100%"
          }
        },
        "176aec0cf91f485e99a4cc0390ebf146": {
          "model_module": "@jupyter-widgets/controls",
          "model_name": "FloatProgressModel",
          "model_module_version": "1.5.0",
          "state": {
            "_dom_classes": [],
            "_model_module": "@jupyter-widgets/controls",
            "_model_module_version": "1.5.0",
            "_model_name": "FloatProgressModel",
            "_view_count": null,
            "_view_module": "@jupyter-widgets/controls",
            "_view_module_version": "1.5.0",
            "_view_name": "ProgressView",
            "bar_style": "success",
            "description": "",
            "description_tooltip": null,
            "layout": "IPY_MODEL_bf4392ef3eb74ab886ec6516377c0de7",
            "max": 10980,
            "min": 0,
            "orientation": "horizontal",
            "style": "IPY_MODEL_752696a3a8934d1b97c6004d22505560",
            "value": 10980
          }
        },
        "c287690b1a4c4b1895dc52c0d7d09de7": {
          "model_module": "@jupyter-widgets/controls",
          "model_name": "HTMLModel",
          "model_module_version": "1.5.0",
          "state": {
            "_dom_classes": [],
            "_model_module": "@jupyter-widgets/controls",
            "_model_module_version": "1.5.0",
            "_model_name": "HTMLModel",
            "_view_count": null,
            "_view_module": "@jupyter-widgets/controls",
            "_view_module_version": "1.5.0",
            "_view_name": "HTMLView",
            "description": "",
            "description_tooltip": null,
            "layout": "IPY_MODEL_cab6f7a9931043488322388f049b2131",
            "placeholder": "​",
            "style": "IPY_MODEL_425f02b30e014908a64adc0be2de7f11",
            "value": " 10980/10980 [00:00&lt;00:00, 427970.32it/s]"
          }
        },
        "efe3fba62aad4ab591feb89060898853": {
          "model_module": "@jupyter-widgets/base",
          "model_name": "LayoutModel",
          "model_module_version": "1.2.0",
          "state": {
            "_model_module": "@jupyter-widgets/base",
            "_model_module_version": "1.2.0",
            "_model_name": "LayoutModel",
            "_view_count": null,
            "_view_module": "@jupyter-widgets/base",
            "_view_module_version": "1.2.0",
            "_view_name": "LayoutView",
            "align_content": null,
            "align_items": null,
            "align_self": null,
            "border": null,
            "bottom": null,
            "display": null,
            "flex": null,
            "flex_flow": null,
            "grid_area": null,
            "grid_auto_columns": null,
            "grid_auto_flow": null,
            "grid_auto_rows": null,
            "grid_column": null,
            "grid_gap": null,
            "grid_row": null,
            "grid_template_areas": null,
            "grid_template_columns": null,
            "grid_template_rows": null,
            "height": null,
            "justify_content": null,
            "justify_items": null,
            "left": null,
            "margin": null,
            "max_height": null,
            "max_width": null,
            "min_height": null,
            "min_width": null,
            "object_fit": null,
            "object_position": null,
            "order": null,
            "overflow": null,
            "overflow_x": null,
            "overflow_y": null,
            "padding": null,
            "right": null,
            "top": null,
            "visibility": null,
            "width": null
          }
        },
        "f311cc2897e84bb5b570bbb40daf5d7f": {
          "model_module": "@jupyter-widgets/base",
          "model_name": "LayoutModel",
          "model_module_version": "1.2.0",
          "state": {
            "_model_module": "@jupyter-widgets/base",
            "_model_module_version": "1.2.0",
            "_model_name": "LayoutModel",
            "_view_count": null,
            "_view_module": "@jupyter-widgets/base",
            "_view_module_version": "1.2.0",
            "_view_name": "LayoutView",
            "align_content": null,
            "align_items": null,
            "align_self": null,
            "border": null,
            "bottom": null,
            "display": null,
            "flex": null,
            "flex_flow": null,
            "grid_area": null,
            "grid_auto_columns": null,
            "grid_auto_flow": null,
            "grid_auto_rows": null,
            "grid_column": null,
            "grid_gap": null,
            "grid_row": null,
            "grid_template_areas": null,
            "grid_template_columns": null,
            "grid_template_rows": null,
            "height": null,
            "justify_content": null,
            "justify_items": null,
            "left": null,
            "margin": null,
            "max_height": null,
            "max_width": null,
            "min_height": null,
            "min_width": null,
            "object_fit": null,
            "object_position": null,
            "order": null,
            "overflow": null,
            "overflow_x": null,
            "overflow_y": null,
            "padding": null,
            "right": null,
            "top": null,
            "visibility": null,
            "width": null
          }
        },
        "12ab095e2a0842be8018c0c6d85efd7a": {
          "model_module": "@jupyter-widgets/controls",
          "model_name": "DescriptionStyleModel",
          "model_module_version": "1.5.0",
          "state": {
            "_model_module": "@jupyter-widgets/controls",
            "_model_module_version": "1.5.0",
            "_model_name": "DescriptionStyleModel",
            "_view_count": null,
            "_view_module": "@jupyter-widgets/base",
            "_view_module_version": "1.2.0",
            "_view_name": "StyleView",
            "description_width": ""
          }
        },
        "bf4392ef3eb74ab886ec6516377c0de7": {
          "model_module": "@jupyter-widgets/base",
          "model_name": "LayoutModel",
          "model_module_version": "1.2.0",
          "state": {
            "_model_module": "@jupyter-widgets/base",
            "_model_module_version": "1.2.0",
            "_model_name": "LayoutModel",
            "_view_count": null,
            "_view_module": "@jupyter-widgets/base",
            "_view_module_version": "1.2.0",
            "_view_name": "LayoutView",
            "align_content": null,
            "align_items": null,
            "align_self": null,
            "border": null,
            "bottom": null,
            "display": null,
            "flex": null,
            "flex_flow": null,
            "grid_area": null,
            "grid_auto_columns": null,
            "grid_auto_flow": null,
            "grid_auto_rows": null,
            "grid_column": null,
            "grid_gap": null,
            "grid_row": null,
            "grid_template_areas": null,
            "grid_template_columns": null,
            "grid_template_rows": null,
            "height": null,
            "justify_content": null,
            "justify_items": null,
            "left": null,
            "margin": null,
            "max_height": null,
            "max_width": null,
            "min_height": null,
            "min_width": null,
            "object_fit": null,
            "object_position": null,
            "order": null,
            "overflow": null,
            "overflow_x": null,
            "overflow_y": null,
            "padding": null,
            "right": null,
            "top": null,
            "visibility": null,
            "width": null
          }
        },
        "752696a3a8934d1b97c6004d22505560": {
          "model_module": "@jupyter-widgets/controls",
          "model_name": "ProgressStyleModel",
          "model_module_version": "1.5.0",
          "state": {
            "_model_module": "@jupyter-widgets/controls",
            "_model_module_version": "1.5.0",
            "_model_name": "ProgressStyleModel",
            "_view_count": null,
            "_view_module": "@jupyter-widgets/base",
            "_view_module_version": "1.2.0",
            "_view_name": "StyleView",
            "bar_color": null,
            "description_width": ""
          }
        },
        "cab6f7a9931043488322388f049b2131": {
          "model_module": "@jupyter-widgets/base",
          "model_name": "LayoutModel",
          "model_module_version": "1.2.0",
          "state": {
            "_model_module": "@jupyter-widgets/base",
            "_model_module_version": "1.2.0",
            "_model_name": "LayoutModel",
            "_view_count": null,
            "_view_module": "@jupyter-widgets/base",
            "_view_module_version": "1.2.0",
            "_view_name": "LayoutView",
            "align_content": null,
            "align_items": null,
            "align_self": null,
            "border": null,
            "bottom": null,
            "display": null,
            "flex": null,
            "flex_flow": null,
            "grid_area": null,
            "grid_auto_columns": null,
            "grid_auto_flow": null,
            "grid_auto_rows": null,
            "grid_column": null,
            "grid_gap": null,
            "grid_row": null,
            "grid_template_areas": null,
            "grid_template_columns": null,
            "grid_template_rows": null,
            "height": null,
            "justify_content": null,
            "justify_items": null,
            "left": null,
            "margin": null,
            "max_height": null,
            "max_width": null,
            "min_height": null,
            "min_width": null,
            "object_fit": null,
            "object_position": null,
            "order": null,
            "overflow": null,
            "overflow_x": null,
            "overflow_y": null,
            "padding": null,
            "right": null,
            "top": null,
            "visibility": null,
            "width": null
          }
        },
        "425f02b30e014908a64adc0be2de7f11": {
          "model_module": "@jupyter-widgets/controls",
          "model_name": "DescriptionStyleModel",
          "model_module_version": "1.5.0",
          "state": {
            "_model_module": "@jupyter-widgets/controls",
            "_model_module_version": "1.5.0",
            "_model_name": "DescriptionStyleModel",
            "_view_count": null,
            "_view_module": "@jupyter-widgets/base",
            "_view_module_version": "1.2.0",
            "_view_name": "StyleView",
            "description_width": ""
          }
        },
        "d6e40b4bce964963aad495305e0b8075": {
          "model_module": "@jupyter-widgets/controls",
          "model_name": "HBoxModel",
          "model_module_version": "1.5.0",
          "state": {
            "_dom_classes": [],
            "_model_module": "@jupyter-widgets/controls",
            "_model_module_version": "1.5.0",
            "_model_name": "HBoxModel",
            "_view_count": null,
            "_view_module": "@jupyter-widgets/controls",
            "_view_module_version": "1.5.0",
            "_view_name": "HBoxView",
            "box_style": "",
            "children": [
              "IPY_MODEL_0fc67b672f5548afb605a4ce2a5db0f7",
              "IPY_MODEL_39a41e10cc784f72b04ab815c2e1f26e",
              "IPY_MODEL_28ff3abb4afe44619ec2924e657543d5"
            ],
            "layout": "IPY_MODEL_47b04be86dfc45e48e0dcd271170f383"
          }
        },
        "0fc67b672f5548afb605a4ce2a5db0f7": {
          "model_module": "@jupyter-widgets/controls",
          "model_name": "HTMLModel",
          "model_module_version": "1.5.0",
          "state": {
            "_dom_classes": [],
            "_model_module": "@jupyter-widgets/controls",
            "_model_module_version": "1.5.0",
            "_model_name": "HTMLModel",
            "_view_count": null,
            "_view_module": "@jupyter-widgets/controls",
            "_view_module_version": "1.5.0",
            "_view_name": "HTMLView",
            "description": "",
            "description_tooltip": null,
            "layout": "IPY_MODEL_cdeed62f67e547d8a0ebfb8ce68b9f19",
            "placeholder": "​",
            "style": "IPY_MODEL_3b64e80704c2403497ecba31c3f0f51d",
            "value": "100%"
          }
        },
        "39a41e10cc784f72b04ab815c2e1f26e": {
          "model_module": "@jupyter-widgets/controls",
          "model_name": "FloatProgressModel",
          "model_module_version": "1.5.0",
          "state": {
            "_dom_classes": [],
            "_model_module": "@jupyter-widgets/controls",
            "_model_module_version": "1.5.0",
            "_model_name": "FloatProgressModel",
            "_view_count": null,
            "_view_module": "@jupyter-widgets/controls",
            "_view_module_version": "1.5.0",
            "_view_name": "ProgressView",
            "bar_style": "success",
            "description": "",
            "description_tooltip": null,
            "layout": "IPY_MODEL_39d0167d0aa14c9c8dc80aa17680815d",
            "max": 2551,
            "min": 0,
            "orientation": "horizontal",
            "style": "IPY_MODEL_edbc62cd068c4c60b1ddc224a14e0c9e",
            "value": 2551
          }
        },
        "28ff3abb4afe44619ec2924e657543d5": {
          "model_module": "@jupyter-widgets/controls",
          "model_name": "HTMLModel",
          "model_module_version": "1.5.0",
          "state": {
            "_dom_classes": [],
            "_model_module": "@jupyter-widgets/controls",
            "_model_module_version": "1.5.0",
            "_model_name": "HTMLModel",
            "_view_count": null,
            "_view_module": "@jupyter-widgets/controls",
            "_view_module_version": "1.5.0",
            "_view_name": "HTMLView",
            "description": "",
            "description_tooltip": null,
            "layout": "IPY_MODEL_4a798382596f4cd294c7b9dbf08c9378",
            "placeholder": "​",
            "style": "IPY_MODEL_9ff238b8864b49169a7568d2913584f0",
            "value": " 2551/2551 [00:00&lt;00:00, 134742.97it/s]"
          }
        },
        "47b04be86dfc45e48e0dcd271170f383": {
          "model_module": "@jupyter-widgets/base",
          "model_name": "LayoutModel",
          "model_module_version": "1.2.0",
          "state": {
            "_model_module": "@jupyter-widgets/base",
            "_model_module_version": "1.2.0",
            "_model_name": "LayoutModel",
            "_view_count": null,
            "_view_module": "@jupyter-widgets/base",
            "_view_module_version": "1.2.0",
            "_view_name": "LayoutView",
            "align_content": null,
            "align_items": null,
            "align_self": null,
            "border": null,
            "bottom": null,
            "display": null,
            "flex": null,
            "flex_flow": null,
            "grid_area": null,
            "grid_auto_columns": null,
            "grid_auto_flow": null,
            "grid_auto_rows": null,
            "grid_column": null,
            "grid_gap": null,
            "grid_row": null,
            "grid_template_areas": null,
            "grid_template_columns": null,
            "grid_template_rows": null,
            "height": null,
            "justify_content": null,
            "justify_items": null,
            "left": null,
            "margin": null,
            "max_height": null,
            "max_width": null,
            "min_height": null,
            "min_width": null,
            "object_fit": null,
            "object_position": null,
            "order": null,
            "overflow": null,
            "overflow_x": null,
            "overflow_y": null,
            "padding": null,
            "right": null,
            "top": null,
            "visibility": null,
            "width": null
          }
        },
        "cdeed62f67e547d8a0ebfb8ce68b9f19": {
          "model_module": "@jupyter-widgets/base",
          "model_name": "LayoutModel",
          "model_module_version": "1.2.0",
          "state": {
            "_model_module": "@jupyter-widgets/base",
            "_model_module_version": "1.2.0",
            "_model_name": "LayoutModel",
            "_view_count": null,
            "_view_module": "@jupyter-widgets/base",
            "_view_module_version": "1.2.0",
            "_view_name": "LayoutView",
            "align_content": null,
            "align_items": null,
            "align_self": null,
            "border": null,
            "bottom": null,
            "display": null,
            "flex": null,
            "flex_flow": null,
            "grid_area": null,
            "grid_auto_columns": null,
            "grid_auto_flow": null,
            "grid_auto_rows": null,
            "grid_column": null,
            "grid_gap": null,
            "grid_row": null,
            "grid_template_areas": null,
            "grid_template_columns": null,
            "grid_template_rows": null,
            "height": null,
            "justify_content": null,
            "justify_items": null,
            "left": null,
            "margin": null,
            "max_height": null,
            "max_width": null,
            "min_height": null,
            "min_width": null,
            "object_fit": null,
            "object_position": null,
            "order": null,
            "overflow": null,
            "overflow_x": null,
            "overflow_y": null,
            "padding": null,
            "right": null,
            "top": null,
            "visibility": null,
            "width": null
          }
        },
        "3b64e80704c2403497ecba31c3f0f51d": {
          "model_module": "@jupyter-widgets/controls",
          "model_name": "DescriptionStyleModel",
          "model_module_version": "1.5.0",
          "state": {
            "_model_module": "@jupyter-widgets/controls",
            "_model_module_version": "1.5.0",
            "_model_name": "DescriptionStyleModel",
            "_view_count": null,
            "_view_module": "@jupyter-widgets/base",
            "_view_module_version": "1.2.0",
            "_view_name": "StyleView",
            "description_width": ""
          }
        },
        "39d0167d0aa14c9c8dc80aa17680815d": {
          "model_module": "@jupyter-widgets/base",
          "model_name": "LayoutModel",
          "model_module_version": "1.2.0",
          "state": {
            "_model_module": "@jupyter-widgets/base",
            "_model_module_version": "1.2.0",
            "_model_name": "LayoutModel",
            "_view_count": null,
            "_view_module": "@jupyter-widgets/base",
            "_view_module_version": "1.2.0",
            "_view_name": "LayoutView",
            "align_content": null,
            "align_items": null,
            "align_self": null,
            "border": null,
            "bottom": null,
            "display": null,
            "flex": null,
            "flex_flow": null,
            "grid_area": null,
            "grid_auto_columns": null,
            "grid_auto_flow": null,
            "grid_auto_rows": null,
            "grid_column": null,
            "grid_gap": null,
            "grid_row": null,
            "grid_template_areas": null,
            "grid_template_columns": null,
            "grid_template_rows": null,
            "height": null,
            "justify_content": null,
            "justify_items": null,
            "left": null,
            "margin": null,
            "max_height": null,
            "max_width": null,
            "min_height": null,
            "min_width": null,
            "object_fit": null,
            "object_position": null,
            "order": null,
            "overflow": null,
            "overflow_x": null,
            "overflow_y": null,
            "padding": null,
            "right": null,
            "top": null,
            "visibility": null,
            "width": null
          }
        },
        "edbc62cd068c4c60b1ddc224a14e0c9e": {
          "model_module": "@jupyter-widgets/controls",
          "model_name": "ProgressStyleModel",
          "model_module_version": "1.5.0",
          "state": {
            "_model_module": "@jupyter-widgets/controls",
            "_model_module_version": "1.5.0",
            "_model_name": "ProgressStyleModel",
            "_view_count": null,
            "_view_module": "@jupyter-widgets/base",
            "_view_module_version": "1.2.0",
            "_view_name": "StyleView",
            "bar_color": null,
            "description_width": ""
          }
        },
        "4a798382596f4cd294c7b9dbf08c9378": {
          "model_module": "@jupyter-widgets/base",
          "model_name": "LayoutModel",
          "model_module_version": "1.2.0",
          "state": {
            "_model_module": "@jupyter-widgets/base",
            "_model_module_version": "1.2.0",
            "_model_name": "LayoutModel",
            "_view_count": null,
            "_view_module": "@jupyter-widgets/base",
            "_view_module_version": "1.2.0",
            "_view_name": "LayoutView",
            "align_content": null,
            "align_items": null,
            "align_self": null,
            "border": null,
            "bottom": null,
            "display": null,
            "flex": null,
            "flex_flow": null,
            "grid_area": null,
            "grid_auto_columns": null,
            "grid_auto_flow": null,
            "grid_auto_rows": null,
            "grid_column": null,
            "grid_gap": null,
            "grid_row": null,
            "grid_template_areas": null,
            "grid_template_columns": null,
            "grid_template_rows": null,
            "height": null,
            "justify_content": null,
            "justify_items": null,
            "left": null,
            "margin": null,
            "max_height": null,
            "max_width": null,
            "min_height": null,
            "min_width": null,
            "object_fit": null,
            "object_position": null,
            "order": null,
            "overflow": null,
            "overflow_x": null,
            "overflow_y": null,
            "padding": null,
            "right": null,
            "top": null,
            "visibility": null,
            "width": null
          }
        },
        "9ff238b8864b49169a7568d2913584f0": {
          "model_module": "@jupyter-widgets/controls",
          "model_name": "DescriptionStyleModel",
          "model_module_version": "1.5.0",
          "state": {
            "_model_module": "@jupyter-widgets/controls",
            "_model_module_version": "1.5.0",
            "_model_name": "DescriptionStyleModel",
            "_view_count": null,
            "_view_module": "@jupyter-widgets/base",
            "_view_module_version": "1.2.0",
            "_view_name": "StyleView",
            "description_width": ""
          }
        },
        "34f1ede758034e469f4a3b89c56f2223": {
          "model_module": "@jupyter-widgets/controls",
          "model_name": "HBoxModel",
          "model_module_version": "1.5.0",
          "state": {
            "_dom_classes": [],
            "_model_module": "@jupyter-widgets/controls",
            "_model_module_version": "1.5.0",
            "_model_name": "HBoxModel",
            "_view_count": null,
            "_view_module": "@jupyter-widgets/controls",
            "_view_module_version": "1.5.0",
            "_view_name": "HBoxView",
            "box_style": "",
            "children": [
              "IPY_MODEL_12fed335c3f0497f90f5aabf5b901eaa",
              "IPY_MODEL_b284d22cb1504c7e8255040c4b5a680b",
              "IPY_MODEL_f40a38c369124d8abf09c78abdde9d3f"
            ],
            "layout": "IPY_MODEL_2f01cb03e1a34054bb9f0a208eb09bb1"
          }
        },
        "12fed335c3f0497f90f5aabf5b901eaa": {
          "model_module": "@jupyter-widgets/controls",
          "model_name": "HTMLModel",
          "model_module_version": "1.5.0",
          "state": {
            "_dom_classes": [],
            "_model_module": "@jupyter-widgets/controls",
            "_model_module_version": "1.5.0",
            "_model_name": "HTMLModel",
            "_view_count": null,
            "_view_module": "@jupyter-widgets/controls",
            "_view_module_version": "1.5.0",
            "_view_name": "HTMLView",
            "description": "",
            "description_tooltip": null,
            "layout": "IPY_MODEL_7222377c9e444f2fbb4109478ccb832f",
            "placeholder": "​",
            "style": "IPY_MODEL_4dcf8747c4da4b0ba56527a00b7ce656",
            "value": "100%"
          }
        },
        "b284d22cb1504c7e8255040c4b5a680b": {
          "model_module": "@jupyter-widgets/controls",
          "model_name": "FloatProgressModel",
          "model_module_version": "1.5.0",
          "state": {
            "_dom_classes": [],
            "_model_module": "@jupyter-widgets/controls",
            "_model_module_version": "1.5.0",
            "_model_name": "FloatProgressModel",
            "_view_count": null,
            "_view_module": "@jupyter-widgets/controls",
            "_view_module_version": "1.5.0",
            "_view_name": "ProgressView",
            "bar_style": "success",
            "description": "",
            "description_tooltip": null,
            "layout": "IPY_MODEL_00b5f9ca11be44a7bfbf76c10f3ea88c",
            "max": 13880,
            "min": 0,
            "orientation": "horizontal",
            "style": "IPY_MODEL_86b07a911fd946f0b5a9fc8b481ff8e5",
            "value": 13880
          }
        },
        "f40a38c369124d8abf09c78abdde9d3f": {
          "model_module": "@jupyter-widgets/controls",
          "model_name": "HTMLModel",
          "model_module_version": "1.5.0",
          "state": {
            "_dom_classes": [],
            "_model_module": "@jupyter-widgets/controls",
            "_model_module_version": "1.5.0",
            "_model_name": "HTMLModel",
            "_view_count": null,
            "_view_module": "@jupyter-widgets/controls",
            "_view_module_version": "1.5.0",
            "_view_name": "HTMLView",
            "description": "",
            "description_tooltip": null,
            "layout": "IPY_MODEL_4c4c5adda70646d2beb968d8b225815a",
            "placeholder": "​",
            "style": "IPY_MODEL_359b259c57db4f06af3daad5d47b05b9",
            "value": " 13880/13880 [00:00&lt;00:00, 394025.95it/s]"
          }
        },
        "2f01cb03e1a34054bb9f0a208eb09bb1": {
          "model_module": "@jupyter-widgets/base",
          "model_name": "LayoutModel",
          "model_module_version": "1.2.0",
          "state": {
            "_model_module": "@jupyter-widgets/base",
            "_model_module_version": "1.2.0",
            "_model_name": "LayoutModel",
            "_view_count": null,
            "_view_module": "@jupyter-widgets/base",
            "_view_module_version": "1.2.0",
            "_view_name": "LayoutView",
            "align_content": null,
            "align_items": null,
            "align_self": null,
            "border": null,
            "bottom": null,
            "display": null,
            "flex": null,
            "flex_flow": null,
            "grid_area": null,
            "grid_auto_columns": null,
            "grid_auto_flow": null,
            "grid_auto_rows": null,
            "grid_column": null,
            "grid_gap": null,
            "grid_row": null,
            "grid_template_areas": null,
            "grid_template_columns": null,
            "grid_template_rows": null,
            "height": null,
            "justify_content": null,
            "justify_items": null,
            "left": null,
            "margin": null,
            "max_height": null,
            "max_width": null,
            "min_height": null,
            "min_width": null,
            "object_fit": null,
            "object_position": null,
            "order": null,
            "overflow": null,
            "overflow_x": null,
            "overflow_y": null,
            "padding": null,
            "right": null,
            "top": null,
            "visibility": null,
            "width": null
          }
        },
        "7222377c9e444f2fbb4109478ccb832f": {
          "model_module": "@jupyter-widgets/base",
          "model_name": "LayoutModel",
          "model_module_version": "1.2.0",
          "state": {
            "_model_module": "@jupyter-widgets/base",
            "_model_module_version": "1.2.0",
            "_model_name": "LayoutModel",
            "_view_count": null,
            "_view_module": "@jupyter-widgets/base",
            "_view_module_version": "1.2.0",
            "_view_name": "LayoutView",
            "align_content": null,
            "align_items": null,
            "align_self": null,
            "border": null,
            "bottom": null,
            "display": null,
            "flex": null,
            "flex_flow": null,
            "grid_area": null,
            "grid_auto_columns": null,
            "grid_auto_flow": null,
            "grid_auto_rows": null,
            "grid_column": null,
            "grid_gap": null,
            "grid_row": null,
            "grid_template_areas": null,
            "grid_template_columns": null,
            "grid_template_rows": null,
            "height": null,
            "justify_content": null,
            "justify_items": null,
            "left": null,
            "margin": null,
            "max_height": null,
            "max_width": null,
            "min_height": null,
            "min_width": null,
            "object_fit": null,
            "object_position": null,
            "order": null,
            "overflow": null,
            "overflow_x": null,
            "overflow_y": null,
            "padding": null,
            "right": null,
            "top": null,
            "visibility": null,
            "width": null
          }
        },
        "4dcf8747c4da4b0ba56527a00b7ce656": {
          "model_module": "@jupyter-widgets/controls",
          "model_name": "DescriptionStyleModel",
          "model_module_version": "1.5.0",
          "state": {
            "_model_module": "@jupyter-widgets/controls",
            "_model_module_version": "1.5.0",
            "_model_name": "DescriptionStyleModel",
            "_view_count": null,
            "_view_module": "@jupyter-widgets/base",
            "_view_module_version": "1.2.0",
            "_view_name": "StyleView",
            "description_width": ""
          }
        },
        "00b5f9ca11be44a7bfbf76c10f3ea88c": {
          "model_module": "@jupyter-widgets/base",
          "model_name": "LayoutModel",
          "model_module_version": "1.2.0",
          "state": {
            "_model_module": "@jupyter-widgets/base",
            "_model_module_version": "1.2.0",
            "_model_name": "LayoutModel",
            "_view_count": null,
            "_view_module": "@jupyter-widgets/base",
            "_view_module_version": "1.2.0",
            "_view_name": "LayoutView",
            "align_content": null,
            "align_items": null,
            "align_self": null,
            "border": null,
            "bottom": null,
            "display": null,
            "flex": null,
            "flex_flow": null,
            "grid_area": null,
            "grid_auto_columns": null,
            "grid_auto_flow": null,
            "grid_auto_rows": null,
            "grid_column": null,
            "grid_gap": null,
            "grid_row": null,
            "grid_template_areas": null,
            "grid_template_columns": null,
            "grid_template_rows": null,
            "height": null,
            "justify_content": null,
            "justify_items": null,
            "left": null,
            "margin": null,
            "max_height": null,
            "max_width": null,
            "min_height": null,
            "min_width": null,
            "object_fit": null,
            "object_position": null,
            "order": null,
            "overflow": null,
            "overflow_x": null,
            "overflow_y": null,
            "padding": null,
            "right": null,
            "top": null,
            "visibility": null,
            "width": null
          }
        },
        "86b07a911fd946f0b5a9fc8b481ff8e5": {
          "model_module": "@jupyter-widgets/controls",
          "model_name": "ProgressStyleModel",
          "model_module_version": "1.5.0",
          "state": {
            "_model_module": "@jupyter-widgets/controls",
            "_model_module_version": "1.5.0",
            "_model_name": "ProgressStyleModel",
            "_view_count": null,
            "_view_module": "@jupyter-widgets/base",
            "_view_module_version": "1.2.0",
            "_view_name": "StyleView",
            "bar_color": null,
            "description_width": ""
          }
        },
        "4c4c5adda70646d2beb968d8b225815a": {
          "model_module": "@jupyter-widgets/base",
          "model_name": "LayoutModel",
          "model_module_version": "1.2.0",
          "state": {
            "_model_module": "@jupyter-widgets/base",
            "_model_module_version": "1.2.0",
            "_model_name": "LayoutModel",
            "_view_count": null,
            "_view_module": "@jupyter-widgets/base",
            "_view_module_version": "1.2.0",
            "_view_name": "LayoutView",
            "align_content": null,
            "align_items": null,
            "align_self": null,
            "border": null,
            "bottom": null,
            "display": null,
            "flex": null,
            "flex_flow": null,
            "grid_area": null,
            "grid_auto_columns": null,
            "grid_auto_flow": null,
            "grid_auto_rows": null,
            "grid_column": null,
            "grid_gap": null,
            "grid_row": null,
            "grid_template_areas": null,
            "grid_template_columns": null,
            "grid_template_rows": null,
            "height": null,
            "justify_content": null,
            "justify_items": null,
            "left": null,
            "margin": null,
            "max_height": null,
            "max_width": null,
            "min_height": null,
            "min_width": null,
            "object_fit": null,
            "object_position": null,
            "order": null,
            "overflow": null,
            "overflow_x": null,
            "overflow_y": null,
            "padding": null,
            "right": null,
            "top": null,
            "visibility": null,
            "width": null
          }
        },
        "359b259c57db4f06af3daad5d47b05b9": {
          "model_module": "@jupyter-widgets/controls",
          "model_name": "DescriptionStyleModel",
          "model_module_version": "1.5.0",
          "state": {
            "_model_module": "@jupyter-widgets/controls",
            "_model_module_version": "1.5.0",
            "_model_name": "DescriptionStyleModel",
            "_view_count": null,
            "_view_module": "@jupyter-widgets/base",
            "_view_module_version": "1.2.0",
            "_view_name": "StyleView",
            "description_width": ""
          }
        },
        "da471450b5774a54b9551fdaa9e5fc70": {
          "model_module": "@jupyter-widgets/controls",
          "model_name": "HBoxModel",
          "model_module_version": "1.5.0",
          "state": {
            "_dom_classes": [],
            "_model_module": "@jupyter-widgets/controls",
            "_model_module_version": "1.5.0",
            "_model_name": "HBoxModel",
            "_view_count": null,
            "_view_module": "@jupyter-widgets/controls",
            "_view_module_version": "1.5.0",
            "_view_name": "HBoxView",
            "box_style": "",
            "children": [
              "IPY_MODEL_b5d186269ba6435c830b0e75d2a19e52",
              "IPY_MODEL_c88bc1196d9a4dbeada441c7fd45420a",
              "IPY_MODEL_805eb788e1444ec4a004bb73d324e3c7"
            ],
            "layout": "IPY_MODEL_bceac3b7d0184956b02c813c3b5713c0"
          }
        },
        "b5d186269ba6435c830b0e75d2a19e52": {
          "model_module": "@jupyter-widgets/controls",
          "model_name": "HTMLModel",
          "model_module_version": "1.5.0",
          "state": {
            "_dom_classes": [],
            "_model_module": "@jupyter-widgets/controls",
            "_model_module_version": "1.5.0",
            "_model_name": "HTMLModel",
            "_view_count": null,
            "_view_module": "@jupyter-widgets/controls",
            "_view_module_version": "1.5.0",
            "_view_name": "HTMLView",
            "description": "",
            "description_tooltip": null,
            "layout": "IPY_MODEL_54c3f171be024fe3951e9374f10312ac",
            "placeholder": "​",
            "style": "IPY_MODEL_ea8ace9359874b2e9e3c859de008ef0f",
            "value": "100%"
          }
        },
        "c88bc1196d9a4dbeada441c7fd45420a": {
          "model_module": "@jupyter-widgets/controls",
          "model_name": "FloatProgressModel",
          "model_module_version": "1.5.0",
          "state": {
            "_dom_classes": [],
            "_model_module": "@jupyter-widgets/controls",
            "_model_module_version": "1.5.0",
            "_model_name": "FloatProgressModel",
            "_view_count": null,
            "_view_module": "@jupyter-widgets/controls",
            "_view_module_version": "1.5.0",
            "_view_name": "ProgressView",
            "bar_style": "success",
            "description": "",
            "description_tooltip": null,
            "layout": "IPY_MODEL_a291b8d47b3842f69cbb33aace57df30",
            "max": 11060,
            "min": 0,
            "orientation": "horizontal",
            "style": "IPY_MODEL_99f432181a6c40bcb54743615ada210b",
            "value": 11060
          }
        },
        "805eb788e1444ec4a004bb73d324e3c7": {
          "model_module": "@jupyter-widgets/controls",
          "model_name": "HTMLModel",
          "model_module_version": "1.5.0",
          "state": {
            "_dom_classes": [],
            "_model_module": "@jupyter-widgets/controls",
            "_model_module_version": "1.5.0",
            "_model_name": "HTMLModel",
            "_view_count": null,
            "_view_module": "@jupyter-widgets/controls",
            "_view_module_version": "1.5.0",
            "_view_name": "HTMLView",
            "description": "",
            "description_tooltip": null,
            "layout": "IPY_MODEL_c7e50a5f2a384fff8751e1b62ed18abc",
            "placeholder": "​",
            "style": "IPY_MODEL_4228fd6676d4411ca27212fa8727dcda",
            "value": " 11060/11060 [00:00&lt;00:00, 17238.64it/s]"
          }
        },
        "bceac3b7d0184956b02c813c3b5713c0": {
          "model_module": "@jupyter-widgets/base",
          "model_name": "LayoutModel",
          "model_module_version": "1.2.0",
          "state": {
            "_model_module": "@jupyter-widgets/base",
            "_model_module_version": "1.2.0",
            "_model_name": "LayoutModel",
            "_view_count": null,
            "_view_module": "@jupyter-widgets/base",
            "_view_module_version": "1.2.0",
            "_view_name": "LayoutView",
            "align_content": null,
            "align_items": null,
            "align_self": null,
            "border": null,
            "bottom": null,
            "display": null,
            "flex": null,
            "flex_flow": null,
            "grid_area": null,
            "grid_auto_columns": null,
            "grid_auto_flow": null,
            "grid_auto_rows": null,
            "grid_column": null,
            "grid_gap": null,
            "grid_row": null,
            "grid_template_areas": null,
            "grid_template_columns": null,
            "grid_template_rows": null,
            "height": null,
            "justify_content": null,
            "justify_items": null,
            "left": null,
            "margin": null,
            "max_height": null,
            "max_width": null,
            "min_height": null,
            "min_width": null,
            "object_fit": null,
            "object_position": null,
            "order": null,
            "overflow": null,
            "overflow_x": null,
            "overflow_y": null,
            "padding": null,
            "right": null,
            "top": null,
            "visibility": null,
            "width": null
          }
        },
        "54c3f171be024fe3951e9374f10312ac": {
          "model_module": "@jupyter-widgets/base",
          "model_name": "LayoutModel",
          "model_module_version": "1.2.0",
          "state": {
            "_model_module": "@jupyter-widgets/base",
            "_model_module_version": "1.2.0",
            "_model_name": "LayoutModel",
            "_view_count": null,
            "_view_module": "@jupyter-widgets/base",
            "_view_module_version": "1.2.0",
            "_view_name": "LayoutView",
            "align_content": null,
            "align_items": null,
            "align_self": null,
            "border": null,
            "bottom": null,
            "display": null,
            "flex": null,
            "flex_flow": null,
            "grid_area": null,
            "grid_auto_columns": null,
            "grid_auto_flow": null,
            "grid_auto_rows": null,
            "grid_column": null,
            "grid_gap": null,
            "grid_row": null,
            "grid_template_areas": null,
            "grid_template_columns": null,
            "grid_template_rows": null,
            "height": null,
            "justify_content": null,
            "justify_items": null,
            "left": null,
            "margin": null,
            "max_height": null,
            "max_width": null,
            "min_height": null,
            "min_width": null,
            "object_fit": null,
            "object_position": null,
            "order": null,
            "overflow": null,
            "overflow_x": null,
            "overflow_y": null,
            "padding": null,
            "right": null,
            "top": null,
            "visibility": null,
            "width": null
          }
        },
        "ea8ace9359874b2e9e3c859de008ef0f": {
          "model_module": "@jupyter-widgets/controls",
          "model_name": "DescriptionStyleModel",
          "model_module_version": "1.5.0",
          "state": {
            "_model_module": "@jupyter-widgets/controls",
            "_model_module_version": "1.5.0",
            "_model_name": "DescriptionStyleModel",
            "_view_count": null,
            "_view_module": "@jupyter-widgets/base",
            "_view_module_version": "1.2.0",
            "_view_name": "StyleView",
            "description_width": ""
          }
        },
        "a291b8d47b3842f69cbb33aace57df30": {
          "model_module": "@jupyter-widgets/base",
          "model_name": "LayoutModel",
          "model_module_version": "1.2.0",
          "state": {
            "_model_module": "@jupyter-widgets/base",
            "_model_module_version": "1.2.0",
            "_model_name": "LayoutModel",
            "_view_count": null,
            "_view_module": "@jupyter-widgets/base",
            "_view_module_version": "1.2.0",
            "_view_name": "LayoutView",
            "align_content": null,
            "align_items": null,
            "align_self": null,
            "border": null,
            "bottom": null,
            "display": null,
            "flex": null,
            "flex_flow": null,
            "grid_area": null,
            "grid_auto_columns": null,
            "grid_auto_flow": null,
            "grid_auto_rows": null,
            "grid_column": null,
            "grid_gap": null,
            "grid_row": null,
            "grid_template_areas": null,
            "grid_template_columns": null,
            "grid_template_rows": null,
            "height": null,
            "justify_content": null,
            "justify_items": null,
            "left": null,
            "margin": null,
            "max_height": null,
            "max_width": null,
            "min_height": null,
            "min_width": null,
            "object_fit": null,
            "object_position": null,
            "order": null,
            "overflow": null,
            "overflow_x": null,
            "overflow_y": null,
            "padding": null,
            "right": null,
            "top": null,
            "visibility": null,
            "width": null
          }
        },
        "99f432181a6c40bcb54743615ada210b": {
          "model_module": "@jupyter-widgets/controls",
          "model_name": "ProgressStyleModel",
          "model_module_version": "1.5.0",
          "state": {
            "_model_module": "@jupyter-widgets/controls",
            "_model_module_version": "1.5.0",
            "_model_name": "ProgressStyleModel",
            "_view_count": null,
            "_view_module": "@jupyter-widgets/base",
            "_view_module_version": "1.2.0",
            "_view_name": "StyleView",
            "bar_color": null,
            "description_width": ""
          }
        },
        "c7e50a5f2a384fff8751e1b62ed18abc": {
          "model_module": "@jupyter-widgets/base",
          "model_name": "LayoutModel",
          "model_module_version": "1.2.0",
          "state": {
            "_model_module": "@jupyter-widgets/base",
            "_model_module_version": "1.2.0",
            "_model_name": "LayoutModel",
            "_view_count": null,
            "_view_module": "@jupyter-widgets/base",
            "_view_module_version": "1.2.0",
            "_view_name": "LayoutView",
            "align_content": null,
            "align_items": null,
            "align_self": null,
            "border": null,
            "bottom": null,
            "display": null,
            "flex": null,
            "flex_flow": null,
            "grid_area": null,
            "grid_auto_columns": null,
            "grid_auto_flow": null,
            "grid_auto_rows": null,
            "grid_column": null,
            "grid_gap": null,
            "grid_row": null,
            "grid_template_areas": null,
            "grid_template_columns": null,
            "grid_template_rows": null,
            "height": null,
            "justify_content": null,
            "justify_items": null,
            "left": null,
            "margin": null,
            "max_height": null,
            "max_width": null,
            "min_height": null,
            "min_width": null,
            "object_fit": null,
            "object_position": null,
            "order": null,
            "overflow": null,
            "overflow_x": null,
            "overflow_y": null,
            "padding": null,
            "right": null,
            "top": null,
            "visibility": null,
            "width": null
          }
        },
        "4228fd6676d4411ca27212fa8727dcda": {
          "model_module": "@jupyter-widgets/controls",
          "model_name": "DescriptionStyleModel",
          "model_module_version": "1.5.0",
          "state": {
            "_model_module": "@jupyter-widgets/controls",
            "_model_module_version": "1.5.0",
            "_model_name": "DescriptionStyleModel",
            "_view_count": null,
            "_view_module": "@jupyter-widgets/base",
            "_view_module_version": "1.2.0",
            "_view_name": "StyleView",
            "description_width": ""
          }
        },
        "7fc515fb8ecf4e4b9e91c7a9f214b680": {
          "model_module": "@jupyter-widgets/controls",
          "model_name": "HBoxModel",
          "model_module_version": "1.5.0",
          "state": {
            "_dom_classes": [],
            "_model_module": "@jupyter-widgets/controls",
            "_model_module_version": "1.5.0",
            "_model_name": "HBoxModel",
            "_view_count": null,
            "_view_module": "@jupyter-widgets/controls",
            "_view_module_version": "1.5.0",
            "_view_name": "HBoxView",
            "box_style": "",
            "children": [
              "IPY_MODEL_7f69baee48fe49248812e165b836c767",
              "IPY_MODEL_54548132c92b47d0a06e0d5e524fd92c",
              "IPY_MODEL_b580892124a04be19200a44e4bf402e0"
            ],
            "layout": "IPY_MODEL_036245f6522d4e40ac716b9053bae70d"
          }
        },
        "7f69baee48fe49248812e165b836c767": {
          "model_module": "@jupyter-widgets/controls",
          "model_name": "HTMLModel",
          "model_module_version": "1.5.0",
          "state": {
            "_dom_classes": [],
            "_model_module": "@jupyter-widgets/controls",
            "_model_module_version": "1.5.0",
            "_model_name": "HTMLModel",
            "_view_count": null,
            "_view_module": "@jupyter-widgets/controls",
            "_view_module_version": "1.5.0",
            "_view_name": "HTMLView",
            "description": "",
            "description_tooltip": null,
            "layout": "IPY_MODEL_c71b917e36504f42ba6af33b8bf4bec8",
            "placeholder": "​",
            "style": "IPY_MODEL_d71fda8f45b0452d8d9a3646562fce2d",
            "value": ""
          }
        },
        "54548132c92b47d0a06e0d5e524fd92c": {
          "model_module": "@jupyter-widgets/controls",
          "model_name": "FloatProgressModel",
          "model_module_version": "1.5.0",
          "state": {
            "_dom_classes": [],
            "_model_module": "@jupyter-widgets/controls",
            "_model_module_version": "1.5.0",
            "_model_name": "FloatProgressModel",
            "_view_count": null,
            "_view_module": "@jupyter-widgets/controls",
            "_view_module_version": "1.5.0",
            "_view_name": "ProgressView",
            "bar_style": "info",
            "description": "",
            "description_tooltip": null,
            "layout": "IPY_MODEL_3b9092a8514c45d488dfcf5d514524c9",
            "max": 1,
            "min": 0,
            "orientation": "horizontal",
            "style": "IPY_MODEL_d8d00154c9424b2eb3b7a5937e85a23e",
            "value": 0
          }
        },
        "b580892124a04be19200a44e4bf402e0": {
          "model_module": "@jupyter-widgets/controls",
          "model_name": "HTMLModel",
          "model_module_version": "1.5.0",
          "state": {
            "_dom_classes": [],
            "_model_module": "@jupyter-widgets/controls",
            "_model_module_version": "1.5.0",
            "_model_name": "HTMLModel",
            "_view_count": null,
            "_view_module": "@jupyter-widgets/controls",
            "_view_module_version": "1.5.0",
            "_view_name": "HTMLView",
            "description": "",
            "description_tooltip": null,
            "layout": "IPY_MODEL_6526b923bc7f441e8e5479fe1c095bd1",
            "placeholder": "​",
            "style": "IPY_MODEL_76c4ae426001460e95bb92716110c58a",
            "value": " 0/? [00:00&lt;?, ?it/s]"
          }
        },
        "036245f6522d4e40ac716b9053bae70d": {
          "model_module": "@jupyter-widgets/base",
          "model_name": "LayoutModel",
          "model_module_version": "1.2.0",
          "state": {
            "_model_module": "@jupyter-widgets/base",
            "_model_module_version": "1.2.0",
            "_model_name": "LayoutModel",
            "_view_count": null,
            "_view_module": "@jupyter-widgets/base",
            "_view_module_version": "1.2.0",
            "_view_name": "LayoutView",
            "align_content": null,
            "align_items": null,
            "align_self": null,
            "border": null,
            "bottom": null,
            "display": null,
            "flex": null,
            "flex_flow": null,
            "grid_area": null,
            "grid_auto_columns": null,
            "grid_auto_flow": null,
            "grid_auto_rows": null,
            "grid_column": null,
            "grid_gap": null,
            "grid_row": null,
            "grid_template_areas": null,
            "grid_template_columns": null,
            "grid_template_rows": null,
            "height": null,
            "justify_content": null,
            "justify_items": null,
            "left": null,
            "margin": null,
            "max_height": null,
            "max_width": null,
            "min_height": null,
            "min_width": null,
            "object_fit": null,
            "object_position": null,
            "order": null,
            "overflow": null,
            "overflow_x": null,
            "overflow_y": null,
            "padding": null,
            "right": null,
            "top": null,
            "visibility": null,
            "width": null
          }
        },
        "c71b917e36504f42ba6af33b8bf4bec8": {
          "model_module": "@jupyter-widgets/base",
          "model_name": "LayoutModel",
          "model_module_version": "1.2.0",
          "state": {
            "_model_module": "@jupyter-widgets/base",
            "_model_module_version": "1.2.0",
            "_model_name": "LayoutModel",
            "_view_count": null,
            "_view_module": "@jupyter-widgets/base",
            "_view_module_version": "1.2.0",
            "_view_name": "LayoutView",
            "align_content": null,
            "align_items": null,
            "align_self": null,
            "border": null,
            "bottom": null,
            "display": null,
            "flex": null,
            "flex_flow": null,
            "grid_area": null,
            "grid_auto_columns": null,
            "grid_auto_flow": null,
            "grid_auto_rows": null,
            "grid_column": null,
            "grid_gap": null,
            "grid_row": null,
            "grid_template_areas": null,
            "grid_template_columns": null,
            "grid_template_rows": null,
            "height": null,
            "justify_content": null,
            "justify_items": null,
            "left": null,
            "margin": null,
            "max_height": null,
            "max_width": null,
            "min_height": null,
            "min_width": null,
            "object_fit": null,
            "object_position": null,
            "order": null,
            "overflow": null,
            "overflow_x": null,
            "overflow_y": null,
            "padding": null,
            "right": null,
            "top": null,
            "visibility": null,
            "width": null
          }
        },
        "d71fda8f45b0452d8d9a3646562fce2d": {
          "model_module": "@jupyter-widgets/controls",
          "model_name": "DescriptionStyleModel",
          "model_module_version": "1.5.0",
          "state": {
            "_model_module": "@jupyter-widgets/controls",
            "_model_module_version": "1.5.0",
            "_model_name": "DescriptionStyleModel",
            "_view_count": null,
            "_view_module": "@jupyter-widgets/base",
            "_view_module_version": "1.2.0",
            "_view_name": "StyleView",
            "description_width": ""
          }
        },
        "3b9092a8514c45d488dfcf5d514524c9": {
          "model_module": "@jupyter-widgets/base",
          "model_name": "LayoutModel",
          "model_module_version": "1.2.0",
          "state": {
            "_model_module": "@jupyter-widgets/base",
            "_model_module_version": "1.2.0",
            "_model_name": "LayoutModel",
            "_view_count": null,
            "_view_module": "@jupyter-widgets/base",
            "_view_module_version": "1.2.0",
            "_view_name": "LayoutView",
            "align_content": null,
            "align_items": null,
            "align_self": null,
            "border": null,
            "bottom": null,
            "display": null,
            "flex": null,
            "flex_flow": null,
            "grid_area": null,
            "grid_auto_columns": null,
            "grid_auto_flow": null,
            "grid_auto_rows": null,
            "grid_column": null,
            "grid_gap": null,
            "grid_row": null,
            "grid_template_areas": null,
            "grid_template_columns": null,
            "grid_template_rows": null,
            "height": null,
            "justify_content": null,
            "justify_items": null,
            "left": null,
            "margin": null,
            "max_height": null,
            "max_width": null,
            "min_height": null,
            "min_width": null,
            "object_fit": null,
            "object_position": null,
            "order": null,
            "overflow": null,
            "overflow_x": null,
            "overflow_y": null,
            "padding": null,
            "right": null,
            "top": null,
            "visibility": null,
            "width": "20px"
          }
        },
        "d8d00154c9424b2eb3b7a5937e85a23e": {
          "model_module": "@jupyter-widgets/controls",
          "model_name": "ProgressStyleModel",
          "model_module_version": "1.5.0",
          "state": {
            "_model_module": "@jupyter-widgets/controls",
            "_model_module_version": "1.5.0",
            "_model_name": "ProgressStyleModel",
            "_view_count": null,
            "_view_module": "@jupyter-widgets/base",
            "_view_module_version": "1.2.0",
            "_view_name": "StyleView",
            "bar_color": null,
            "description_width": ""
          }
        },
        "6526b923bc7f441e8e5479fe1c095bd1": {
          "model_module": "@jupyter-widgets/base",
          "model_name": "LayoutModel",
          "model_module_version": "1.2.0",
          "state": {
            "_model_module": "@jupyter-widgets/base",
            "_model_module_version": "1.2.0",
            "_model_name": "LayoutModel",
            "_view_count": null,
            "_view_module": "@jupyter-widgets/base",
            "_view_module_version": "1.2.0",
            "_view_name": "LayoutView",
            "align_content": null,
            "align_items": null,
            "align_self": null,
            "border": null,
            "bottom": null,
            "display": null,
            "flex": null,
            "flex_flow": null,
            "grid_area": null,
            "grid_auto_columns": null,
            "grid_auto_flow": null,
            "grid_auto_rows": null,
            "grid_column": null,
            "grid_gap": null,
            "grid_row": null,
            "grid_template_areas": null,
            "grid_template_columns": null,
            "grid_template_rows": null,
            "height": null,
            "justify_content": null,
            "justify_items": null,
            "left": null,
            "margin": null,
            "max_height": null,
            "max_width": null,
            "min_height": null,
            "min_width": null,
            "object_fit": null,
            "object_position": null,
            "order": null,
            "overflow": null,
            "overflow_x": null,
            "overflow_y": null,
            "padding": null,
            "right": null,
            "top": null,
            "visibility": null,
            "width": null
          }
        },
        "76c4ae426001460e95bb92716110c58a": {
          "model_module": "@jupyter-widgets/controls",
          "model_name": "DescriptionStyleModel",
          "model_module_version": "1.5.0",
          "state": {
            "_model_module": "@jupyter-widgets/controls",
            "_model_module_version": "1.5.0",
            "_model_name": "DescriptionStyleModel",
            "_view_count": null,
            "_view_module": "@jupyter-widgets/base",
            "_view_module_version": "1.2.0",
            "_view_name": "StyleView",
            "description_width": ""
          }
        }
      }
    }
  },
  "cells": [
    {
      "cell_type": "markdown",
      "source": [
        "# data moving"
      ],
      "metadata": {
        "id": "tAMWh8EvJQ3o"
      }
    },
    {
      "cell_type": "code",
      "source": [
        "from google.colab import drive\n",
        "drive.mount('/content/drive',force_remount = True)"
      ],
      "metadata": {
        "colab": {
          "base_uri": "https://localhost:8080/"
        },
        "id": "j9Wpg3J_gUBn",
        "outputId": "c68c5242-51e6-436f-cbd8-924bbecac064"
      },
      "execution_count": null,
      "outputs": [
        {
          "output_type": "stream",
          "name": "stdout",
          "text": [
            "Mounted at /content/drive\n"
          ]
        }
      ]
    },
    {
      "cell_type": "code",
      "execution_count": null,
      "metadata": {
        "id": "tPgc7bT9IQP3"
      },
      "outputs": [],
      "source": [
        "import os\n",
        "import shutil\n",
        "import pickle\n",
        "\n",
        "from tqdm.auto import tqdm"
      ]
    },
    {
      "cell_type": "code",
      "source": [
        "data_list = os.listdir(\"/content/drive/MyDrive/fashiondata/Valdata/val/페미닌\")\n"
      ],
      "metadata": {
        "id": "ENi4G8iHK8oW"
      },
      "execution_count": null,
      "outputs": []
    },
    {
      "cell_type": "code",
      "source": [
        "len(data_list)"
      ],
      "metadata": {
        "colab": {
          "base_uri": "https://localhost:8080/"
        },
        "id": "-6bdCdYqLG5Q",
        "outputId": "06afa74c-1f1e-4e26-fd93-ae29cee9b198"
      },
      "execution_count": null,
      "outputs": [
        {
          "output_type": "execute_result",
          "data": {
            "text/plain": [
              "10990"
            ]
          },
          "metadata": {},
          "execution_count": 443
        }
      ]
    },
    {
      "cell_type": "code",
      "source": [
        "data_list1 = os.listdir(\"/content/drive/MyDrive/fashiondata/data/train1/소피스트케이티드1\")"
      ],
      "metadata": {
        "id": "61Z0YexLx08O"
      },
      "execution_count": null,
      "outputs": []
    },
    {
      "cell_type": "code",
      "source": [
        "data_list2 = os.listdir(\"/content/drive/MyDrive/fashiondata/data/train1/리조트1\")"
      ],
      "metadata": {
        "id": "_WBElpOE4IW8"
      },
      "execution_count": null,
      "outputs": []
    },
    {
      "cell_type": "code",
      "source": [
        "len(data_list1)"
      ],
      "metadata": {
        "colab": {
          "base_uri": "https://localhost:8080/"
        },
        "id": "dNaPv5rFx2Z2",
        "outputId": "ccd34233-1cac-4031-a979-108a9090210f"
      },
      "execution_count": null,
      "outputs": [
        {
          "output_type": "execute_result",
          "data": {
            "text/plain": [
              "0"
            ]
          },
          "metadata": {},
          "execution_count": 415
        }
      ]
    },
    {
      "cell_type": "code",
      "source": [
        "len(data_list2)"
      ],
      "metadata": {
        "colab": {
          "base_uri": "https://localhost:8080/"
        },
        "id": "hFkGow7G4Lua",
        "outputId": "cfc358f9-f659-45c5-d3be-229f40a1efc5"
      },
      "execution_count": null,
      "outputs": [
        {
          "output_type": "execute_result",
          "data": {
            "text/plain": [
              "2551"
            ]
          },
          "metadata": {},
          "execution_count": 357
        }
      ]
    },
    {
      "cell_type": "code",
      "source": [
        "new_data_list = []\n",
        "\n",
        "path = \"/content/drive/MyDrive/fashiondata/Valdata/val/페미닌/\"\n",
        "\n",
        "for filename in tqdm(data_list):\n",
        "\n",
        "    new_data_list.append(path+filename)    \n",
        "    "
      ],
      "metadata": {
        "colab": {
          "base_uri": "https://localhost:8080/",
          "height": 49,
          "referenced_widgets": [
            "2f5db7b7009547168cf8b00c54622e0b",
            "25c7a045a9f7412dbbea9523e4e052af",
            "126488fa97b14cb6a42db47fb2046738",
            "408eb513264e451a9c66ea2d5c35e3d9",
            "3bd713e213f84c99bbcc3810018a8ae7",
            "a56413d16de34b4282c7e63bf8b03cea",
            "5c6c8831da18419ba67fde863df0b887",
            "530613864532400fa956438711601247",
            "f52ad171387445c08744a429f20f2b88",
            "ca2e6e30d40e41a7a973e515596f8f6a",
            "2287b5e52e1b4a3a9abd8766dbea507b"
          ]
        },
        "id": "rIxJd3xEo-AX",
        "outputId": "a5373602-d56c-4677-9a62-50df5b50d3e2"
      },
      "execution_count": null,
      "outputs": [
        {
          "output_type": "display_data",
          "data": {
            "text/plain": [
              "  0%|          | 0/10990 [00:00<?, ?it/s]"
            ],
            "application/vnd.jupyter.widget-view+json": {
              "version_major": 2,
              "version_minor": 0,
              "model_id": "2f5db7b7009547168cf8b00c54622e0b"
            }
          },
          "metadata": {}
        }
      ]
    },
    {
      "cell_type": "code",
      "source": [
        "new_data_list1 = []\n",
        "\n",
        "path = \"/content/drive/MyDrive/fashiondata/style/data/train/리조트/\"\n",
        "\n",
        "for filename in tqdm(data_list1):\n",
        "\n",
        "    new_data_list1.append(path+filename)    "
      ],
      "metadata": {
        "colab": {
          "base_uri": "https://localhost:8080/",
          "height": 49,
          "referenced_widgets": [
            "cae9fb53462040dfb707c2edbbce56a5",
            "9790bcf10c6f4bf794c85b88dc6d996a",
            "176aec0cf91f485e99a4cc0390ebf146",
            "c287690b1a4c4b1895dc52c0d7d09de7",
            "efe3fba62aad4ab591feb89060898853",
            "f311cc2897e84bb5b570bbb40daf5d7f",
            "12ab095e2a0842be8018c0c6d85efd7a",
            "bf4392ef3eb74ab886ec6516377c0de7",
            "752696a3a8934d1b97c6004d22505560",
            "cab6f7a9931043488322388f049b2131",
            "425f02b30e014908a64adc0be2de7f11"
          ]
        },
        "id": "tmzdE-jryJyZ",
        "outputId": "6923eda8-0a58-46df-97f3-78ef1efcc168"
      },
      "execution_count": null,
      "outputs": [
        {
          "output_type": "display_data",
          "data": {
            "text/plain": [
              "  0%|          | 0/10980 [00:00<?, ?it/s]"
            ],
            "application/vnd.jupyter.widget-view+json": {
              "version_major": 2,
              "version_minor": 0,
              "model_id": "cae9fb53462040dfb707c2edbbce56a5"
            }
          },
          "metadata": {}
        }
      ]
    },
    {
      "cell_type": "code",
      "source": [
        "new_data_list2 = []\n",
        "\n",
        "path = \"/content/drive/MyDrive/fashiondata/data/train1/리조트1/\"\n",
        "\n",
        "for filename in tqdm(data_list2):\n",
        "\n",
        "    new_data_list2.append(path+filename)    "
      ],
      "metadata": {
        "colab": {
          "base_uri": "https://localhost:8080/",
          "height": 49,
          "referenced_widgets": [
            "d6e40b4bce964963aad495305e0b8075",
            "0fc67b672f5548afb605a4ce2a5db0f7",
            "39a41e10cc784f72b04ab815c2e1f26e",
            "28ff3abb4afe44619ec2924e657543d5",
            "47b04be86dfc45e48e0dcd271170f383",
            "cdeed62f67e547d8a0ebfb8ce68b9f19",
            "3b64e80704c2403497ecba31c3f0f51d",
            "39d0167d0aa14c9c8dc80aa17680815d",
            "edbc62cd068c4c60b1ddc224a14e0c9e",
            "4a798382596f4cd294c7b9dbf08c9378",
            "9ff238b8864b49169a7568d2913584f0"
          ]
        },
        "id": "DyB2L_ic4QHA",
        "outputId": "1135604c-ac76-4ae3-da84-5b010c514fef"
      },
      "execution_count": null,
      "outputs": [
        {
          "output_type": "display_data",
          "data": {
            "text/plain": [
              "  0%|          | 0/2551 [00:00<?, ?it/s]"
            ],
            "application/vnd.jupyter.widget-view+json": {
              "version_major": 2,
              "version_minor": 0,
              "model_id": "d6e40b4bce964963aad495305e0b8075"
            }
          },
          "metadata": {}
        }
      ]
    },
    {
      "cell_type": "code",
      "source": [
        "new_data_list = new_data_list + new_data_list1\n",
        "\n",
        "len(new_data_list)"
      ],
      "metadata": {
        "colab": {
          "base_uri": "https://localhost:8080/"
        },
        "id": "LlkgD8rUyNb9",
        "outputId": "a0d3fccf-b470-41ea-d1b5-9cdac0c8b21c"
      },
      "execution_count": null,
      "outputs": [
        {
          "output_type": "execute_result",
          "data": {
            "text/plain": [
              "73181"
            ]
          },
          "metadata": {},
          "execution_count": 352
        }
      ]
    },
    {
      "cell_type": "code",
      "source": [
        "new_data_list = new_data_list + new_data_list2\n",
        "\n",
        "len(new_data_list)"
      ],
      "metadata": {
        "colab": {
          "base_uri": "https://localhost:8080/"
        },
        "id": "BHjBl1-N4Xnv",
        "outputId": "0d59b781-5872-496f-dfb8-91115b86597f"
      },
      "execution_count": null,
      "outputs": [
        {
          "output_type": "execute_result",
          "data": {
            "text/plain": [
              "75732"
            ]
          },
          "metadata": {},
          "execution_count": 360
        }
      ]
    },
    {
      "cell_type": "code",
      "source": [
        "with open(\"/content/drive/MyDrive/pickle/val/페미닌/val_feminine.pkl\",\"wb\") as fw:\n",
        "    pickle.dump(new_data_list, fw)"
      ],
      "metadata": {
        "id": "yfPxV1U1sTBl"
      },
      "execution_count": null,
      "outputs": []
    },
    {
      "cell_type": "code",
      "source": [
        "len(new_data_list)"
      ],
      "metadata": {
        "colab": {
          "base_uri": "https://localhost:8080/"
        },
        "id": "7sdj6pTvpTu4",
        "outputId": "17c7eabc-87d7-4cb8-971a-d0fb4b60e7a8"
      },
      "execution_count": null,
      "outputs": [
        {
          "output_type": "execute_result",
          "data": {
            "text/plain": [
              "10990"
            ]
          },
          "metadata": {},
          "execution_count": 446
        }
      ]
    },
    {
      "cell_type": "code",
      "source": [
        "new_data_list[0]"
      ],
      "metadata": {
        "colab": {
          "base_uri": "https://localhost:8080/",
          "height": 35
        },
        "id": "eHwJeeQG00NU",
        "outputId": "14496903-3817-4606-dba2-7b5f621f6e4c"
      },
      "execution_count": null,
      "outputs": [
        {
          "output_type": "execute_result",
          "data": {
            "text/plain": [
              "'/content/drive/MyDrive/fashiondata/data/train3/페미닌/1342596.jpg'"
            ],
            "application/vnd.google.colaboratory.intrinsic+json": {
              "type": "string"
            }
          },
          "metadata": {},
          "execution_count": 292
        }
      ]
    },
    {
      "cell_type": "code",
      "source": [
        "val_data_list = os.listdir(\"/content/drive/MyDrive/fashiondata/Valdata/val/스트리트\")"
      ],
      "metadata": {
        "id": "7JgmMCSZgcBL"
      },
      "execution_count": null,
      "outputs": []
    },
    {
      "cell_type": "code",
      "source": [
        "len(val_data_list)"
      ],
      "metadata": {
        "colab": {
          "base_uri": "https://localhost:8080/"
        },
        "id": "v4_6ORlJi6rP",
        "outputId": "3093b62e-8fcd-4888-8350-b931cf590540"
      },
      "execution_count": null,
      "outputs": [
        {
          "output_type": "execute_result",
          "data": {
            "text/plain": [
              "13880"
            ]
          },
          "metadata": {},
          "execution_count": 155
        }
      ]
    },
    {
      "cell_type": "code",
      "source": [
        "with open(\"/content/drive/MyDrive/pickle/val/스트리트/val_street_v2.pkl\",\"wb\") as fw:\n",
        "    pickle.dump(new_data_list, fw)"
      ],
      "metadata": {
        "id": "K4Fe_y4ANO_N"
      },
      "execution_count": null,
      "outputs": []
    },
    {
      "cell_type": "code",
      "source": [
        "label_list = os.listdir(\"/content/drive/MyDrive/fashiondata/label/Validation/페미닌\")"
      ],
      "metadata": {
        "id": "N3FKGQ0SLBoD"
      },
      "execution_count": null,
      "outputs": []
    },
    {
      "cell_type": "code",
      "source": [
        "len(label_list)"
      ],
      "metadata": {
        "colab": {
          "base_uri": "https://localhost:8080/"
        },
        "id": "wauhtRVPtlDO",
        "outputId": "77a5e15b-0be8-496d-c701-1e15bbe191a1"
      },
      "execution_count": null,
      "outputs": [
        {
          "output_type": "execute_result",
          "data": {
            "text/plain": [
              "11060"
            ]
          },
          "metadata": {},
          "execution_count": 448
        }
      ]
    },
    {
      "cell_type": "code",
      "source": [
        "## check\n",
        "with open(\"/content/drive/MyDrive/pickle/val/스트리트/val_label_street.pkl\",\"rb\") as fr:\n",
        "    label_list = pickle.load(fr)"
      ],
      "metadata": {
        "id": "nYWjnll2rJyT"
      },
      "execution_count": null,
      "outputs": []
    },
    {
      "cell_type": "code",
      "source": [
        "len(label_list)"
      ],
      "metadata": {
        "colab": {
          "base_uri": "https://localhost:8080/"
        },
        "id": "WDWPXsCFOYks",
        "outputId": "4e0063c3-4a0d-4352-ea95-9930e81c336d"
      },
      "execution_count": null,
      "outputs": [
        {
          "output_type": "execute_result",
          "data": {
            "text/plain": [
              "1240"
            ]
          },
          "metadata": {},
          "execution_count": 173
        }
      ]
    },
    {
      "cell_type": "code",
      "source": [
        "new_label_list = []\n",
        "\n",
        "path = \"/content/drive/MyDrive/fashiondata/label/Validation/스트리트/\"\n",
        "\n",
        "for filename in tqdm(label_list):\n",
        "\n",
        "    new_label_list.append(path+filename)"
      ],
      "metadata": {
        "colab": {
          "base_uri": "https://localhost:8080/",
          "height": 49,
          "referenced_widgets": [
            "34f1ede758034e469f4a3b89c56f2223",
            "12fed335c3f0497f90f5aabf5b901eaa",
            "b284d22cb1504c7e8255040c4b5a680b",
            "f40a38c369124d8abf09c78abdde9d3f",
            "2f01cb03e1a34054bb9f0a208eb09bb1",
            "7222377c9e444f2fbb4109478ccb832f",
            "4dcf8747c4da4b0ba56527a00b7ce656",
            "00b5f9ca11be44a7bfbf76c10f3ea88c",
            "86b07a911fd946f0b5a9fc8b481ff8e5",
            "4c4c5adda70646d2beb968d8b225815a",
            "359b259c57db4f06af3daad5d47b05b9"
          ]
        },
        "id": "Nb7ZJj8ppyXR",
        "outputId": "61b3057d-e6f8-4ef4-86fb-252bea522537"
      },
      "execution_count": null,
      "outputs": [
        {
          "output_type": "display_data",
          "data": {
            "text/plain": [
              "  0%|          | 0/13880 [00:00<?, ?it/s]"
            ],
            "application/vnd.jupyter.widget-view+json": {
              "version_major": 2,
              "version_minor": 0,
              "model_id": "34f1ede758034e469f4a3b89c56f2223"
            }
          },
          "metadata": {}
        }
      ]
    },
    {
      "cell_type": "code",
      "source": [
        "with open(\"/content/drive/MyDrive/pickle/val/스트리트/val_label_street_v2.pkl\",\"wb\") as fw:\n",
        "    pickle.dump(new_label_list, fw)"
      ],
      "metadata": {
        "id": "W0PqaoaDp5_A"
      },
      "execution_count": null,
      "outputs": []
    },
    {
      "cell_type": "code",
      "source": [
        "train_label = []\n",
        "\n",
        "new_data_list = []\n",
        "\n",
        "path = \"/content/drive/MyDrive/fashiondata/label/Validation/페미닌/\"\n",
        "\n",
        "data_path = \"/content/drive/MyDrive/fashiondata/Valdata/val/페미닌/\"\n",
        "\n",
        "# data_path1 =  \"/content/drive/MyDrive/fashiondata/style/data/train/리조트/\"\n",
        "# data_path2 = \"/content/drive/MyDrive/fashiondata/data/train1/리조트1/\"\n",
        "\n",
        "for labelname in tqdm(label_list):\n",
        "    \n",
        "    filename = labelname[:-5] + \".jpg\"\n",
        "    \n",
        "    if filename in data_list:\n",
        "\n",
        "        train_label.append(path + labelname)\n",
        "        new_data_list.append(data_path + filename)\n",
        "    \n",
        "    # elif filename in data_list1:\n",
        "        \n",
        "    #     train_label.append(path + labelname)\n",
        "    #     new_data_list.append(data_path1 + filename)\n",
        "    \n",
        "    # elif filename in data_list2:\n",
        "        \n",
        "    #     train_label.append(path + labelname)\n",
        "    #     new_data_list.append(data_path2 + filename)"
      ],
      "metadata": {
        "colab": {
          "base_uri": "https://localhost:8080/",
          "height": 49,
          "referenced_widgets": [
            "da471450b5774a54b9551fdaa9e5fc70",
            "b5d186269ba6435c830b0e75d2a19e52",
            "c88bc1196d9a4dbeada441c7fd45420a",
            "805eb788e1444ec4a004bb73d324e3c7",
            "bceac3b7d0184956b02c813c3b5713c0",
            "54c3f171be024fe3951e9374f10312ac",
            "ea8ace9359874b2e9e3c859de008ef0f",
            "a291b8d47b3842f69cbb33aace57df30",
            "99f432181a6c40bcb54743615ada210b",
            "c7e50a5f2a384fff8751e1b62ed18abc",
            "4228fd6676d4411ca27212fa8727dcda"
          ]
        },
        "id": "fae6-o7liLuy",
        "outputId": "71afc9a7-70db-450a-c077-d9827db7eb8d"
      },
      "execution_count": null,
      "outputs": [
        {
          "output_type": "display_data",
          "data": {
            "text/plain": [
              "  0%|          | 0/11060 [00:00<?, ?it/s]"
            ],
            "application/vnd.jupyter.widget-view+json": {
              "version_major": 2,
              "version_minor": 0,
              "model_id": "da471450b5774a54b9551fdaa9e5fc70"
            }
          },
          "metadata": {}
        }
      ]
    },
    {
      "cell_type": "code",
      "source": [
        "len(train_label)"
      ],
      "metadata": {
        "colab": {
          "base_uri": "https://localhost:8080/"
        },
        "id": "PM4FkPD_t2pc",
        "outputId": "838caeea-e7f9-4fee-ec8f-8f983a5eb966"
      },
      "execution_count": null,
      "outputs": [
        {
          "output_type": "execute_result",
          "data": {
            "text/plain": [
              "10990"
            ]
          },
          "metadata": {},
          "execution_count": 450
        }
      ]
    },
    {
      "cell_type": "code",
      "source": [
        "len(data_list)"
      ],
      "metadata": {
        "colab": {
          "base_uri": "https://localhost:8080/"
        },
        "id": "YPNLq9o29JQ6",
        "outputId": "9621ad81-d6b5-49eb-ca0a-7225e5b6c39c"
      },
      "execution_count": null,
      "outputs": [
        {
          "output_type": "execute_result",
          "data": {
            "text/plain": [
              "10990"
            ]
          },
          "metadata": {},
          "execution_count": 452
        }
      ]
    },
    {
      "cell_type": "code",
      "source": [
        "len(new_data_list)"
      ],
      "metadata": {
        "colab": {
          "base_uri": "https://localhost:8080/"
        },
        "id": "t8TL21BS6rqE",
        "outputId": "cf7c5452-d5c2-4d02-e415-680d54297f00"
      },
      "execution_count": null,
      "outputs": [
        {
          "output_type": "execute_result",
          "data": {
            "text/plain": [
              "10990"
            ]
          },
          "metadata": {},
          "execution_count": 451
        }
      ]
    },
    {
      "cell_type": "code",
      "source": [
        "len(train_label)"
      ],
      "metadata": {
        "colab": {
          "base_uri": "https://localhost:8080/"
        },
        "id": "PWF9wREXjJ6P",
        "outputId": "80c67cb3-6113-429d-dd2c-ab243f7a3400"
      },
      "execution_count": null,
      "outputs": [
        {
          "output_type": "execute_result",
          "data": {
            "text/plain": [
              "41999"
            ]
          },
          "metadata": {},
          "execution_count": 116
        }
      ]
    },
    {
      "cell_type": "code",
      "source": [
        "len(val_label)"
      ],
      "metadata": {
        "colab": {
          "base_uri": "https://localhost:8080/"
        },
        "id": "BZ2khXB1jL3d",
        "outputId": "c6e191d8-bba1-4c3b-f71f-d60b2b2148f7"
      },
      "execution_count": null,
      "outputs": [
        {
          "output_type": "execute_result",
          "data": {
            "text/plain": [
              "13880"
            ]
          },
          "metadata": {},
          "execution_count": 117
        }
      ]
    },
    {
      "cell_type": "code",
      "source": [
        "with open(\"/content/drive/MyDrive/pickle/val/페미닌/val_label_feminine.pkl\",\"wb\") as fw:\n",
        "    pickle.dump(train_label, fw)"
      ],
      "metadata": {
        "id": "j7Qk2mwgOacD"
      },
      "execution_count": null,
      "outputs": []
    },
    {
      "cell_type": "code",
      "source": [
        "with open(\"/content/drive/MyDrive/pickle/val/스트리트/val_label_street.pkl\",\"wb\") as fw:\n",
        "    pickle.dump(val_label, fw)"
      ],
      "metadata": {
        "id": "m6-ZQ3VUPRdv"
      },
      "execution_count": null,
      "outputs": []
    },
    {
      "cell_type": "code",
      "source": [],
      "metadata": {
        "id": "hD315mxwj2Ph"
      },
      "execution_count": null,
      "outputs": []
    },
    {
      "cell_type": "code",
      "source": [],
      "metadata": {
        "id": "CUpLnkbcJTZR"
      },
      "execution_count": null,
      "outputs": []
    },
    {
      "cell_type": "markdown",
      "source": [
        "# data annotation"
      ],
      "metadata": {
        "id": "DIuGQodxJTkt"
      }
    },
    {
      "cell_type": "code",
      "source": [
        "import numpy as np\n",
        "import os\n",
        "import pickle\n",
        "from tqdm.auto import tqdm\n",
        "import json"
      ],
      "metadata": {
        "id": "Q-8urrAQJUaj"
      },
      "execution_count": null,
      "outputs": []
    },
    {
      "cell_type": "code",
      "source": [
        "from google.colab import drive\n",
        "drive.mount('/content/drive')"
      ],
      "metadata": {
        "colab": {
          "base_uri": "https://localhost:8080/"
        },
        "id": "SqznDo7aJVxv",
        "outputId": "c5532737-cb1c-4286-c41c-4d84ec5af3b6"
      },
      "execution_count": null,
      "outputs": [
        {
          "output_type": "stream",
          "name": "stdout",
          "text": [
            "Drive already mounted at /content/drive; to attempt to forcibly remount, call drive.mount(\"/content/drive\", force_remount=True).\n"
          ]
        }
      ]
    },
    {
      "cell_type": "code",
      "source": [
        "encoding_label = {\"클래식\": 0,\n",
        "         \"프레피\":1, \n",
        "         \"매니시\": 2,\n",
        "         \"톰보이\":3, \n",
        "         \"페미닌\": 4,\n",
        "         \"로맨틱\": 5,\n",
        "         \"섹시\": 6,\n",
        "         \"히피\": 7,\n",
        "         \"웨스턴\": 8,\n",
        "         \"오리엔탈\": 9,\n",
        "         \"모던\": 10,\n",
        "         \"소피스트케이티드\": 11,\n",
        "         \"아방가르드\": 12,\n",
        "         \"컨트리\": 13,\n",
        "         \"리조트\": 14,\n",
        "         \"젠더리스\": 15,\n",
        "         \"스포티\": 16,\n",
        "         \"레트로\": 17,\n",
        "         \"힙합\": 18,\n",
        "         \"키치\": 19,\n",
        "         \"펑크\": 20,\n",
        "         \"스트리트\": 21,\n",
        "         \"밀리터리\":22\n",
        "         }"
      ],
      "metadata": {
        "id": "sQ3r4Xz3Mc70"
      },
      "execution_count": null,
      "outputs": []
    },
    {
      "cell_type": "code",
      "source": [
        "#initialization class array & adj array\n",
        "\n",
        "nums = [0]*23\n",
        "adj = [[0]*23 for _ in range(23)]\n",
        "train_data_list = []"
      ],
      "metadata": {
        "id": "FzVrE4YjKFv-"
      },
      "execution_count": null,
      "outputs": []
    },
    {
      "cell_type": "code",
      "source": [
        "with open(\"/content/drive/MyDrive/pickle/train_data_annotation.pkl\",\"rb\") as fr:\n",
        "    train_data_list = pickle.load(fr)\n",
        "len(train_data_list)"
      ],
      "metadata": {
        "colab": {
          "base_uri": "https://localhost:8080/"
        },
        "id": "Wa8BmlHWzEJb",
        "outputId": "135e78f7-bca1-441d-dbb6-6e2e6006ea7f"
      },
      "execution_count": null,
      "outputs": [
        {
          "output_type": "execute_result",
          "data": {
            "text/plain": [
              "79144"
            ]
          },
          "metadata": {},
          "execution_count": 312
        }
      ]
    },
    {
      "cell_type": "code",
      "source": [
        "with open(\"/content/drive/MyDrive/pickle/adj_file.pkl\",\"rb\") as fr:\n",
        "    adj_dict = pickle.load(fr)\n",
        "adj_dict"
      ],
      "metadata": {
        "id": "Bx7KpmT0zLXD"
      },
      "execution_count": null,
      "outputs": []
    },
    {
      "cell_type": "code",
      "source": [
        "## check\n",
        "with open(\"/content/drive/MyDrive/pickle/train/페미닌/train_label_feminine.pkl\",\"rb\") as fr:\n",
        "    label_list = pickle.load(fr)\n",
        "len(label_list)"
      ],
      "metadata": {
        "colab": {
          "base_uri": "https://localhost:8080/"
        },
        "id": "_WvYDXhuKTz5",
        "outputId": "982c825e-9668-48bf-d053-05e9add9f9c1"
      },
      "execution_count": null,
      "outputs": [
        {
          "output_type": "execute_result",
          "data": {
            "text/plain": [
              "87772"
            ]
          },
          "metadata": {},
          "execution_count": 414
        }
      ]
    },
    {
      "cell_type": "code",
      "source": [
        "## check\n",
        "with open(\"/content/drive/MyDrive/pickle/train/페미닌/train_feminine.pkl\",\"rb\") as fr:\n",
        "    data_list = pickle.load(fr)\n",
        "len(data_list)"
      ],
      "metadata": {
        "colab": {
          "base_uri": "https://localhost:8080/"
        },
        "id": "mRhw7ERoLT_R",
        "outputId": "9d077b7c-863c-4994-9962-0a680815f0c5"
      },
      "execution_count": null,
      "outputs": [
        {
          "output_type": "execute_result",
          "data": {
            "text/plain": [
              "87772"
            ]
          },
          "metadata": {},
          "execution_count": 413
        }
      ]
    },
    {
      "cell_type": "code",
      "source": [
        "nums = adj_dict[\"nums\"]\n",
        "adj = adj_dict[\"adj\"]"
      ],
      "metadata": {
        "id": "mOLQA4C7NdFS"
      },
      "execution_count": null,
      "outputs": []
    },
    {
      "cell_type": "code",
      "source": [
        "nums"
      ],
      "metadata": {
        "colab": {
          "base_uri": "https://localhost:8080/"
        },
        "id": "KTXHhRb7Ngkp",
        "outputId": "4cda8ef1-de94-430e-8889-ffd43598bb70"
      },
      "execution_count": null,
      "outputs": [
        {
          "output_type": "execute_result",
          "data": {
            "text/plain": [
              "array([ 1012,    59,  3318,   447,  4923, 14839,  5770,   268,    59,\n",
              "          97, 12089,  1457,   180,   910,  7390,   460,   235,  7101,\n",
              "          71,   265,   126, 11812,  3645])"
            ]
          },
          "metadata": {},
          "execution_count": 273
        }
      ]
    },
    {
      "cell_type": "code",
      "source": [
        "#create train_data for one class\n",
        "\n",
        "for filename,labelname in tqdm(zip(data_list, label_list)):\n",
        "    \n",
        "    train_data = {}\n",
        "\n",
        "    labels = []\n",
        "\n",
        "    with open(f\"{labelname}\",\"r\") as fr:\n",
        "        \n",
        "        data = json.load(fr)\n",
        "\n",
        "        label_dict = data['데이터셋 정보']['데이터셋 상세설명']['라벨링']['스타일'][0]\n",
        "\n",
        "        for key in label_dict:\n",
        "            \n",
        "            g = encoding_label[label_dict[key]]\n",
        "\n",
        "            nums[g] += 1\n",
        "\n",
        "            labels.append(g)\n",
        "\n",
        "        if len(labels) == 2:\n",
        "            \n",
        "            A = labels[0]\n",
        "            B = labels[1]\n",
        "\n",
        "            adj[A][B] += 1\n",
        "            adj[B][A] += 1\n",
        "    \n",
        "    train_data[\"labels\"] = labels\n",
        "    train_data[\"file_name\"] = filename\n",
        "\n",
        "    train_data_list.append(train_data)\n",
        "\n",
        "print(len(train_data_list))"
      ],
      "metadata": {
        "colab": {
          "base_uri": "https://localhost:8080/",
          "height": 49,
          "referenced_widgets": [
            "7fc515fb8ecf4e4b9e91c7a9f214b680",
            "7f69baee48fe49248812e165b836c767",
            "54548132c92b47d0a06e0d5e524fd92c",
            "b580892124a04be19200a44e4bf402e0",
            "036245f6522d4e40ac716b9053bae70d",
            "c71b917e36504f42ba6af33b8bf4bec8",
            "d71fda8f45b0452d8d9a3646562fce2d",
            "3b9092a8514c45d488dfcf5d514524c9",
            "d8d00154c9424b2eb3b7a5937e85a23e",
            "6526b923bc7f441e8e5479fe1c095bd1",
            "76c4ae426001460e95bb92716110c58a"
          ]
        },
        "id": "ovCks7_6KJpu",
        "outputId": "ffe82ca8-d779-42d8-a46c-0308fc30e8b3"
      },
      "execution_count": null,
      "outputs": [
        {
          "output_type": "display_data",
          "data": {
            "text/plain": [
              "0it [00:00, ?it/s]"
            ],
            "application/vnd.jupyter.widget-view+json": {
              "version_major": 2,
              "version_minor": 0,
              "model_id": "7fc515fb8ecf4e4b9e91c7a9f214b680"
            }
          },
          "metadata": {}
        }
      ]
    },
    {
      "cell_type": "code",
      "source": [
        "len(train_data_list)"
      ],
      "metadata": {
        "colab": {
          "base_uri": "https://localhost:8080/"
        },
        "id": "953GouXAUjcO",
        "outputId": "8e75fe58-a71b-481c-9407-eb3c1ac3f853"
      },
      "execution_count": null,
      "outputs": [
        {
          "output_type": "execute_result",
          "data": {
            "text/plain": [
              "143744"
            ]
          },
          "metadata": {},
          "execution_count": 407
        }
      ]
    },
    {
      "cell_type": "code",
      "source": [
        "nums"
      ],
      "metadata": {
        "colab": {
          "base_uri": "https://localhost:8080/"
        },
        "id": "t5sUUv_gMHsG",
        "outputId": "7cf1bc5b-15ba-4072-9d00-c8ef7b89a7aa"
      },
      "execution_count": null,
      "outputs": [
        {
          "output_type": "execute_result",
          "data": {
            "text/plain": [
              "array([14089,  2983,  4777,  8747, 10110, 17854,  6437,  7075,  2003,\n",
              "        4452, 18455, 12635,  4105, 12463, 11778, 13870, 11030,  7782,\n",
              "         575,  5255,   604, 43178,  3823])"
            ]
          },
          "metadata": {},
          "execution_count": 408
        }
      ]
    },
    {
      "cell_type": "code",
      "source": [
        "with open(\"/content/drive/MyDrive/pickle/train_data_annotation.pkl\",\"wb\") as fw:\n",
        "    pickle.dump(train_data_list, fw)"
      ],
      "metadata": {
        "id": "NQ5RH4bINoj9"
      },
      "execution_count": null,
      "outputs": []
    },
    {
      "cell_type": "code",
      "source": [
        "adj_dict = {}\n",
        "\n",
        "adj_dict[\"nums\"] = np.array(nums)\n",
        "adj_dict[\"adj\"] = np.array(adj)"
      ],
      "metadata": {
        "id": "7ZbYfdJUTFeE"
      },
      "execution_count": null,
      "outputs": []
    },
    {
      "cell_type": "code",
      "source": [
        "with open(\"/content/drive/MyDrive/pickle/adj_file.pkl\",\"wb\") as fw:\n",
        "    pickle.dump(adj_dict, fw)"
      ],
      "metadata": {
        "id": "l59azSEYTTXA"
      },
      "execution_count": null,
      "outputs": []
    },
    {
      "cell_type": "code",
      "source": [
        "adj_dict"
      ],
      "metadata": {
        "colab": {
          "base_uri": "https://localhost:8080/"
        },
        "id": "L1xq1pG7TbKC",
        "outputId": "3801535c-d54c-4382-e188-8961041b39d0"
      },
      "execution_count": null,
      "outputs": [
        {
          "output_type": "execute_result",
          "data": {
            "text/plain": [
              "{'nums': array([14089,  2983,  4777,  8747, 10110, 17854,  6437,  7075,  2003,\n",
              "         4452, 18455, 12635,  4105, 12463, 11778, 13870, 11030,  7782,\n",
              "          575,  5255,   604, 43178,  3823]),\n",
              " 'adj': array([[   0,  410,  514,  250, 1840,  356,   27,    0,   68,   15, 1542,\n",
              "          693,   61,  235,  252,  999,    9,  161,    0,   60,    0, 1950,\n",
              "           68],\n",
              "        [ 410,    0,   20,  116,  200,  199,    0,    0,   11,    0,  136,\n",
              "            5,    0,   49,    0,   27,    0,   29,    0,   34,    0,  434,\n",
              "            0],\n",
              "        [ 514,   20,    0,  780,   33,   74,   35,    0,    0,    3,  412,\n",
              "          389,   13,   54,   44,  521,    8,   14,    0,    1,    0,  746,\n",
              "           32],\n",
              "        [ 250,  116,  780,    0,   35,   53,    0,   12,    5,    0,  325,\n",
              "          178,   28,  188,  221,  725,   55,   51,   15,   98,    8, 2703,\n",
              "           38],\n",
              "        [1840,  200,   33,   35,    0, 2093,  678,  249,  144,  269,  913,\n",
              "         1203,  149,  496,  487,   70,   97,  670,    0,   73,   23,  339,\n",
              "           49],\n",
              "        [ 356,  199,   74,   53, 2093,    0,  476,  434,   46,  225,  618,\n",
              "          812,  135,  860, 1030,   20,   36,  798,    0,  236,   48, 2837,\n",
              "           26],\n",
              "        [  27,    0,   35,    0,  678,  476,    0,  141,   46,   10,  348,\n",
              "          203,   28,   27,  346,    0,  198,   57,   43,   41,   47, 1665,\n",
              "            3],\n",
              "        [   0,    0,    0,   12,  249,  434,  141,    0,   61,  306,  162,\n",
              "           71,   45,  308,  937,   17,   15,  169,    0,   23,   18, 1623,\n",
              "            0],\n",
              "        [  68,   11,    0,    5,  144,   46,   46,   61,    0,   28,   87,\n",
              "           32,   65,  135,   48,   51,   20,   23,    0,    3,   19,  354,\n",
              "           17],\n",
              "        [  15,    0,    3,    0,  269,  225,   10,  306,   28,    0,  411,\n",
              "          105,   69,  237,  500,   20,   17,   74,    0,   12,    0,  659,\n",
              "           23],\n",
              "        [1542,  136,  412,  325,  913,  618,  348,  162,   87,  411,    0,\n",
              "         2167,  860,  343,  713, 1095,  343,  178,    5,  143,   18, 2326,\n",
              "          144],\n",
              "        [ 693,    5,  389,  178, 1203,  812,  203,   71,   32,  105, 2167,\n",
              "            0,   71,  197,  258,  113,   13,  186,    0,    0,    0,  534,\n",
              "            0],\n",
              "        [  61,    0,   13,   28,  149,  135,   28,   45,   65,   69,  860,\n",
              "           71,    0,   63,   84,   45,   35,   17,    0,   49,   13,  531,\n",
              "           12],\n",
              "        [ 235,   49,   54,  188,  496,  860,   27,  308,  135,  237,  343,\n",
              "          197,   63,    0, 1288,  373,   53,  378,    0,   98,    0, 2457,\n",
              "           21],\n",
              "        [ 252,    0,   44,  221,  487, 1030,  346,  937,   48,  500,  713,\n",
              "          258,   84, 1288,    0,  348,  496,  301,    0,  224,    0, 1311,\n",
              "           39],\n",
              "        [ 999,   27,  521,  725,   70,   20,    0,   17,   51,   20, 1095,\n",
              "          113,   45,  373,  348,    0,  492,   22,   18,   42,   23, 3708,\n",
              "          218],\n",
              "        [   9,    0,    8,   55,   97,   36,  198,   15,   20,   17,  343,\n",
              "           13,   35,   53,  496,  492,    0,   61,   58,  224,    0, 4543,\n",
              "           45],\n",
              "        [ 161,   29,   14,   51,  670,  798,   57,  169,   23,   74,  178,\n",
              "          186,   17,  378,  301,   22,   61,    0,   19,  308,   46, 2241,\n",
              "            0],\n",
              "        [   0,    0,    0,   15,    0,    0,   43,    0,    0,    0,    5,\n",
              "            0,    0,    0,    0,   18,   58,   19,    0,  111,    9,  179,\n",
              "            8],\n",
              "        [  60,   34,    1,   98,   73,  236,   41,   23,    3,   12,  143,\n",
              "            0,   49,   98,  224,   42,  224,  308,  111,    0,   20, 2258,\n",
              "            2],\n",
              "        [   0,    0,    0,    8,   23,   48,   47,   18,   19,    0,   18,\n",
              "            0,   13,    0,    0,   23,    0,   46,    9,   20,    0,  242,\n",
              "           29],\n",
              "        [1950,  434,  746, 2703,  339, 2837, 1665, 1623,  354,  659, 2326,\n",
              "          534,  531, 2457, 1311, 3708, 4543, 2241,  179, 2258,  242,    0,\n",
              "         2194],\n",
              "        [  68,    0,   32,   38,   49,   26,    3,    0,   17,   23,  144,\n",
              "            0,   12,   21,   39,  218,   45,    0,    8,    2,   29, 2194,\n",
              "            0]])}"
            ]
          },
          "metadata": {},
          "execution_count": 412
        }
      ]
    },
    {
      "cell_type": "code",
      "source": [
        "import unicodedata"
      ],
      "metadata": {
        "id": "C_B7umjfKIPc"
      },
      "execution_count": null,
      "outputs": []
    },
    {
      "cell_type": "code",
      "source": [
        "index_list = []\n",
        "\n",
        "for i in range(len(train_data_list)):\n",
        "\n",
        "    if \"모던\" in unicodedata.normalize('NFC',train_data_list[i]['file_name']):\n",
        "        \n",
        "        \n",
        "        index_list.append(i)"
      ],
      "metadata": {
        "id": "WaOULU7-TcyV",
        "colab": {
          "base_uri": "https://localhost:8080/"
        },
        "outputId": "2067667f-69fb-499a-89ac-a120bc680f11"
      },
      "execution_count": null,
      "outputs": [
        {
          "output_type": "stream",
          "name": "stdout",
          "text": [
            "50648\n"
          ]
        }
      ]
    },
    {
      "cell_type": "code",
      "source": [
        "random_list = np.random.choice(index_list,10648)"
      ],
      "metadata": {
        "id": "cWpg9N-KLkMw"
      },
      "execution_count": null,
      "outputs": []
    },
    {
      "cell_type": "code",
      "source": [
        "index_list[0]"
      ],
      "metadata": {
        "colab": {
          "base_uri": "https://localhost:8080/"
        },
        "id": "ioFk_o1hK7Hn",
        "outputId": "e30bbedc-fe23-4103-a341-b7d1d657f044"
      },
      "execution_count": null,
      "outputs": [
        {
          "output_type": "execute_result",
          "data": {
            "text/plain": [
              "28772"
            ]
          },
          "metadata": {},
          "execution_count": 228
        }
      ]
    },
    {
      "cell_type": "code",
      "source": [
        "index_list[50647]"
      ],
      "metadata": {
        "colab": {
          "base_uri": "https://localhost:8080/"
        },
        "id": "5YK67Om3LCzx",
        "outputId": "c8462363-1059-4fa0-b453-372c5c46a681"
      },
      "execution_count": null,
      "outputs": [
        {
          "output_type": "execute_result",
          "data": {
            "text/plain": [
              "79419"
            ]
          },
          "metadata": {},
          "execution_count": 231
        }
      ]
    },
    {
      "cell_type": "code",
      "source": [
        "len(random_list)"
      ],
      "metadata": {
        "colab": {
          "base_uri": "https://localhost:8080/"
        },
        "id": "JARpJB46Lxf9",
        "outputId": "1d2faed0-afbb-4f0d-bd75-e51275103773"
      },
      "execution_count": null,
      "outputs": [
        {
          "output_type": "execute_result",
          "data": {
            "text/plain": [
              "10648"
            ]
          },
          "metadata": {},
          "execution_count": 249
        }
      ]
    },
    {
      "cell_type": "code",
      "source": [
        "nums = [0]*23\n",
        "adj = [[0]*23 for _ in range(23)]\n",
        "new_train_data_list = []"
      ],
      "metadata": {
        "id": "AOFGWfHAMC-d"
      },
      "execution_count": null,
      "outputs": []
    },
    {
      "cell_type": "code",
      "source": [],
      "metadata": {
        "id": "fQzWHYtGMpNW"
      },
      "execution_count": null,
      "outputs": []
    },
    {
      "cell_type": "code",
      "source": [
        "for i in range(79420,88464):\n",
        "    \n",
        "    new_train_data_list.append(train_data_list[i])\n",
        "\n",
        "    for k in train_data_list[i]['labels']:\n",
        "        \n",
        "        nums[k] += 1\n",
        "    \n",
        "    if(len(train_data_list[i]['labels']) == 2):\n",
        "        \n",
        "        A = train_data_list[i]['labels'][0]\n",
        "        B = train_data_list[i]['labels'][1]\n",
        "\n",
        "        adj[A][B] += 1\n",
        "        adj[B][A] += 1"
      ],
      "metadata": {
        "id": "HZgctrbmLSAC"
      },
      "execution_count": null,
      "outputs": []
    },
    {
      "cell_type": "code",
      "source": [],
      "metadata": {
        "id": "X--6wjIIMbf7"
      },
      "execution_count": null,
      "outputs": []
    },
    {
      "cell_type": "code",
      "source": [
        "len(new_train_data_list)"
      ],
      "metadata": {
        "colab": {
          "base_uri": "https://localhost:8080/"
        },
        "id": "ubBdrz9PLZvM",
        "outputId": "a65f8c67-4444-47c5-f14f-f28617f0bc15"
      },
      "execution_count": null,
      "outputs": [
        {
          "output_type": "execute_result",
          "data": {
            "text/plain": [
              "28772"
            ]
          },
          "metadata": {},
          "execution_count": 254
        }
      ]
    },
    {
      "cell_type": "code",
      "source": [
        "len(new_train_data_list)"
      ],
      "metadata": {
        "colab": {
          "base_uri": "https://localhost:8080/"
        },
        "id": "GpGqK75pMneM",
        "outputId": "0f711d13-3fcc-4f22-bd79-4e7ad7ad5e0e"
      },
      "execution_count": null,
      "outputs": [
        {
          "output_type": "execute_result",
          "data": {
            "text/plain": [
              "48464"
            ]
          },
          "metadata": {},
          "execution_count": 261
        }
      ]
    },
    {
      "cell_type": "code",
      "source": [
        "new_train_data_list[-1]"
      ],
      "metadata": {
        "colab": {
          "base_uri": "https://localhost:8080/"
        },
        "id": "MqW1FiCNLcZv",
        "outputId": "1c3e164e-d8f1-4640-e53f-c340a9bcb570"
      },
      "execution_count": null,
      "outputs": [
        {
          "output_type": "execute_result",
          "data": {
            "text/plain": [
              "{'labels': [2],\n",
              " 'file_name': '/content/drive/MyDrive/fashiondata/data/train1/매니시/744290.jpg'}"
            ]
          },
          "metadata": {},
          "execution_count": 239
        }
      ]
    },
    {
      "cell_type": "code",
      "source": [
        "train_data_list[79420]"
      ],
      "metadata": {
        "colab": {
          "base_uri": "https://localhost:8080/"
        },
        "id": "4zo-7TYgLHF2",
        "outputId": "cf9dd955-0b65-4b52-ad7f-8ba8e588f413"
      },
      "execution_count": null,
      "outputs": [
        {
          "output_type": "execute_result",
          "data": {
            "text/plain": [
              "{'labels': [22, 21],\n",
              " 'file_name': '/content/drive/MyDrive/fashiondata/data/train1/밀리터리/940926.jpg'}"
            ]
          },
          "metadata": {},
          "execution_count": 258
        }
      ]
    },
    {
      "cell_type": "code",
      "source": [
        "len(train_data_list)"
      ],
      "metadata": {
        "colab": {
          "base_uri": "https://localhost:8080/"
        },
        "id": "0P6BM959M099",
        "outputId": "303d6f2b-5239-403a-9ca2-d376bc453157"
      },
      "execution_count": null,
      "outputs": [
        {
          "output_type": "execute_result",
          "data": {
            "text/plain": [
              "88464"
            ]
          },
          "metadata": {},
          "execution_count": 259
        }
      ]
    },
    {
      "cell_type": "code",
      "source": [],
      "metadata": {
        "id": "-Fn6QwPrLLbz"
      },
      "execution_count": null,
      "outputs": []
    },
    {
      "cell_type": "code",
      "source": [
        "random_index = np.random.choice(index_list,40000)"
      ],
      "metadata": {
        "id": "5DwaYQqs9tvK"
      },
      "execution_count": null,
      "outputs": []
    },
    {
      "cell_type": "code",
      "source": [],
      "metadata": {
        "id": "5WaKC88hKwOU"
      },
      "execution_count": null,
      "outputs": []
    },
    {
      "cell_type": "code",
      "source": [
        "x = \"/content/drive/MyDrive/fashiondata/data/train1/모던/1153829.jpg\".decode(\"utf-8\")\n",
        "\n",
        "\"모던\" in x"
      ],
      "metadata": {
        "colab": {
          "base_uri": "https://localhost:8080/",
          "height": 209
        },
        "id": "nwkYEFSh9lMl",
        "outputId": "f2952517-d676-4814-8ede-7f867095ebd1"
      },
      "execution_count": null,
      "outputs": [
        {
          "output_type": "error",
          "ename": "AttributeError",
          "evalue": "ignored",
          "traceback": [
            "\u001b[0;31m---------------------------------------------------------------------------\u001b[0m",
            "\u001b[0;31mAttributeError\u001b[0m                            Traceback (most recent call last)",
            "\u001b[0;32m<ipython-input-217-f3e109ebb883>\u001b[0m in \u001b[0;36m<module>\u001b[0;34m\u001b[0m\n\u001b[0;32m----> 1\u001b[0;31m \u001b[0mx\u001b[0m \u001b[0;34m=\u001b[0m \u001b[0;34m\"/content/drive/MyDrive/fashiondata/data/train1/모던/1153829.jpg\"\u001b[0m\u001b[0;34m.\u001b[0m\u001b[0mdecode\u001b[0m\u001b[0;34m(\u001b[0m\u001b[0;34m\"utf-8\"\u001b[0m\u001b[0;34m)\u001b[0m\u001b[0;34m\u001b[0m\u001b[0;34m\u001b[0m\u001b[0m\n\u001b[0m\u001b[1;32m      2\u001b[0m \u001b[0;34m\u001b[0m\u001b[0m\n\u001b[1;32m      3\u001b[0m \u001b[0;34m\"모던\"\u001b[0m \u001b[0;32min\u001b[0m \u001b[0mx\u001b[0m\u001b[0;34m\u001b[0m\u001b[0;34m\u001b[0m\u001b[0m\n",
            "\u001b[0;31mAttributeError\u001b[0m: 'str' object has no attribute 'decode'"
          ]
        }
      ]
    },
    {
      "cell_type": "code",
      "source": [
        "'한글'.encode('utf-8').decode('utf-8')"
      ],
      "metadata": {
        "colab": {
          "base_uri": "https://localhost:8080/",
          "height": 35
        },
        "id": "TjE4E5yvIVVX",
        "outputId": "22e9b8f6-0a39-4f72-cbce-6915a6d9248a"
      },
      "execution_count": null,
      "outputs": [
        {
          "output_type": "execute_result",
          "data": {
            "text/plain": [
              "'한글'"
            ],
            "application/vnd.google.colaboratory.intrinsic+json": {
              "type": "string"
            }
          },
          "metadata": {},
          "execution_count": 220
        }
      ]
    },
    {
      "cell_type": "code",
      "source": [
        "y = \"/content/drive/MyDrive/fashiondata/data/train1/모던/1153829.jpg\"\n",
        "\n",
        "print(\"모던\" in y)"
      ],
      "metadata": {
        "colab": {
          "base_uri": "https://localhost:8080/"
        },
        "id": "zG_bvbE2_Lb3",
        "outputId": "9099d15e-9899-4db5-a6e2-47c0c1c73a71"
      },
      "execution_count": null,
      "outputs": [
        {
          "output_type": "stream",
          "name": "stdout",
          "text": [
            "False\n"
          ]
        }
      ]
    },
    {
      "cell_type": "code",
      "source": [
        "x[47]"
      ],
      "metadata": {
        "colab": {
          "base_uri": "https://localhost:8080/",
          "height": 35
        },
        "id": "V7js79InHNP_",
        "outputId": "c5308961-5ba0-4cbb-cd14-706478c5b50b"
      },
      "execution_count": null,
      "outputs": [
        {
          "output_type": "execute_result",
          "data": {
            "text/plain": [
              "'모'"
            ],
            "application/vnd.google.colaboratory.intrinsic+json": {
              "type": "string"
            }
          },
          "metadata": {},
          "execution_count": 211
        }
      ]
    },
    {
      "cell_type": "code",
      "source": [
        "y[47]"
      ],
      "metadata": {
        "colab": {
          "base_uri": "https://localhost:8080/",
          "height": 35
        },
        "id": "hJ9CXaT5HJQF",
        "outputId": "313b7394-415d-412a-bff6-b0faba1333aa"
      },
      "execution_count": null,
      "outputs": [
        {
          "output_type": "execute_result",
          "data": {
            "text/plain": [
              "'ᄆ'"
            ],
            "application/vnd.google.colaboratory.intrinsic+json": {
              "type": "string"
            }
          },
          "metadata": {},
          "execution_count": 210
        }
      ]
    },
    {
      "cell_type": "code",
      "source": [
        "x.split(\"/\")"
      ],
      "metadata": {
        "colab": {
          "base_uri": "https://localhost:8080/"
        },
        "id": "ZCG3Nl4sHdVU",
        "outputId": "da0eec3f-6a28-4786-f2be-3825f3e36b25"
      },
      "execution_count": null,
      "outputs": [
        {
          "output_type": "execute_result",
          "data": {
            "text/plain": [
              "['',\n",
              " 'content',\n",
              " 'drive',\n",
              " 'MyDrive',\n",
              " 'fashiondata',\n",
              " 'data',\n",
              " 'train1',\n",
              " '모던',\n",
              " '1153829.jpg']"
            ]
          },
          "metadata": {},
          "execution_count": 214
        }
      ]
    },
    {
      "cell_type": "code",
      "source": [
        "y.split(\"/\")"
      ],
      "metadata": {
        "colab": {
          "base_uri": "https://localhost:8080/"
        },
        "id": "WMQGpV_lHfBl",
        "outputId": "808f4231-c9f5-49b4-ec00-83e132cee567"
      },
      "execution_count": null,
      "outputs": [
        {
          "output_type": "execute_result",
          "data": {
            "text/plain": [
              "['',\n",
              " 'content',\n",
              " 'drive',\n",
              " 'MyDrive',\n",
              " 'fashiondata',\n",
              " 'data',\n",
              " 'train1',\n",
              " '모던',\n",
              " '1153829.jpg']"
            ]
          },
          "metadata": {},
          "execution_count": 215
        }
      ]
    },
    {
      "cell_type": "code",
      "source": [
        "len(x)"
      ],
      "metadata": {
        "colab": {
          "base_uri": "https://localhost:8080/"
        },
        "id": "UI_4UMYeHY-q",
        "outputId": "a4212304-d870-4f37-c835-cbdd7d7b8f85"
      },
      "execution_count": null,
      "outputs": [
        {
          "output_type": "execute_result",
          "data": {
            "text/plain": [
              "61"
            ]
          },
          "metadata": {},
          "execution_count": 212
        }
      ]
    },
    {
      "cell_type": "code",
      "source": [
        "len(y)"
      ],
      "metadata": {
        "colab": {
          "base_uri": "https://localhost:8080/"
        },
        "id": "eqfCoJaMHaNP",
        "outputId": "4826af14-76b3-45b3-b009-94d2585def9e"
      },
      "execution_count": null,
      "outputs": [
        {
          "output_type": "execute_result",
          "data": {
            "text/plain": [
              "64"
            ]
          },
          "metadata": {},
          "execution_count": 213
        }
      ]
    },
    {
      "cell_type": "code",
      "source": [
        "x = \"/content/drive/MyDrive/fashiondata/data/train1/모던/1153829.jpg\"\n",
        "\n",
        "print(id(x[47:49]))\n",
        "print(id(\"모던\"))\n",
        "print(\"모던\" in x)\n",
        "\n",
        "x = \"/content/drive/MyDrive/fashiondata/data/train1/모던/1153829.jpg\"\n",
        "\n",
        "print(id(x[47:49]))\n",
        "\n",
        "print(\"모던\" in x)"
      ],
      "metadata": {
        "colab": {
          "base_uri": "https://localhost:8080/"
        },
        "id": "kHR8Z5hk--xN",
        "outputId": "2ba5ec96-7e63-465f-c8bb-640ab63396a8"
      },
      "execution_count": null,
      "outputs": [
        {
          "output_type": "stream",
          "name": "stdout",
          "text": [
            "140632234616432\n",
            "140632092569840\n",
            "True\n",
            "140632234616432\n",
            "False\n"
          ]
        }
      ]
    },
    {
      "cell_type": "code",
      "source": [],
      "metadata": {
        "id": "sFv_JsyNCR9t"
      },
      "execution_count": null,
      "outputs": []
    },
    {
      "cell_type": "code",
      "source": [
        "x = \"/content/drive/MyDrive/fashiondata/data/train1/모던/1153829.jpg\"\n",
        "\n",
        "print(\"모던\" in x)"
      ],
      "metadata": {
        "colab": {
          "base_uri": "https://localhost:8080/"
        },
        "id": "xcHxSvY-_wfo",
        "outputId": "f9a8f1c6-3779-4bc3-8740-7b791dcc6e16"
      },
      "execution_count": null,
      "outputs": [
        {
          "output_type": "stream",
          "name": "stdout",
          "text": [
            "False\n"
          ]
        }
      ]
    },
    {
      "cell_type": "markdown",
      "source": [
        "# create word2vec"
      ],
      "metadata": {
        "id": "e7PdxCd1y9uq"
      }
    },
    {
      "cell_type": "code",
      "source": [
        "#create word2vec\n",
        "\n",
        "import gensim\n",
        "model = gensim.models.KeyedVectors.load_word2vec_format('/content/drive/MyDrive/dataset/GoogleNews-vectors-negative300.bin', binary=True)"
      ],
      "metadata": {
        "id": "8aKF9YU1r_TH"
      },
      "execution_count": null,
      "outputs": []
    },
    {
      "cell_type": "code",
      "source": [
        "label = {\"classic\": 0,\n",
        "         \"preppy\":1, \n",
        "         \"manish\": 2,\n",
        "         \"tomboy\":3, \n",
        "         \"feminine\": 4,\n",
        "         \"romantic\": 5,\n",
        "         \"sexy\": 6,\n",
        "         \"hippie\": 7,\n",
        "         \"western\": 8,\n",
        "         \"oriental\": 9,\n",
        "         \"modern\": 10,\n",
        "         \"sophisticated\": 11,\n",
        "         \"avantgarde\": 12,\n",
        "         \"country\": 13,\n",
        "         \"resort\": 14,\n",
        "         \"genderless\": 15,\n",
        "         \"sporty\": 16,\n",
        "         \"retro\": 17,\n",
        "         \"hiphop\": 18,\n",
        "         \"kitsch\": 19,\n",
        "         \"punk\": 20,\n",
        "         \"street\": 21,\n",
        "         \"military\":22\n",
        "         }"
      ],
      "metadata": {
        "id": "-JjdQXrysQND"
      },
      "execution_count": null,
      "outputs": []
    },
    {
      "cell_type": "code",
      "source": [
        "data = []\n",
        "\n",
        "for key in label:\n",
        "    \n",
        "    data.append(model[key])\n",
        "\n",
        "data = np.array(data)\n",
        "\n",
        "print(data)"
      ],
      "metadata": {
        "colab": {
          "base_uri": "https://localhost:8080/"
        },
        "id": "gAD2w_X9sZk5",
        "outputId": "7855c0d3-b39c-496c-b0ae-d83349187aa7"
      },
      "execution_count": null,
      "outputs": [
        {
          "output_type": "stream",
          "name": "stdout",
          "text": [
            "[[ 0.2890625   0.06982422  0.16210938 ... -0.12451172  0.02148438\n",
            "  -0.04370117]\n",
            " [ 0.03930664  0.10595703 -0.18359375 ... -0.21484375  0.16113281\n",
            "   0.36132812]\n",
            " [-0.14550781  0.03637695  0.05175781 ... -0.0625     -0.07910156\n",
            "   0.02819824]\n",
            " ...\n",
            " [ 0.05224609 -0.03808594  0.20410156 ... -0.265625    0.09570312\n",
            "   0.14355469]\n",
            " [ 0.09814453  0.07568359  0.03088379 ... -0.04833984  0.21289062\n",
            "  -0.13867188]\n",
            " [-0.03442383  0.21679688 -0.09472656 ... -0.04003906  0.15527344\n",
            "   0.10009766]]\n"
          ]
        }
      ]
    },
    {
      "cell_type": "code",
      "source": [
        "## Save pickle\n",
        "with open(\"/content/drive/MyDrive/pickle/custom_word2vec.pkl\",\"wb\") as fw:\n",
        "    pickle.dump(data, fw)"
      ],
      "metadata": {
        "id": "J8xVHFR0sbcV"
      },
      "execution_count": null,
      "outputs": []
    },
    {
      "cell_type": "code",
      "source": [
        "## check\n",
        "with open(\"/content/drive/MyDrive/pickle/custom_word2vec.pkl\",\"rb\") as fr:\n",
        "    data1 = pickle.load(fr)\n",
        "print(data1)"
      ],
      "metadata": {
        "id": "e1otW8zfscWe"
      },
      "execution_count": null,
      "outputs": []
    }
  ]
}