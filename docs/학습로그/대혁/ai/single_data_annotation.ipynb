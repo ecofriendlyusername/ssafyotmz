{
  "nbformat": 4,
  "nbformat_minor": 0,
  "metadata": {
    "colab": {
      "provenance": []
    },
    "kernelspec": {
      "name": "python3",
      "display_name": "Python 3"
    },
    "language_info": {
      "name": "python"
    },
    "widgets": {
      "application/vnd.jupyter.widget-state+json": {
        "3aff0b07d96f45e0b19f3be5fdc703da": {
          "model_module": "@jupyter-widgets/controls",
          "model_name": "HBoxModel",
          "model_module_version": "1.5.0",
          "state": {
            "_dom_classes": [],
            "_model_module": "@jupyter-widgets/controls",
            "_model_module_version": "1.5.0",
            "_model_name": "HBoxModel",
            "_view_count": null,
            "_view_module": "@jupyter-widgets/controls",
            "_view_module_version": "1.5.0",
            "_view_name": "HBoxView",
            "box_style": "",
            "children": [
              "IPY_MODEL_df0c2bc7b3c04ee492c16b9a857fcf6b",
              "IPY_MODEL_fbf1f39b56de4572a894b37a7039e4de",
              "IPY_MODEL_fa5dcdd9f7a4485d8b92e00dcbbe7a10"
            ],
            "layout": "IPY_MODEL_70bfdbaa94f14912a9c8ad73dacbf402"
          }
        },
        "df0c2bc7b3c04ee492c16b9a857fcf6b": {
          "model_module": "@jupyter-widgets/controls",
          "model_name": "HTMLModel",
          "model_module_version": "1.5.0",
          "state": {
            "_dom_classes": [],
            "_model_module": "@jupyter-widgets/controls",
            "_model_module_version": "1.5.0",
            "_model_name": "HTMLModel",
            "_view_count": null,
            "_view_module": "@jupyter-widgets/controls",
            "_view_module_version": "1.5.0",
            "_view_name": "HTMLView",
            "description": "",
            "description_tooltip": null,
            "layout": "IPY_MODEL_c0df4f1c9de047d395ce1c04f2b6f766",
            "placeholder": "​",
            "style": "IPY_MODEL_1b5ad1c6e7b74295b4d226fed7467dcc",
            "value": ""
          }
        },
        "fbf1f39b56de4572a894b37a7039e4de": {
          "model_module": "@jupyter-widgets/controls",
          "model_name": "FloatProgressModel",
          "model_module_version": "1.5.0",
          "state": {
            "_dom_classes": [],
            "_model_module": "@jupyter-widgets/controls",
            "_model_module_version": "1.5.0",
            "_model_name": "FloatProgressModel",
            "_view_count": null,
            "_view_module": "@jupyter-widgets/controls",
            "_view_module_version": "1.5.0",
            "_view_name": "ProgressView",
            "bar_style": "success",
            "description": "",
            "description_tooltip": null,
            "layout": "IPY_MODEL_c69c9990019d4998b87dc231ef113aff",
            "max": 1,
            "min": 0,
            "orientation": "horizontal",
            "style": "IPY_MODEL_d294a76d779642bb8b9c1ee91da565ca",
            "value": 1
          }
        },
        "fa5dcdd9f7a4485d8b92e00dcbbe7a10": {
          "model_module": "@jupyter-widgets/controls",
          "model_name": "HTMLModel",
          "model_module_version": "1.5.0",
          "state": {
            "_dom_classes": [],
            "_model_module": "@jupyter-widgets/controls",
            "_model_module_version": "1.5.0",
            "_model_name": "HTMLModel",
            "_view_count": null,
            "_view_module": "@jupyter-widgets/controls",
            "_view_module_version": "1.5.0",
            "_view_name": "HTMLView",
            "description": "",
            "description_tooltip": null,
            "layout": "IPY_MODEL_94412661bbe5477faca1f9a43f7d8273",
            "placeholder": "​",
            "style": "IPY_MODEL_539344b1510b4ad4b29867259a07e3cd",
            "value": " 6322/? [21:59&lt;00:00,  5.06it/s]"
          }
        },
        "70bfdbaa94f14912a9c8ad73dacbf402": {
          "model_module": "@jupyter-widgets/base",
          "model_name": "LayoutModel",
          "model_module_version": "1.2.0",
          "state": {
            "_model_module": "@jupyter-widgets/base",
            "_model_module_version": "1.2.0",
            "_model_name": "LayoutModel",
            "_view_count": null,
            "_view_module": "@jupyter-widgets/base",
            "_view_module_version": "1.2.0",
            "_view_name": "LayoutView",
            "align_content": null,
            "align_items": null,
            "align_self": null,
            "border": null,
            "bottom": null,
            "display": null,
            "flex": null,
            "flex_flow": null,
            "grid_area": null,
            "grid_auto_columns": null,
            "grid_auto_flow": null,
            "grid_auto_rows": null,
            "grid_column": null,
            "grid_gap": null,
            "grid_row": null,
            "grid_template_areas": null,
            "grid_template_columns": null,
            "grid_template_rows": null,
            "height": null,
            "justify_content": null,
            "justify_items": null,
            "left": null,
            "margin": null,
            "max_height": null,
            "max_width": null,
            "min_height": null,
            "min_width": null,
            "object_fit": null,
            "object_position": null,
            "order": null,
            "overflow": null,
            "overflow_x": null,
            "overflow_y": null,
            "padding": null,
            "right": null,
            "top": null,
            "visibility": null,
            "width": null
          }
        },
        "c0df4f1c9de047d395ce1c04f2b6f766": {
          "model_module": "@jupyter-widgets/base",
          "model_name": "LayoutModel",
          "model_module_version": "1.2.0",
          "state": {
            "_model_module": "@jupyter-widgets/base",
            "_model_module_version": "1.2.0",
            "_model_name": "LayoutModel",
            "_view_count": null,
            "_view_module": "@jupyter-widgets/base",
            "_view_module_version": "1.2.0",
            "_view_name": "LayoutView",
            "align_content": null,
            "align_items": null,
            "align_self": null,
            "border": null,
            "bottom": null,
            "display": null,
            "flex": null,
            "flex_flow": null,
            "grid_area": null,
            "grid_auto_columns": null,
            "grid_auto_flow": null,
            "grid_auto_rows": null,
            "grid_column": null,
            "grid_gap": null,
            "grid_row": null,
            "grid_template_areas": null,
            "grid_template_columns": null,
            "grid_template_rows": null,
            "height": null,
            "justify_content": null,
            "justify_items": null,
            "left": null,
            "margin": null,
            "max_height": null,
            "max_width": null,
            "min_height": null,
            "min_width": null,
            "object_fit": null,
            "object_position": null,
            "order": null,
            "overflow": null,
            "overflow_x": null,
            "overflow_y": null,
            "padding": null,
            "right": null,
            "top": null,
            "visibility": null,
            "width": null
          }
        },
        "1b5ad1c6e7b74295b4d226fed7467dcc": {
          "model_module": "@jupyter-widgets/controls",
          "model_name": "DescriptionStyleModel",
          "model_module_version": "1.5.0",
          "state": {
            "_model_module": "@jupyter-widgets/controls",
            "_model_module_version": "1.5.0",
            "_model_name": "DescriptionStyleModel",
            "_view_count": null,
            "_view_module": "@jupyter-widgets/base",
            "_view_module_version": "1.2.0",
            "_view_name": "StyleView",
            "description_width": ""
          }
        },
        "c69c9990019d4998b87dc231ef113aff": {
          "model_module": "@jupyter-widgets/base",
          "model_name": "LayoutModel",
          "model_module_version": "1.2.0",
          "state": {
            "_model_module": "@jupyter-widgets/base",
            "_model_module_version": "1.2.0",
            "_model_name": "LayoutModel",
            "_view_count": null,
            "_view_module": "@jupyter-widgets/base",
            "_view_module_version": "1.2.0",
            "_view_name": "LayoutView",
            "align_content": null,
            "align_items": null,
            "align_self": null,
            "border": null,
            "bottom": null,
            "display": null,
            "flex": null,
            "flex_flow": null,
            "grid_area": null,
            "grid_auto_columns": null,
            "grid_auto_flow": null,
            "grid_auto_rows": null,
            "grid_column": null,
            "grid_gap": null,
            "grid_row": null,
            "grid_template_areas": null,
            "grid_template_columns": null,
            "grid_template_rows": null,
            "height": null,
            "justify_content": null,
            "justify_items": null,
            "left": null,
            "margin": null,
            "max_height": null,
            "max_width": null,
            "min_height": null,
            "min_width": null,
            "object_fit": null,
            "object_position": null,
            "order": null,
            "overflow": null,
            "overflow_x": null,
            "overflow_y": null,
            "padding": null,
            "right": null,
            "top": null,
            "visibility": null,
            "width": "20px"
          }
        },
        "d294a76d779642bb8b9c1ee91da565ca": {
          "model_module": "@jupyter-widgets/controls",
          "model_name": "ProgressStyleModel",
          "model_module_version": "1.5.0",
          "state": {
            "_model_module": "@jupyter-widgets/controls",
            "_model_module_version": "1.5.0",
            "_model_name": "ProgressStyleModel",
            "_view_count": null,
            "_view_module": "@jupyter-widgets/base",
            "_view_module_version": "1.2.0",
            "_view_name": "StyleView",
            "bar_color": null,
            "description_width": ""
          }
        },
        "94412661bbe5477faca1f9a43f7d8273": {
          "model_module": "@jupyter-widgets/base",
          "model_name": "LayoutModel",
          "model_module_version": "1.2.0",
          "state": {
            "_model_module": "@jupyter-widgets/base",
            "_model_module_version": "1.2.0",
            "_model_name": "LayoutModel",
            "_view_count": null,
            "_view_module": "@jupyter-widgets/base",
            "_view_module_version": "1.2.0",
            "_view_name": "LayoutView",
            "align_content": null,
            "align_items": null,
            "align_self": null,
            "border": null,
            "bottom": null,
            "display": null,
            "flex": null,
            "flex_flow": null,
            "grid_area": null,
            "grid_auto_columns": null,
            "grid_auto_flow": null,
            "grid_auto_rows": null,
            "grid_column": null,
            "grid_gap": null,
            "grid_row": null,
            "grid_template_areas": null,
            "grid_template_columns": null,
            "grid_template_rows": null,
            "height": null,
            "justify_content": null,
            "justify_items": null,
            "left": null,
            "margin": null,
            "max_height": null,
            "max_width": null,
            "min_height": null,
            "min_width": null,
            "object_fit": null,
            "object_position": null,
            "order": null,
            "overflow": null,
            "overflow_x": null,
            "overflow_y": null,
            "padding": null,
            "right": null,
            "top": null,
            "visibility": null,
            "width": null
          }
        },
        "539344b1510b4ad4b29867259a07e3cd": {
          "model_module": "@jupyter-widgets/controls",
          "model_name": "DescriptionStyleModel",
          "model_module_version": "1.5.0",
          "state": {
            "_model_module": "@jupyter-widgets/controls",
            "_model_module_version": "1.5.0",
            "_model_name": "DescriptionStyleModel",
            "_view_count": null,
            "_view_module": "@jupyter-widgets/base",
            "_view_module_version": "1.2.0",
            "_view_name": "StyleView",
            "description_width": ""
          }
        }
      }
    }
  },
  "cells": [
    {
      "cell_type": "markdown",
      "source": [
        "# single item color classification"
      ],
      "metadata": {
        "id": "STseeyyPCCTw"
      }
    },
    {
      "cell_type": "code",
      "source": [
        "import numpy as np\n",
        "import os\n",
        "import pickle\n",
        "from tqdm.auto import tqdm\n",
        "import json\n",
        "\n",
        "from PIL import Image, ImageDraw"
      ],
      "metadata": {
        "id": "AdL345u2EEeP"
      },
      "execution_count": null,
      "outputs": []
    },
    {
      "cell_type": "code",
      "execution_count": null,
      "metadata": {
        "id": "aARVThPg8dOS"
      },
      "outputs": [],
      "source": [
        "encoding_label_color = {\n",
        "    \"블랙\":0,\n",
        "    \"화이트\":1,\n",
        "    \"그레이\":2,\n",
        "    \"레드\":3,\n",
        "    \"핑크\":4,\n",
        "    \"오렌지\":5,\n",
        "    \"베이지\":6,\n",
        "    \"브라운\":7,\n",
        "    \"옐로우\":8,\n",
        "    \"그린\":9,\n",
        "    \"카키\":10,\n",
        "    \"민트\":11,\n",
        "    \"블루\":12,\n",
        "    \"네이비\":13,\n",
        "    \"스카이블루\":14,\n",
        "    \"퍼플\":15,\n",
        "    \"라벤더\":16,\n",
        "    \"와인\":17,\n",
        "    \"네온\":18,\n",
        "    \"골드\":19\n",
        "}"
      ]
    },
    {
      "cell_type": "code",
      "source": [
        "encoding_label_category = {\n",
        "    \"상의\":0,\n",
        "    \"하의\":1,\n",
        "    \"아우터\":2,\n",
        "    \"원피스\":3\n",
        "}"
      ],
      "metadata": {
        "id": "ws0e2Pu9Or8Q"
      },
      "execution_count": null,
      "outputs": []
    },
    {
      "cell_type": "code",
      "source": [
        "## data\n",
        "with open(\"/content/drive/MyDrive/pickle/train/섹시/train_sexy.pkl\",\"rb\") as fr:\n",
        "    data_list = pickle.load(fr)\n",
        "len(data_list)"
      ],
      "metadata": {
        "colab": {
          "base_uri": "https://localhost:8080/"
        },
        "id": "htQMCR1yCFiT",
        "outputId": "23b106fc-e570-4110-9650-91f541e0e8df"
      },
      "execution_count": null,
      "outputs": [
        {
          "output_type": "execute_result",
          "data": {
            "text/plain": [
              "6322"
            ]
          },
          "metadata": {},
          "execution_count": 51
        }
      ]
    },
    {
      "cell_type": "code",
      "source": [
        "## label\n",
        "with open(\"/content/drive/MyDrive/pickle/train/섹시/train_label_sexy.pkl\",\"rb\") as fr:\n",
        "    label_list = pickle.load(fr)\n",
        "len(label_list)"
      ],
      "metadata": {
        "colab": {
          "base_uri": "https://localhost:8080/"
        },
        "id": "vBWGruGKEZsN",
        "outputId": "8c71fa0d-1dc4-4acc-8b9e-bb45e1cfe3bf"
      },
      "execution_count": null,
      "outputs": [
        {
          "output_type": "execute_result",
          "data": {
            "text/plain": [
              "6322"
            ]
          },
          "metadata": {},
          "execution_count": 50
        }
      ]
    },
    {
      "cell_type": "code",
      "source": [
        "label_list[0]"
      ],
      "metadata": {
        "colab": {
          "base_uri": "https://localhost:8080/",
          "height": 35
        },
        "id": "j5PTzmzNE_07",
        "outputId": "9a9f9f8c-438e-46c7-fd08-e2f665b757df"
      },
      "execution_count": null,
      "outputs": [
        {
          "output_type": "execute_result",
          "data": {
            "text/plain": [
              "'/content/drive/MyDrive/fashiondata/label/Training/레트로/1153830.json'"
            ],
            "application/vnd.google.colaboratory.intrinsic+json": {
              "type": "string"
            }
          },
          "metadata": {},
          "execution_count": 6
        }
      ]
    },
    {
      "cell_type": "code",
      "source": [
        "with open(f\"{label_list[0]}\",\"r\") as fr:\n",
        "    \n",
        "    data = json.load(fr)"
      ],
      "metadata": {
        "id": "BbcCF3WhIIzD"
      },
      "execution_count": null,
      "outputs": []
    },
    {
      "cell_type": "code",
      "source": [
        "data['데이터셋 정보']['데이터셋 상세설명']['라벨링']"
      ],
      "metadata": {
        "colab": {
          "base_uri": "https://localhost:8080/"
        },
        "id": "CSIqJ3MRQW9_",
        "outputId": "8e7038bf-968f-4c75-9cdb-a970ad658930"
      },
      "execution_count": null,
      "outputs": [
        {
          "output_type": "execute_result",
          "data": {
            "text/plain": [
              "{'스타일': [{'스타일': '레트로', '서브스타일': '스트리트'}],\n",
              " '아우터': [{}],\n",
              " '하의': [{'기장': '발목',\n",
              "   '색상': '블랙',\n",
              "   '카테고리': '팬츠',\n",
              "   '소재': ['우븐'],\n",
              "   '프린트': ['무지'],\n",
              "   '핏': '노멀'}],\n",
              " '원피스': [{}],\n",
              " '상의': [{'기장': '노멀',\n",
              "   '색상': '그린',\n",
              "   '서브색상': '오렌지',\n",
              "   '카테고리': '블라우스',\n",
              "   '옷깃': '보우칼라',\n",
              "   '디테일': ['리본', '스트링'],\n",
              "   '소매기장': '긴팔',\n",
              "   '소재': ['우븐'],\n",
              "   '프린트': ['무지', '도트'],\n",
              "   '핏': '루즈'}]}"
            ]
          },
          "metadata": {},
          "execution_count": 27
        }
      ]
    },
    {
      "cell_type": "code",
      "source": [
        "rect = data['데이터셋 정보']['데이터셋 상세설명']['렉트좌표']\n",
        "\n",
        "points = data['데이터셋 정보']['데이터셋 상세설명']['폴리곤좌표']\n",
        "\n",
        "rect"
      ],
      "metadata": {
        "colab": {
          "base_uri": "https://localhost:8080/"
        },
        "id": "GoBuVaYRINYQ",
        "outputId": "0aefc90f-dec8-44a3-a03f-786f8abce65d"
      },
      "execution_count": null,
      "outputs": [
        {
          "output_type": "execute_result",
          "data": {
            "text/plain": [
              "{'아우터': [{}],\n",
              " '하의': [{'X좌표': 323.5, 'Y좌표': 403.705, '가로': 218, '세로': 500}],\n",
              " '원피스': [{}],\n",
              " '상의': [{'X좌표': 221.5, 'Y좌표': 1.49936, '가로': 363, '세로': 443}]}"
            ]
          },
          "metadata": {},
          "execution_count": 13
        }
      ]
    },
    {
      "cell_type": "code",
      "source": [
        "obj_data_list = []\n",
        "\n",
        "single_category_list = []\n",
        "\n",
        "single_color_list = []"
      ],
      "metadata": {
        "id": "2TjK6tDRMm1b"
      },
      "execution_count": null,
      "outputs": []
    },
    {
      "cell_type": "code",
      "source": [
        "#create train_data for one\n",
        "\n",
        "for filename,labelname in tqdm(zip(data_list, label_list)):\n",
        "    \n",
        "    obj_data = {}\n",
        "    \n",
        "    category_data = {}\n",
        "\n",
        "    color_data = {}\n",
        "\n",
        "    color_labels = {}\n",
        "\n",
        "    with open(f\"{labelname}\",\"r\") as fr:\n",
        "        \n",
        "        data = json.load(fr)\n",
        "\n",
        "        rect = data['데이터셋 정보']['데이터셋 상세설명']['렉트좌표']\n",
        "        points = data['데이터셋 정보']['데이터셋 상세설명']['폴리곤좌표']\n",
        "\n",
        "        obj_data[\"file_name\"] = filename\n",
        "        obj_data[\"rect\"] = rect\n",
        "\n",
        "        category_data[\"file_name\"] = filename\n",
        "        category_data[\"points\"] = points\n",
        "        \n",
        "        attribute = data['데이터셋 정보']['데이터셋 상세설명']['라벨링']\n",
        "\n",
        "        for i in [\"아우터\",\"상의\",\"하의\",\"원피스\"]:\n",
        "            \n",
        "            if attribute[i][0] != {}:\n",
        "                \n",
        "                try:\n",
        "\n",
        "                    color_labels[i] = attribute[i][0][\"색상\"]\n",
        "                \n",
        "                except:\n",
        "                    \n",
        "                    continue\n",
        "        \n",
        "        if color_labels != {}:\n",
        "            \n",
        "            color_data[\"file_name\"] = filename\n",
        "            color_data[\"points\"] = points\n",
        "            color_data[\"labels\"] = color_labels\n",
        "            single_color_list.append(color_data)\n",
        "    \n",
        "\n",
        "    obj_data_list.append(obj_data)\n",
        "    single_category_list.append(category_data)"
      ],
      "metadata": {
        "colab": {
          "base_uri": "https://localhost:8080/",
          "height": 49,
          "referenced_widgets": [
            "3aff0b07d96f45e0b19f3be5fdc703da",
            "df0c2bc7b3c04ee492c16b9a857fcf6b",
            "fbf1f39b56de4572a894b37a7039e4de",
            "fa5dcdd9f7a4485d8b92e00dcbbe7a10",
            "70bfdbaa94f14912a9c8ad73dacbf402",
            "c0df4f1c9de047d395ce1c04f2b6f766",
            "1b5ad1c6e7b74295b4d226fed7467dcc",
            "c69c9990019d4998b87dc231ef113aff",
            "d294a76d779642bb8b9c1ee91da565ca",
            "94412661bbe5477faca1f9a43f7d8273",
            "539344b1510b4ad4b29867259a07e3cd"
          ]
        },
        "id": "TP5ShifUOQsx",
        "outputId": "0ff5633b-0f1e-4ab7-88cd-11b761128071"
      },
      "execution_count": null,
      "outputs": [
        {
          "output_type": "display_data",
          "data": {
            "text/plain": [
              "0it [00:00, ?it/s]"
            ],
            "application/vnd.jupyter.widget-view+json": {
              "version_major": 2,
              "version_minor": 0,
              "model_id": "3aff0b07d96f45e0b19f3be5fdc703da"
            }
          },
          "metadata": {}
        }
      ]
    },
    {
      "cell_type": "code",
      "source": [
        "len(obj_data_list)"
      ],
      "metadata": {
        "colab": {
          "base_uri": "https://localhost:8080/"
        },
        "id": "NBqvLSmaZfxr",
        "outputId": "a229c5bc-614d-4b77-e25d-2aa599247345"
      },
      "execution_count": null,
      "outputs": [
        {
          "output_type": "execute_result",
          "data": {
            "text/plain": [
              "23188"
            ]
          },
          "metadata": {},
          "execution_count": 53
        }
      ]
    },
    {
      "cell_type": "code",
      "source": [
        "len(single_category_list)"
      ],
      "metadata": {
        "colab": {
          "base_uri": "https://localhost:8080/"
        },
        "id": "_69mtCvZZhS5",
        "outputId": "75b3027c-4d36-4948-ea67-efad81050669"
      },
      "execution_count": null,
      "outputs": [
        {
          "output_type": "execute_result",
          "data": {
            "text/plain": [
              "23188"
            ]
          },
          "metadata": {},
          "execution_count": 54
        }
      ]
    },
    {
      "cell_type": "code",
      "source": [
        "len(single_color_list)"
      ],
      "metadata": {
        "colab": {
          "base_uri": "https://localhost:8080/"
        },
        "id": "t8GXNzIrZjBT",
        "outputId": "87c6a286-2c45-4c59-aaaf-f943d310b542"
      },
      "execution_count": null,
      "outputs": [
        {
          "output_type": "execute_result",
          "data": {
            "text/plain": [
              "23072"
            ]
          },
          "metadata": {},
          "execution_count": 55
        }
      ]
    },
    {
      "cell_type": "code",
      "source": [
        "with open(\"/content/drive/MyDrive/pickle/train_obj_data_annotation.pkl\",\"wb\") as fw:\n",
        "    pickle.dump(obj_data_list, fw)"
      ],
      "metadata": {
        "id": "E9a5rlqPTxoQ"
      },
      "execution_count": null,
      "outputs": []
    },
    {
      "cell_type": "code",
      "source": [
        "with open(\"/content/drive/MyDrive/pickle/train_category_data_annotation.pkl\",\"wb\") as fw:\n",
        "    pickle.dump(single_category_list, fw)"
      ],
      "metadata": {
        "id": "dUBmFmtfVhFM"
      },
      "execution_count": null,
      "outputs": []
    },
    {
      "cell_type": "code",
      "source": [
        "with open(\"/content/drive/MyDrive/pickle/train_color_data_annotation.pkl\",\"wb\") as fw:\n",
        "    pickle.dump(single_color_list, fw)"
      ],
      "metadata": {
        "id": "IYNiaWKMVhkR"
      },
      "execution_count": null,
      "outputs": []
    },
    {
      "cell_type": "code",
      "source": [],
      "metadata": {
        "id": "uAhDs4G1ZmkU"
      },
      "execution_count": null,
      "outputs": []
    }
  ]
}