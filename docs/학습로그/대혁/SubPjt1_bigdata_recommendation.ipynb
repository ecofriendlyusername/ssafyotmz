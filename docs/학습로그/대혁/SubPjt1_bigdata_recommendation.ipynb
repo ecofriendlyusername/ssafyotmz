{
  "nbformat": 4,
  "nbformat_minor": 0,
  "metadata": {
    "colab": {
      "provenance": []
    },
    "kernelspec": {
      "name": "python3",
      "display_name": "Python 3"
    },
    "language_info": {
      "name": "python"
    }
  },
  "cells": [
    {
      "cell_type": "markdown",
      "source": [
        "# data save & load"
      ],
      "metadata": {
        "id": "BYBpJnFlZ-Yx"
      }
    },
    {
      "cell_type": "code",
      "source": [],
      "metadata": {
        "id": "8e-TtlxXstX0"
      },
      "execution_count": null,
      "outputs": []
    },
    {
      "cell_type": "code",
      "execution_count": null,
      "metadata": {
        "colab": {
          "base_uri": "https://localhost:8080/"
        },
        "id": "mc5MfPQcN1F5",
        "outputId": "a0ce9edf-9fa0-4b1c-e28f-8b86516b439a"
      },
      "outputs": [
        {
          "output_type": "stream",
          "name": "stdout",
          "text": [
            "[*] Parsing data...\n",
            "[+] Done\n",
            "[*] Dumping data...\n",
            "[+] Done\n",
            "\n",
            "[음식점]\n",
            "-------------------------------------------------------------------------------\n",
            "\n",
            "   id     store_name branch  area            tel                address  \\\n",
            "0   1           Agal   None    홍대  010-6689-5886   서울특별시 마포구 동교동 170-13   \n",
            "1   2         Assisy   None    광주   062-367-0700    광주광역시 서구 농성동 631-33   \n",
            "2   3  Battered Sole   None   이태원    02-749-6867   서울특별시 용산구 이태원동 118-9   \n",
            "3   4      Chakyoung   None  달맞이길   051-756-5566  부산광역시 해운대구 중2동 1509-5   \n",
            "4   5       Delabobo   None   발산역   02-2667-9854      서울특별시 강서구 등촌동 689   \n",
            "\n",
            "    latitude   longitude   category  \n",
            "0  37.556862  126.926666   아구찜|포장마차  \n",
            "1  35.150746  126.890062         카페  \n",
            "2  37.535032  126.991664    피쉬앤칩스|펍  \n",
            "3  35.158587  129.175004  레스토랑|카프레제  \n",
            "4  37.559904  126.840512  디저트카페|디저트  \n",
            "\n",
            "-------------------------------------------------------------------------------\n",
            "\n",
            "\n",
            "[리뷰]\n",
            "-------------------------------------------------------------------------------\n",
            "\n",
            "   id  store    user  score  \\\n",
            "0   1     15   68632      5   \n",
            "1   2     18  389728      5   \n",
            "2   3     19   68716      4   \n",
            "3   4     37  774353      2   \n",
            "4   5     38  115682      3   \n",
            "\n",
            "                                             content             reg_time  \n",
            "0         전포 윗길에 새로 생긴! 호주에서 온 쉐프가 직접 요리하는 호주식 레스토랑!  1970-01-01 00:00:00  \n",
            "1                    샌드위치 내용물도 알차게 들어있고 맛있었어요 가성비 추천  1970-01-01 00:00:00  \n",
            "2  홈플러스 1층 매장 푸드코트 내 있는 매장인데 계란찜정식은 처음보고 시켜봣는데 사진...  1970-01-01 00:00:00  \n",
            "3  전 여기 5년전에 가봤었는데 그때 기억은 별로였어요\\n단체손님이 많았고, 차려지는건...  1970-01-01 00:00:00  \n",
            "4  친구들끼리 술 간단하게마시러 감. 스끼다시 괜찮지만 회 양이 조금 부족한 느낌. 맛...  2019-03-15 22:16:47  \n",
            "\n",
            "-------------------------------------------------------------------------------\n",
            "\n",
            "\n"
          ]
        }
      ],
      "source": [
        "import json\n",
        "import pandas as pd\n",
        "import os\n",
        "import shutil\n",
        "\n",
        "DATA_DIR = \"/content/drive/MyDrive/\"\n",
        "DATA_FILE = os.path.join(DATA_DIR, \"data.json\")\n",
        "DUMP_FILE = os.path.join(DATA_DIR, \"dump.pkl\")\n",
        "\n",
        "store_columns = (\n",
        "    \"id\",  # 음식점 고유번호\n",
        "    \"store_name\",  # 음식점 이름\n",
        "    \"branch\",  # 음식점 지점 여부\n",
        "    \"area\",  # 음식점 위치\n",
        "    \"tel\",  # 음식점 번호\n",
        "    \"address\",  # 음식점 주소\n",
        "    \"latitude\",  # 음식점 위도\n",
        "    \"longitude\",  # 음식점 경도\n",
        "    \"category\",  # 음식점 카테고리\n",
        ")\n",
        "\n",
        "review_columns = (\n",
        "    \"id\",  # 리뷰 고유번호\n",
        "    \"store\",  # 음식점 고유번호\n",
        "    \"user\",  # 유저 고유번호\n",
        "    \"score\",  # 평점\n",
        "    \"content\",  # 리뷰 내용\n",
        "    \"reg_time\",  # 리뷰 등록 시간\n",
        ")\n",
        "\n",
        "\n",
        "def import_data(data_path=DATA_FILE):\n",
        "    \"\"\"\n",
        "    Req. 1-1-1 음식점 데이터 파일을 읽어서 Pandas DataFrame 형태로 저장합니다\n",
        "    \"\"\"\n",
        "\n",
        "    try:\n",
        "        with open(data_path, encoding=\"utf-8\") as f:\n",
        "            data = json.loads(f.read())\n",
        "    except FileNotFoundError as e:\n",
        "        print(f\"`{data_path}` 가 존재하지 않습니다.\")\n",
        "        exit(1)\n",
        "\n",
        "    stores = []  # 음식점 테이블\n",
        "    reviews = []  # 리뷰 테이블\n",
        "\n",
        "    for d in data:\n",
        "\n",
        "        categories = [c[\"category\"] for c in d[\"category_list\"]]\n",
        "        stores.append(\n",
        "            [\n",
        "                d[\"id\"],\n",
        "                d[\"name\"],\n",
        "                d[\"branch\"],\n",
        "                d[\"area\"],\n",
        "                d[\"tel\"],\n",
        "                d[\"address\"],\n",
        "                d[\"latitude\"],\n",
        "                d[\"longitude\"],\n",
        "                \"|\".join(categories),\n",
        "            ]\n",
        "        )\n",
        "\n",
        "        for review in d[\"review_list\"]:\n",
        "            r = review[\"review_info\"]\n",
        "            u = review[\"writer_info\"]\n",
        "\n",
        "            reviews.append(\n",
        "                [r[\"id\"], d[\"id\"], u[\"id\"], r[\"score\"], r[\"content\"], r[\"reg_time\"]]\n",
        "            )\n",
        "\n",
        "    store_frame = pd.DataFrame(data=stores, columns=store_columns)\n",
        "    review_frame = pd.DataFrame(data=reviews, columns=review_columns)\n",
        "\n",
        "    return {\"stores\": store_frame, \"reviews\": review_frame}\n",
        "\n",
        "\n",
        "def dump_dataframes(dataframes):\n",
        "    pd.to_pickle(dataframes, DUMP_FILE)\n",
        "\n",
        "\n",
        "def load_dataframes():\n",
        "    return pd.read_pickle(DUMP_FILE)\n",
        "\n",
        "print(\"[*] Parsing data...\")\n",
        "data = import_data()\n",
        "print(\"[+] Done\")\n",
        "\n",
        "print(\"[*] Dumping data...\")\n",
        "dump_dataframes(data)\n",
        "print(\"[+] Done\\n\")\n",
        "\n",
        "data = load_dataframes()\n",
        "\n",
        "term_w = shutil.get_terminal_size()[0] - 1\n",
        "separater = \"-\" * term_w\n",
        "\n",
        "print(\"[음식점]\")\n",
        "print(f\"{separater}\\n\")\n",
        "print(data[\"stores\"].head())\n",
        "print(f\"\\n{separater}\\n\\n\")\n",
        "\n",
        "print(\"[리뷰]\")\n",
        "print(f\"{separater}\\n\")\n",
        "print(data[\"reviews\"].head())\n",
        "print(f\"\\n{separater}\\n\\n\")"
      ]
    },
    {
      "cell_type": "code",
      "source": [
        "import pandas as pd\n",
        "import shutil\n",
        "\n",
        "\n",
        "def sort_stores_by_score(dataframes, n=20, min_reviews=30):\n",
        "    \"\"\"\n",
        "    Req. 1-2-1 각 음식점의 평균 평점을 계산하여 높은 평점의 음식점 순으로 `n`개의 음식점을 정렬하여 리턴합니다\n",
        "    Req. 1-2-2 리뷰 개수가 `min_reviews` 미만인 음식점은 제외합니다.\n",
        "    \"\"\"\n",
        "    stores_reviews = pd.merge(\n",
        "        dataframes[\"stores\"], dataframes[\"reviews\"], left_on=\"id\", right_on=\"store\"\n",
        "    )\n",
        "    scores_group = stores_reviews.groupby([\"store\", \"store_name\"])\n",
        "    \n",
        "    #수치형 컬럼의 store,store_name별로 평균을 구한다\n",
        "\n",
        "    scores = scores_group.mean()\n",
        "    \n",
        "    #리뷰의 개수\n",
        "    scores['review_count'] = scores_group['content'].count()\n",
        "\n",
        "    #리뷰 개수가 min_review 이상인 음식점만 \n",
        "    scores = scores[scores['review_count'] >= min_reviews]\n",
        "\n",
        "    return scores.sort_values(by='score',ascending=False).head(n=n).reset_index()\n",
        "\n",
        "\n",
        "def get_most_reviewed_stores(dataframes, n=20):\n",
        "    \"\"\"\n",
        "    Req. 1-2-3 가장 많은 리뷰를 받은 `n`개의 음식점을 정렬하여 리턴합니다\n",
        "    \"\"\"\n",
        "\n",
        "    stores_reviews = pd.merge(\n",
        "        dataframes[\"stores\"], dataframes[\"reviews\"], left_on=\"id\", right_on=\"store\"\n",
        "    )\n",
        "    stores_group = stores_reviews.groupby([\"store\", \"store_name\"])\n",
        "    \n",
        "    #수치형 컬럼의 store,store_name별로 평균을 구한다\n",
        "\n",
        "    stores = stores_group.count()\n",
        "    \n",
        "    return stores.sort_values(by='content',ascending=False).head(n=n).reset_index()\n",
        "\n",
        "def get_most_active_users(dataframes, n=20):\n",
        "    \"\"\"\n",
        "    Req. 1-2-4 가장 많은 리뷰를 작성한 `n`명의 유저를 정렬하여 리턴합니다.\n",
        "    \"\"\"\n",
        "\n",
        "    stores_reviews = pd.merge(\n",
        "        dataframes[\"stores\"], dataframes[\"reviews\"], left_on=\"id\", right_on=\"store\"\n",
        "    )\n",
        "\n",
        "    user_group = stores_reviews.groupby(['user'])\n",
        "\n",
        "    users = user_group.count()\n",
        "\n",
        "    return users.sort_values(by='content',ascending=False).head(n=n).reset_index()\n",
        "\n",
        "data = load_dataframes()\n",
        "\n",
        "term_w = shutil.get_terminal_size()[0] - 1\n",
        "separater = \"-\" * term_w\n",
        "\n",
        "stores_most_scored = sort_stores_by_score(data)\n",
        "stores_most_reviewed = get_most_reviewed_stores(data)\n",
        "stores_most_active = get_most_active_users(data)\n",
        "\n",
        "print(\"[최고 평점 음식점]\")\n",
        "print(f\"{separater}\\n\")\n",
        "for i, store in stores_most_scored.iterrows():\n",
        "    print(\n",
        "        \"{rank}위: {store}({score}점)\".format(\n",
        "            rank=i + 1, store=store.store_name, score=store.score\n",
        "        )\n",
        "    )\n",
        "print(f\"\\n{separater}\\n\\n\")\n",
        "\n",
        "\n",
        "print(\"[최고 리뷰 음식점]\")\n",
        "print(f\"{separater}\\n\")\n",
        "for i, store in stores_most_reviewed.iterrows():\n",
        "    print(\n",
        "        \"{rank}위: {store}({review}개)\".format(\n",
        "            rank=i + 1, store=store.store_name, review=store.content\n",
        "        )\n",
        "    )\n",
        "print(f\"\\n{separater}\\n\\n\")\n",
        "\n",
        "\n",
        "print(\"[다수 리뷰 유저]\")\n",
        "print(f\"{separater}\\n\")\n",
        "for i, user in stores_most_active.iterrows():\n",
        "    print(\n",
        "        \"{rank}위: {user}({review}개)\".format(\n",
        "            rank=i + 1, user=user.user, review=user.content\n",
        "        )\n",
        "    )\n",
        "print(f\"\\n{separater}\\n\\n\")\n"
      ],
      "metadata": {
        "colab": {
          "base_uri": "https://localhost:8080/"
        },
        "id": "wf89rIhJQ_yt",
        "outputId": "1b4b5261-6054-4c55-86a8-23308ed39084"
      },
      "execution_count": null,
      "outputs": [
        {
          "output_type": "stream",
          "name": "stdout",
          "text": [
            "[최고 평점 음식점]\n",
            "-------------------------------------------------------------------------------\n",
            "\n",
            "1위: 더아리엘(4.818181818181818점)\n",
            "2위: 농민백암순대(4.612903225806452점)\n",
            "3위: 다운타우너(4.609756097560975점)\n",
            "4위: 정돈(4.430769230769231점)\n",
            "5위: 미분당(4.36734693877551점)\n",
            "6위: 동원집(4.366666666666666점)\n",
            "7위: 소이연남(4.30188679245283점)\n",
            "8위: 을밀대(4.285714285714286점)\n",
            "9위: 봉브레드(4.266666666666667점)\n",
            "10위: 사모님돈가스(4.25점)\n",
            "11위: 고기리 막국수(4.244897959183674점)\n",
            "12위: 중앙해장(4.212121212121212점)\n",
            "13위: 명진전복(4.180327868852459점)\n",
            "14위: 명동교자(4.158415841584159점)\n",
            "15위: 브루클린더버거조인트(4.128205128205129점)\n",
            "16위: 엄지네포장마차(4.125점)\n",
            "17위: 우진해장국(4.1점)\n",
            "18위: 우래옥(4.095238095238095점)\n",
            "19위: 성심당(4.09375점)\n",
            "20위: 스시로로(4.083333333333333점)\n",
            "\n",
            "-------------------------------------------------------------------------------\n",
            "\n",
            "\n",
            "[최고 리뷰 음식점]\n",
            "-------------------------------------------------------------------------------\n",
            "\n",
            "1위: 명동교자(101개)\n",
            "2위: 우진해장국(70개)\n",
            "3위: 정돈(65개)\n",
            "4위: 봉포머구리집(64개)\n",
            "5위: 우래옥(63개)\n",
            "6위: 명진전복(61개)\n",
            "7위: 동화가든(59개)\n",
            "8위: 육회자매집(58개)\n",
            "9위: 을지면옥(55개)\n",
            "10위: 쉑쉑버거(55개)\n",
            "11위: 윤씨밀방(55개)\n",
            "12위: 소이연남(53개)\n",
            "13위: 미진(51개)\n",
            "14위: 라이너스바베큐(49개)\n",
            "15위: 을밀대(49개)\n",
            "16위: 미분당(49개)\n",
            "17위: 고기리 막국수(49개)\n",
            "18위: 미즈컨테이너(48개)\n",
            "19위: 올래국수(48개)\n",
            "20위: 조점례 남문피순대(47개)\n",
            "\n",
            "-------------------------------------------------------------------------------\n",
            "\n",
            "\n",
            "[다수 리뷰 유저]\n",
            "-------------------------------------------------------------------------------\n",
            "\n",
            "1위: 469245(461개)\n",
            "2위: 243883(389개)\n",
            "3위: 328775(380개)\n",
            "4위: 391794(362개)\n",
            "5위: 74999(352개)\n",
            "6위: 179719(317개)\n",
            "7위: 724982(285개)\n",
            "8위: 103304(282개)\n",
            "9위: 728009(271개)\n",
            "10위: 390564(268개)\n",
            "11위: 180519(257개)\n",
            "12위: 485567(249개)\n",
            "13위: 218901(243개)\n",
            "14위: 32143(240개)\n",
            "15위: 884890(233개)\n",
            "16위: 151946(227개)\n",
            "17위: 745537(220개)\n",
            "18위: 213301(217개)\n",
            "19위: 9852(214개)\n",
            "20위: 350771(213개)\n",
            "\n",
            "-------------------------------------------------------------------------------\n",
            "\n",
            "\n"
          ]
        }
      ]
    },
    {
      "cell_type": "code",
      "source": [
        "#한글 글꼴 설치\n",
        "\n",
        "# !sudo apt-get install -y fonts-nanum\n",
        "# !sudo fc-cache -fv\n",
        "# !rm ~/.cache/matplotlib -rf"
      ],
      "metadata": {
        "id": "AE1DH0AQ85te"
      },
      "execution_count": null,
      "outputs": []
    },
    {
      "cell_type": "code",
      "source": [
        "import itertools\n",
        "from collections import Counter\n",
        "import pandas as pd\n",
        "import seaborn as sns\n",
        "import matplotlib.pyplot as plt\n",
        "import matplotlib.font_manager as fm\n",
        "\n",
        "\n",
        "def set_config():\n",
        "    # 폰트, 그래프 색상 설정\n",
        "    font_list = fm.findSystemFonts(fontpaths=None, fontext=\"ttf\")\n",
        "    if any([\"notosanscjk\" in font.lower() for font in font_list]):\n",
        "        plt.rcParams[\"font.family\"] = \"Noto Sans CJK JP\"\n",
        "    else:\n",
        "        # if not any([\"malgun\" in font.lower() for font in font_list]):\n",
        "        #     raise Exception(\n",
        "        #         \"Font missing, please install Noto Sans CJK or Malgun Gothic. If you're using ubuntu, try `sudo apt install fonts-noto-cjk`\"\n",
        "        #     )\n",
        "\n",
        "        # plt.rcParams[\"font.family\"] = \"Malgun Gothic\"\n",
        "\n",
        "        #plt.rc(\"font\",family=\"Malgun Gothic\")\n",
        "        \n",
        "        plt.rc('font', family='NanumBarunGothic')\n",
        "\n",
        "    sns.set_palette(sns.color_palette(\"Spectral\"))\n",
        "    plt.rc(\"xtick\", labelsize=6)\n",
        "\n",
        "\n",
        "def show_store_categories_graph(dataframes, n=100):\n",
        "    \"\"\"\n",
        "    Tutorial: 전체 음식점의 상위 `n`개 카테고리 분포를 그래프로 나타냅니다.\n",
        "    \"\"\"\n",
        "\n",
        "    stores = dataframes[\"stores\"]\n",
        "\n",
        "    # 모든 카테고리를 1차원 리스트에 저장합니다\n",
        "    categories = stores.category.apply(lambda c: c.split(\"|\"))\n",
        "    categories = itertools.chain.from_iterable(categories)\n",
        "\n",
        "    # 카테고리가 없는 경우 / 상위 카테고리를 추출합니다\n",
        "    categories = filter(lambda c: c != \"\", categories)\n",
        "    categories_count = Counter(list(categories))\n",
        "    best_categories = categories_count.most_common(n=n)\n",
        "    df = pd.DataFrame(best_categories, columns=[\"category\", \"count\"]).sort_values(\n",
        "        by=[\"count\"], ascending=False\n",
        "    )\n",
        "\n",
        "    # 그래프로 나타냅니다\n",
        "    chart = sns.barplot(x=\"category\", y=\"count\", data=df)\n",
        "    chart.set_xticklabels(chart.get_xticklabels(), rotation=45)\n",
        "    plt.title(\"음식점 카테고리 분포\")\n",
        "    plt.show()\n",
        "\n",
        "\n",
        "def show_store_review_distribution_graph(dataframes):\n",
        "    \"\"\"\n",
        "    Req. 1-3-1 전체 음식점의 리뷰 개수 분포를 그래프로 나타냅니다. \n",
        "    \"\"\"\n",
        "\n",
        "    stores_reviews = pd.merge(\n",
        "        dataframes[\"stores\"], dataframes[\"reviews\"], left_on=\"id\", right_on=\"store\"\n",
        "    )\n",
        "\n",
        "    store_group = stores_reviews.groupby(['store','store_name']).count()\n",
        "\n",
        "    sns.distplot(store_group.reset_index()['content'])\n",
        "    \n",
        "    #모두 사용하면 너무 오래걸림\n",
        "    #sns.barplot(x = store_group.reset_index().head(100)['store_name'], y = store_group.reset_index().head(100)['content'])\n",
        "    plt.show()\n",
        "\n",
        "\n",
        "def show_store_average_ratings_graph(dataframes):\n",
        "    \"\"\"\n",
        "    Req. 1-3-2 각 음식점의 평균 평점을 그래프로 나타냅니다.\n",
        "    \"\"\"\n",
        "\n",
        "    stores_reviews = pd.merge(\n",
        "        dataframes[\"stores\"], dataframes[\"reviews\"], left_on=\"id\", right_on=\"store\"\n",
        "    )\n",
        "    scores_group = stores_reviews.groupby([\"store\", \"store_name\"])\n",
        "    \n",
        "    #수치형 컬럼의 store,store_name별로 평균을 구한다\n",
        "\n",
        "    scores = scores_group.mean()\n",
        "\n",
        "    #너무 많아 오래걸려 30개만\n",
        "    sns.barplot(x =scores.reset_index().head(30)['score'] , y = scores.reset_index().head(30)['store_name'])\n",
        "    plt.show()\n",
        "\n",
        "\n",
        "def show_user_review_distribution_graph(data):\n",
        "    \"\"\"\n",
        "    Req. 1-3-3 전체 유저의 리뷰 개수 분포를 그래프로 나타냅니다.\n",
        "    \"\"\"\n",
        "\n",
        "    stores_reviews = pd.merge(\n",
        "        data[\"stores\"], data[\"reviews\"], left_on=\"id\", right_on=\"store\"\n",
        "    )\n",
        "\n",
        "    user_group = stores_reviews.groupby(['user'])\n",
        "\n",
        "    users = user_group.count()\n",
        "\n",
        "    sns.distplot(users.reset_index()['content'])\n",
        "\n",
        "    plt.show()\n",
        "\n",
        "def show_user_age_gender_distribution_graph(dataframes):\n",
        "    \"\"\"\n",
        "    Req. 1-3-4 전체 유저의 성별/나이대 분포를 그래프로 나타냅니다.\n",
        "    \"\"\"\n",
        "    raise NotImplementedError\n",
        "\n",
        "\n",
        "def show_stores_distribution_graph(dataframes):\n",
        "    \"\"\"\n",
        "    Req. 1-3-5 각 음식점의 위치 분포를 지도에 나타냅니다.\n",
        "    \"\"\"\n",
        "    raise NotImplementedError\n",
        "\n",
        "\n"
      ],
      "metadata": {
        "id": "0CdqlS_TTPwF"
      },
      "execution_count": null,
      "outputs": []
    },
    {
      "cell_type": "code",
      "source": [
        "set_config()\n",
        "data = load_dataframes()\n",
        "show_store_categories_graph(data)"
      ],
      "metadata": {
        "colab": {
          "base_uri": "https://localhost:8080/",
          "height": 308
        },
        "id": "u7op-epD8JxS",
        "outputId": "b980ce38-255d-4651-fef6-1c55c3d8f675"
      },
      "execution_count": null,
      "outputs": [
        {
          "output_type": "display_data",
          "data": {
            "text/plain": [
              "<Figure size 432x288 with 1 Axes>"
            ],
            "image/png": "[encoded data removed]"
          },
          "metadata": {
            "needs_background": "light"
          }
        }
      ]
    },
    {
      "cell_type": "code",
      "source": [
        "show_store_review_distribution_graph(data)"
      ],
      "metadata": {
        "colab": {
          "base_uri": "https://localhost:8080/",
          "height": 331
        },
        "id": "rRoheT3ZWJO-",
        "outputId": "4fee2589-0d6d-4292-c0a5-6030efe4962d"
      },
      "execution_count": null,
      "outputs": [
        {
          "output_type": "stream",
          "name": "stderr",
          "text": [
            "/usr/local/lib/python3.8/dist-packages/seaborn/distributions.py:2619: FutureWarning: `distplot` is a deprecated function and will be removed in a future version. Please adapt your code to use either `displot` (a figure-level function with similar flexibility) or `histplot` (an axes-level function for histograms).\n",
            "  warnings.warn(msg, FutureWarning)\n"
          ]
        },
        {
          "output_type": "display_data",
          "data": {
            "text/plain": [
              "<Figure size 432x288 with 1 Axes>"
            ],
            "image/png": "[encoded data removed]"
          },
          "metadata": {
            "needs_background": "light"
          }
        }
      ]
    },
    {
      "cell_type": "code",
      "source": [
        "show_store_average_ratings_graph(data)"
      ],
      "metadata": {
        "colab": {
          "base_uri": "https://localhost:8080/",
          "height": 275
        },
        "id": "0wvl4aJSXfLH",
        "outputId": "64f58230-504b-4bb4-9023-8fbbef6ea2cd"
      },
      "execution_count": null,
      "outputs": [
        {
          "output_type": "display_data",
          "data": {
            "text/plain": [
              "<Figure size 432x288 with 1 Axes>"
            ],
            "image/png": "[encoded data removed]"
          },
          "metadata": {
            "needs_background": "light"
          }
        }
      ]
    },
    {
      "cell_type": "code",
      "source": [
        "show_user_review_distribution_graph(data)"
      ],
      "metadata": {
        "colab": {
          "base_uri": "https://localhost:8080/",
          "height": 331
        },
        "id": "5GEsQKADYl19",
        "outputId": "ba58c253-3c7a-4f5a-ae1d-41abe17b8a32"
      },
      "execution_count": null,
      "outputs": [
        {
          "output_type": "stream",
          "name": "stderr",
          "text": [
            "/usr/local/lib/python3.8/dist-packages/seaborn/distributions.py:2619: FutureWarning: `distplot` is a deprecated function and will be removed in a future version. Please adapt your code to use either `displot` (a figure-level function with similar flexibility) or `histplot` (an axes-level function for histograms).\n",
            "  warnings.warn(msg, FutureWarning)\n"
          ]
        },
        {
          "output_type": "display_data",
          "data": {
            "text/plain": [
              "<Figure size 432x288 with 1 Axes>"
            ],
            "image/png": "[encoded data removed]"
          },
          "metadata": {
            "needs_background": "light"
          }
        }
      ]
    },
    {
      "cell_type": "code",
      "source": [
        "stores_reviews = pd.merge(\n",
        "        data[\"stores\"], data[\"reviews\"], left_on=\"id\", right_on=\"store\"\n",
        "    )\n",
        "\n",
        "\n",
        "store_group = stores_reviews.groupby(['store','store_name']).count()"
      ],
      "metadata": {
        "id": "G5Fa79tZ8L2M"
      },
      "execution_count": null,
      "outputs": []
    },
    {
      "cell_type": "code",
      "source": [
        "stores_reviews = pd.merge(\n",
        "        data[\"stores\"], data[\"reviews\"], left_on=\"id\", right_on=\"store\"\n",
        "    )\n",
        "\n",
        "\n",
        "store_group = stores_reviews.groupby(['store','store_name'])\n",
        "\n",
        "x = store_group.count().reset_index()['store_name']\n",
        "y = store_group.count().reset_index()['content']"
      ],
      "metadata": {
        "id": "rw8dCz9LO9ro"
      },
      "execution_count": null,
      "outputs": []
    },
    {
      "cell_type": "code",
      "source": [
        "len(x.unique())"
      ],
      "metadata": {
        "colab": {
          "base_uri": "https://localhost:8080/"
        },
        "id": "vIet3QDbPA9Z",
        "outputId": "36103d70-dd4e-47e0-e193-92bedc30d49c"
      },
      "execution_count": null,
      "outputs": [
        {
          "output_type": "execute_result",
          "data": {
            "text/plain": [
              "31747"
            ]
          },
          "metadata": {},
          "execution_count": 39
        }
      ]
    },
    {
      "cell_type": "code",
      "source": [
        "y"
      ],
      "metadata": {
        "colab": {
          "base_uri": "https://localhost:8080/"
        },
        "id": "9EjIKbgJPqAU",
        "outputId": "d6e1fb43-8611-4f0e-8d34-d4b43ddb7023"
      },
      "execution_count": null,
      "outputs": [
        {
          "output_type": "execute_result",
          "data": {
            "text/plain": [
              "0        1\n",
              "1        1\n",
              "2        1\n",
              "3        1\n",
              "4        1\n",
              "        ..\n",
              "45695    4\n",
              "45696    1\n",
              "45697    1\n",
              "45698    2\n",
              "45699    1\n",
              "Name: content, Length: 45700, dtype: int64"
            ]
          },
          "metadata": {},
          "execution_count": 10
        }
      ]
    },
    {
      "cell_type": "code",
      "source": [
        "import seaborn as sns\n",
        "sns.barplot(x = store_group.reset_index().head(100)['store_name'], y = store_group.reset_index().head(100)['content'])"
      ],
      "metadata": {
        "colab": {
          "base_uri": "https://localhost:8080/",
          "height": 294
        },
        "id": "rZHu-aL7PqSR",
        "outputId": "80a50809-7848-453c-d61e-845a4abede92"
      },
      "execution_count": null,
      "outputs": [
        {
          "output_type": "execute_result",
          "data": {
            "text/plain": [
              "<AxesSubplot:xlabel='store_name', ylabel='content'>"
            ]
          },
          "metadata": {},
          "execution_count": 25
        },
        {
          "output_type": "display_data",
          "data": {
            "text/plain": [
              "<Figure size 432x288 with 1 Axes>"
            ],
            "image/png": "[encoded data removed]"
          },
          "metadata": {
            "needs_background": "light"
          }
        }
      ]
    },
    {
      "cell_type": "code",
      "source": [
        "stores_reviews = pd.merge(\n",
        "    data[\"stores\"], data[\"reviews\"], left_on=\"id\", right_on=\"store\"\n",
        ")\n",
        "scores_group = stores_reviews.groupby([\"store\", \"store_name\"])\n",
        "\n",
        "#수치형 컬럼의 store,store_name별로 평균을 구한다\n",
        "\n",
        "scores = scores_group.mean()"
      ],
      "metadata": {
        "id": "wQj-5-p2P40l"
      },
      "execution_count": null,
      "outputs": []
    },
    {
      "cell_type": "code",
      "source": [
        "scores"
      ],
      "metadata": {
        "colab": {
          "base_uri": "https://localhost:8080/",
          "height": 455
        },
        "id": "9sTYplG6W1fr",
        "outputId": "f2b9ff9a-10b0-4799-bc8a-3ad786ed39f0"
      },
      "execution_count": null,
      "outputs": [
        {
          "output_type": "execute_result",
          "data": {
            "text/plain": [
              "                       id_x    id_y      user  score\n",
              "store  store_name                                   \n",
              "15     써리힐             15.0     1.0   68632.0   5.00\n",
              "18     진삼미 샌드위치        18.0     2.0  389728.0   5.00\n",
              "19     한옥마을 전주비빔밥      19.0     3.0   68716.0   4.00\n",
              "37     007식당           37.0     4.0  774353.0   2.00\n",
              "38     010수산           38.0     5.0  115682.0   3.00\n",
              "...                     ...     ...       ...    ...\n",
              "360493 지구촌 가정식     360493.0  2398.5  149781.0   3.75\n",
              "360499 지구촌한우생고기    360499.0  2401.0   17371.0   5.00\n",
              "360505 지군포차        360505.0  2402.0  198050.0   4.00\n",
              "360514 지글          360514.0  2403.5  196165.0   4.50\n",
              "360515 지글          360515.0  2405.0  611078.0   5.00\n",
              "\n",
              "[45700 rows x 4 columns]"
            ],
            "text/html": [
              "\n",
              "  <div id=\"df-b2d9cba2-6489-442d-873d-5f902b341287\">\n",
              "    <div class=\"colab-df-container\">\n",
              "      <div>\n",
              "<style scoped>\n",
              "    .dataframe tbody tr th:only-of-type {\n",
              "        vertical-align: middle;\n",
              "    }\n",
              "\n",
              "    .dataframe tbody tr th {\n",
              "        vertical-align: top;\n",
              "    }\n",
              "\n",
              "    .dataframe thead th {\n",
              "        text-align: right;\n",
              "    }\n",
              "</style>\n",
              "<table border=\"1\" class=\"dataframe\">\n",
              "  <thead>\n",
              "    <tr style=\"text-align: right;\">\n",
              "      <th></th>\n",
              "      <th></th>\n",
              "      <th>id_x</th>\n",
              "      <th>id_y</th>\n",
              "      <th>user</th>\n",
              "      <th>score</th>\n",
              "    </tr>\n",
              "    <tr>\n",
              "      <th>store</th>\n",
              "      <th>store_name</th>\n",
              "      <th></th>\n",
              "      <th></th>\n",
              "      <th></th>\n",
              "      <th></th>\n",
              "    </tr>\n",
              "  </thead>\n",
              "  <tbody>\n",
              "    <tr>\n",
              "      <th>15</th>\n",
              "      <th>써리힐</th>\n",
              "      <td>15.0</td>\n",
              "      <td>1.0</td>\n",
              "      <td>68632.0</td>\n",
              "      <td>5.00</td>\n",
              "    </tr>\n",
              "    <tr>\n",
              "      <th>18</th>\n",
              "      <th>진삼미 샌드위치</th>\n",
              "      <td>18.0</td>\n",
              "      <td>2.0</td>\n",
              "      <td>389728.0</td>\n",
              "      <td>5.00</td>\n",
              "    </tr>\n",
              "    <tr>\n",
              "      <th>19</th>\n",
              "      <th>한옥마을 전주비빔밥</th>\n",
              "      <td>19.0</td>\n",
              "      <td>3.0</td>\n",
              "      <td>68716.0</td>\n",
              "      <td>4.00</td>\n",
              "    </tr>\n",
              "    <tr>\n",
              "      <th>37</th>\n",
              "      <th>007식당</th>\n",
              "      <td>37.0</td>\n",
              "      <td>4.0</td>\n",
              "      <td>774353.0</td>\n",
              "      <td>2.00</td>\n",
              "    </tr>\n",
              "    <tr>\n",
              "      <th>38</th>\n",
              "      <th>010수산</th>\n",
              "      <td>38.0</td>\n",
              "      <td>5.0</td>\n",
              "      <td>115682.0</td>\n",
              "      <td>3.00</td>\n",
              "    </tr>\n",
              "    <tr>\n",
              "      <th>...</th>\n",
              "      <th>...</th>\n",
              "      <td>...</td>\n",
              "      <td>...</td>\n",
              "      <td>...</td>\n",
              "      <td>...</td>\n",
              "    </tr>\n",
              "    <tr>\n",
              "      <th>360493</th>\n",
              "      <th>지구촌 가정식</th>\n",
              "      <td>360493.0</td>\n",
              "      <td>2398.5</td>\n",
              "      <td>149781.0</td>\n",
              "      <td>3.75</td>\n",
              "    </tr>\n",
              "    <tr>\n",
              "      <th>360499</th>\n",
              "      <th>지구촌한우생고기</th>\n",
              "      <td>360499.0</td>\n",
              "      <td>2401.0</td>\n",
              "      <td>17371.0</td>\n",
              "      <td>5.00</td>\n",
              "    </tr>\n",
              "    <tr>\n",
              "      <th>360505</th>\n",
              "      <th>지군포차</th>\n",
              "      <td>360505.0</td>\n",
              "      <td>2402.0</td>\n",
              "      <td>198050.0</td>\n",
              "      <td>4.00</td>\n",
              "    </tr>\n",
              "    <tr>\n",
              "      <th>360514</th>\n",
              "      <th>지글</th>\n",
              "      <td>360514.0</td>\n",
              "      <td>2403.5</td>\n",
              "      <td>196165.0</td>\n",
              "      <td>4.50</td>\n",
              "    </tr>\n",
              "    <tr>\n",
              "      <th>360515</th>\n",
              "      <th>지글</th>\n",
              "      <td>360515.0</td>\n",
              "      <td>2405.0</td>\n",
              "      <td>611078.0</td>\n",
              "      <td>5.00</td>\n",
              "    </tr>\n",
              "  </tbody>\n",
              "</table>\n",
              "<p>45700 rows × 4 columns</p>\n",
              "</div>\n",
              "      <button class=\"colab-df-convert\" onclick=\"convertToInteractive('df-b2d9cba2-6489-442d-873d-5f902b341287')\"\n",
              "              title=\"Convert this dataframe to an interactive table.\"\n",
              "              style=\"display:none;\">\n",
              "        \n",
              "  <svg xmlns=\"http://www.w3.org/2000/svg\" height=\"24px\"viewBox=\"0 0 24 24\"\n",
              "       width=\"24px\">\n",
              "    <path d=\"M0 0h24v24H0V0z\" fill=\"none\"/>\n",
              "    <path d=\"M18.56 5.44l.94 2.06.94-2.06 2.06-.94-2.06-.94-.94-2.06-.94 2.06-2.06.94zm-11 1L8.5 8.5l.94-2.06 2.06-.94-2.06-.94L8.5 2.5l-.94 2.06-2.06.94zm10 10l.94 2.06.94-2.06 2.06-.94-2.06-.94-.94-2.06-.94 2.06-2.06.94z\"/><path d=\"M17.41 7.96l-1.37-1.37c-.4-.4-.92-.59-1.43-.59-.52 0-1.04.2-1.43.59L10.3 9.45l-7.72 7.72c-.78.78-.78 2.05 0 2.83L4 21.41c.39.39.9.59 1.41.59.51 0 1.02-.2 1.41-.59l7.78-7.78 2.81-2.81c.8-.78.8-2.07 0-2.86zM5.41 20L4 18.59l7.72-7.72 1.47 1.35L5.41 20z\"/>\n",
              "  </svg>\n",
              "      </button>\n",
              "      \n",
              "  <style>\n",
              "    .colab-df-container {\n",
              "      display:flex;\n",
              "      flex-wrap:wrap;\n",
              "      gap: 12px;\n",
              "    }\n",
              "\n",
              "    .colab-df-convert {\n",
              "      background-color: #E8F0FE;\n",
              "      border: none;\n",
              "      border-radius: 50%;\n",
              "      cursor: pointer;\n",
              "      display: none;\n",
              "      fill: #1967D2;\n",
              "      height: 32px;\n",
              "      padding: 0 0 0 0;\n",
              "      width: 32px;\n",
              "    }\n",
              "\n",
              "    .colab-df-convert:hover {\n",
              "      background-color: #E2EBFA;\n",
              "      box-shadow: 0px 1px 2px rgba(60, 64, 67, 0.3), 0px 1px 3px 1px rgba(60, 64, 67, 0.15);\n",
              "      fill: #174EA6;\n",
              "    }\n",
              "\n",
              "    [theme=dark] .colab-df-convert {\n",
              "      background-color: #3B4455;\n",
              "      fill: #D2E3FC;\n",
              "    }\n",
              "\n",
              "    [theme=dark] .colab-df-convert:hover {\n",
              "      background-color: #434B5C;\n",
              "      box-shadow: 0px 1px 3px 1px rgba(0, 0, 0, 0.15);\n",
              "      filter: drop-shadow(0px 1px 2px rgba(0, 0, 0, 0.3));\n",
              "      fill: #FFFFFF;\n",
              "    }\n",
              "  </style>\n",
              "\n",
              "      <script>\n",
              "        const buttonEl =\n",
              "          document.querySelector('#df-b2d9cba2-6489-442d-873d-5f902b341287 button.colab-df-convert');\n",
              "        buttonEl.style.display =\n",
              "          google.colab.kernel.accessAllowed ? 'block' : 'none';\n",
              "\n",
              "        async function convertToInteractive(key) {\n",
              "          const element = document.querySelector('#df-b2d9cba2-6489-442d-873d-5f902b341287');\n",
              "          const dataTable =\n",
              "            await google.colab.kernel.invokeFunction('convertToInteractive',\n",
              "                                                     [key], {});\n",
              "          if (!dataTable) return;\n",
              "\n",
              "          const docLinkHtml = 'Like what you see? Visit the ' +\n",
              "            '<a target=\"_blank\" href=https://colab.research.google.com/notebooks/data_table.ipynb>data table notebook</a>'\n",
              "            + ' to learn more about interactive tables.';\n",
              "          element.innerHTML = '';\n",
              "          dataTable['output_type'] = 'display_data';\n",
              "          await google.colab.output.renderOutput(dataTable, element);\n",
              "          const docLink = document.createElement('div');\n",
              "          docLink.innerHTML = docLinkHtml;\n",
              "          element.appendChild(docLink);\n",
              "        }\n",
              "      </script>\n",
              "    </div>\n",
              "  </div>\n",
              "  "
            ]
          },
          "metadata": {},
          "execution_count": 31
        }
      ]
    },
    {
      "cell_type": "code",
      "source": [],
      "metadata": {
        "id": "ZFD_BAvhW4ss"
      },
      "execution_count": null,
      "outputs": []
    }
  ]
}