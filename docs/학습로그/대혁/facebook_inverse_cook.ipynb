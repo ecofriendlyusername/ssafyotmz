{
  "cells": [
    {
      "cell_type": "markdown",
      "metadata": {
        "id": "nDG-gWnjXOeu"
      },
      "source": [
        "## Inverse Cooking: Recipe Generation from Food Images"
      ]
    },
    {
      "cell_type": "code",
      "source": [
        "from google.colab import drive\n",
        "drive.mount('/content/drive')"
      ],
      "metadata": {
        "colab": {
          "base_uri": "https://localhost:8080/"
        },
        "id": "DFDV7jjxZcsx",
        "outputId": "f66c0183-7a24-40eb-8280-df553a5a2f7c"
      },
      "execution_count": 8,
      "outputs": [
        {
          "output_type": "stream",
          "name": "stdout",
          "text": [
            "Mounted at /content/drive\n"
          ]
        }
      ]
    },
    {
      "cell_type": "code",
      "source": [
        "cd content/drive/MyDrive/inversecooking/src"
      ],
      "metadata": {
        "colab": {
          "base_uri": "https://localhost:8080/"
        },
        "id": "qPTkJxZ3XXju",
        "outputId": "817a306d-6200-489c-c180-dc316b474190"
      },
      "execution_count": 11,
      "outputs": [
        {
          "output_type": "stream",
          "name": "stdout",
          "text": [
            "/content/drive/MyDrive/inversecooking/src\n"
          ]
        }
      ]
    },
    {
      "cell_type": "code",
      "execution_count": 12,
      "metadata": {
        "id": "XAWLhVX_XOev"
      },
      "outputs": [],
      "source": [
        "import matplotlib.pyplot as plt\n",
        "import torch\n",
        "import torch.nn as nn\n",
        "import numpy as np\n",
        "import os\n",
        "from args import get_parser\n",
        "import pickle\n",
        "from model import get_model\n",
        "from torchvision import transforms\n",
        "from utils.output_utils import prepare_output\n",
        "from PIL import Image\n",
        "import time"
      ]
    },
    {
      "cell_type": "markdown",
      "metadata": {
        "id": "2a2lpHRHXOew"
      },
      "source": [
        "Set ```data_dir``` to the path including vocabularies and model checkpoint"
      ]
    },
    {
      "cell_type": "code",
      "execution_count": 13,
      "metadata": {
        "id": "UkCiYGhJXOex"
      },
      "outputs": [],
      "source": [
        "data_dir = '../data'"
      ]
    },
    {
      "cell_type": "code",
      "execution_count": 14,
      "metadata": {
        "id": "1DdVkiPvXOex"
      },
      "outputs": [],
      "source": [
        "# code will run in gpu if available and if the flag is set to True, else it will run on cpu\n",
        "use_gpu = False\n",
        "device = torch.device('cuda' if torch.cuda.is_available() and use_gpu else 'cpu')\n",
        "map_loc = None if torch.cuda.is_available() and use_gpu else 'cpu'"
      ]
    },
    {
      "cell_type": "code",
      "execution_count": 15,
      "metadata": {
        "id": "W-wJo0UiXOex"
      },
      "outputs": [],
      "source": [
        "# code below was used to save vocab files so that they can be loaded without Vocabulary class\n",
        "#ingrs_vocab = pickle.load(open(os.path.join(data_dir, 'final_recipe1m_vocab_ingrs.pkl'), 'rb'))\n",
        "#ingrs_vocab = [min(w, key=len) if not isinstance(w, str) else w for w in ingrs_vocab.idx2word.values()]\n",
        "#vocab = pickle.load(open(os.path.join(data_dir, 'final_recipe1m_vocab_toks.pkl'), 'rb')).idx2word\n",
        "#pickle.dump(ingrs_vocab, open('../demo/ingr_vocab.pkl', 'wb'))\n",
        "#pickle.dump(vocab, open('../demo/instr_vocab.pkl', 'wb'))\n",
        "\n",
        "ingrs_vocab = pickle.load(open(os.path.join(data_dir, 'ingr_vocab.pkl'), 'rb'))\n",
        "vocab = pickle.load(open(os.path.join(data_dir, 'instr_vocab.pkl'), 'rb'))\n",
        "\n",
        "ingr_vocab_size = len(ingrs_vocab)\n",
        "instrs_vocab_size = len(vocab)\n",
        "output_dim = instrs_vocab_size"
      ]
    },
    {
      "cell_type": "code",
      "execution_count": 16,
      "metadata": {
        "colab": {
          "base_uri": "https://localhost:8080/"
        },
        "id": "hAdZoOaRXOex",
        "outputId": "62960b6e-4ba6-4670-c888-da4a29bc033e"
      },
      "outputs": [
        {
          "output_type": "stream",
          "name": "stdout",
          "text": [
            "23231 1488\n"
          ]
        }
      ],
      "source": [
        "print (instrs_vocab_size, ingr_vocab_size)"
      ]
    },
    {
      "cell_type": "code",
      "execution_count": 17,
      "metadata": {
        "colab": {
          "base_uri": "https://localhost:8080/",
          "height": 232,
          "referenced_widgets": [
            "373b4e7b7a9f42a3aacfe1c1e819b635",
            "e499fedf4a6c4b85b711a8324a3595cf",
            "a9893cbe26d54e34aa8049ffeaa1513a",
            "47321d77a1194f8f8b9c32ed47cf0c2d",
            "146d683dd7bc4e3fb424f2e059230ba2",
            "dbf7af0e3cad482b891b94b3d03c4f7d",
            "9128889ee5a141ec8717a3bc8045487c",
            "74fa4986c5e14a77a83e2414d8793260",
            "44b2a4120eb0422da72dc5458e3ccf86",
            "cd1e3430b63f48c2827073cf5f5b5995",
            "faeba38f03bb4b81b786fdb94184a560"
          ]
        },
        "id": "rHVVzOeFXOex",
        "outputId": "e0756adc-5c1a-4986-b014-cc37485a05ed"
      },
      "outputs": [
        {
          "output_type": "stream",
          "name": "stderr",
          "text": [
            "/usr/local/lib/python3.8/dist-packages/torchvision/models/_utils.py:208: UserWarning: The parameter 'pretrained' is deprecated since 0.13 and may be removed in the future, please use 'weights' instead.\n",
            "  warnings.warn(\n",
            "/usr/local/lib/python3.8/dist-packages/torchvision/models/_utils.py:223: UserWarning: Arguments other than a weight enum or `None` for 'weights' are deprecated since 0.13 and may be removed in the future. The current behavior is equivalent to passing `weights=ResNet50_Weights.IMAGENET1K_V1`. You can also use `weights=ResNet50_Weights.DEFAULT` to get the most up-to-date weights.\n",
            "  warnings.warn(msg)\n",
            "Downloading: \"https://download.pytorch.org/models/resnet50-0676ba61.pth\" to /root/.cache/torch/hub/checkpoints/resnet50-0676ba61.pth\n"
          ]
        },
        {
          "output_type": "display_data",
          "data": {
            "text/plain": [
              "  0%|          | 0.00/97.8M [00:00<?, ?B/s]"
            ],
            "application/vnd.jupyter.widget-view+json": {
              "version_major": 2,
              "version_minor": 0,
              "model_id": "373b4e7b7a9f42a3aacfe1c1e819b635"
            }
          },
          "metadata": {}
        },
        {
          "output_type": "stream",
          "name": "stderr",
          "text": [
            "/usr/local/lib/python3.8/dist-packages/torch/nn/_reduction.py:42: UserWarning: size_average and reduce args will be deprecated, please use reduction='none' instead.\n",
            "  warnings.warn(warning.format(ret))\n"
          ]
        },
        {
          "output_type": "stream",
          "name": "stdout",
          "text": [
            "loaded model\n",
            "Elapsed time: 13.291627645492554\n"
          ]
        }
      ],
      "source": [
        "t = time.time()\n",
        "import sys; sys.argv=['']; del sys\n",
        "args = get_parser()\n",
        "args.maxseqlen = 15\n",
        "args.ingrs_only=False\n",
        "model = get_model(args, ingr_vocab_size, instrs_vocab_size)\n",
        "# Load the trained model parameters\n",
        "model_path = os.path.join(data_dir, 'modelbest.ckpt')\n",
        "model.load_state_dict(torch.load(model_path, map_location=map_loc))\n",
        "model.to(device)\n",
        "model.eval()\n",
        "model.ingrs_only = False\n",
        "model.recipe_only = False\n",
        "print ('loaded model')\n",
        "print (\"Elapsed time:\", time.time() -t)\n"
      ]
    },
    {
      "cell_type": "code",
      "execution_count": 18,
      "metadata": {
        "id": "f6sYUq3dXOey"
      },
      "outputs": [],
      "source": [
        "transf_list_batch = []\n",
        "transf_list_batch.append(transforms.ToTensor())\n",
        "transf_list_batch.append(transforms.Normalize((0.485, 0.456, 0.406), \n",
        "                                              (0.229, 0.224, 0.225)))\n",
        "to_input_transf = transforms.Compose(transf_list_batch)"
      ]
    },
    {
      "cell_type": "code",
      "execution_count": 19,
      "metadata": {
        "id": "qPMb_IidXOey"
      },
      "outputs": [],
      "source": [
        "greedy = [True, False, False, False]\n",
        "beam = [-1, -1, -1, -1]\n",
        "temperature = 1.0\n",
        "numgens = len(greedy)"
      ]
    },
    {
      "cell_type": "markdown",
      "metadata": {
        "id": "plrIuO0QXOey"
      },
      "source": [
        "Set ```use_urls = True``` to get recipes for images in ```demo_urls```. \n",
        "\n",
        "You can also set ```use_urls = False``` and get recipes for images in the path in ```data_dir/test_imgs```."
      ]
    },
    {
      "cell_type": "code",
      "execution_count": 41,
      "metadata": {
        "scrolled": true,
        "id": "HTgZJDPUXOey"
      },
      "outputs": [],
      "source": [
        "import requests\n",
        "from io import BytesIO\n",
        "import random\n",
        "from collections import Counter\n",
        "use_urls = False # set to true to load images from demo_urls instead of those in test_imgs folder\n",
        "show_anyways = False #if True, it will show the recipe even if it's not valid\n",
        "image_folder = os.path.join(data_dir, 'demo_imgs')\n",
        "\n",
        "if not use_urls:\n",
        "    demo_imgs = os.listdir(image_folder)\n",
        "    random.shuffle(demo_imgs)\n",
        "\n",
        "demo_urls = ['https://food.fnr.sndimg.com/content/dam/images/food/fullset/2013/12/9/0/FNK_Cheesecake_s4x3.jpg.rend.hgtvcom.826.620.suffix/1387411272847.jpeg',\n",
        "            'https://www.196flavors.com/wp-content/uploads/2014/10/california-roll-3-FP.jpg']\n",
        "\n",
        "demo_files = demo_urls if use_urls else demo_imgs"
      ]
    },
    {
      "cell_type": "code",
      "execution_count": 42,
      "metadata": {
        "colab": {
          "base_uri": "https://localhost:8080/",
          "height": 974
        },
        "id": "XdUWYPW1XOey",
        "outputId": "460ea0d8-dd5c-436a-bef3-ee306184e70c"
      },
      "outputs": [
        {
          "output_type": "display_data",
          "data": {
            "text/plain": [
              "<Figure size 432x288 with 1 Axes>"
            ],
            "image/png": "[encoded data removed]"
          },
          "metadata": {
            "needs_background": "light"
          }
        },
        {
          "output_type": "stream",
          "name": "stdout",
          "text": [
            "RECIPE 1\n",
            "\u001b[1m\n",
            "Title:\u001b[0m Pork belly bulgogi\n",
            "\u001b[1m\n",
            "Ingredients:\u001b[0m\n",
            "onion, pepper, oil, pork, salt, soy_sauce, sugar\n",
            "\u001b[1m\n",
            "Instructions:\u001b[0m\n",
            "-Mix all ingredients together.\n",
            "-Marinate pork belly for at least 2 hours.\n",
            "-Grill or broil.\n",
            "====================\n",
            "Not a valid recipe!\n",
            "Reason:  no eos found\n",
            "RECIPE 2\n",
            "\u001b[1m\n",
            "Title:\u001b[0m Korean pork chop\n",
            "\u001b[1m\n",
            "Ingredients:\u001b[0m\n",
            "onion, pepper, oil, pork, salt, soy_sauce, sugar\n",
            "\u001b[1m\n",
            "Instructions:\u001b[0m\n",
            "-Heat olive oil in a large skillet over medium heat; cook and stir onion in the hot oil until onion is soft, 5 to 7 minutes.\n",
            "-Season pork chops with salt and black pepper; add onion to onion mixture; cook and stir pork chops until browned, about 10 minutes.\n",
            "-Add soy sauce and sugar; bring to a boil until pork chops are no longer pink in the center, 5 to 7 minutes.\n",
            "====================\n",
            "RECIPE 3\n",
            "\u001b[1m\n",
            "Title:\u001b[0m Slow cooker pork chops\n",
            "\u001b[1m\n",
            "Ingredients:\u001b[0m\n",
            "onion, pepper, oil, pork, salt, soy_sauce, sugar\n",
            "\u001b[1m\n",
            "Instructions:\u001b[0m\n",
            "-In a blender or food processor, blend together soy sauce, sugar, salt and pepper to form a paste.\n",
            "-In a small bowl, combine the green onions, sesame oil and red pepper flakes.\n",
            "-Place the pork chops in the slow cooker, and pour the soy sauce mixture over the chops.\n",
            "-Cook on low for 8 to 9 hours, turning chops several times to ensure even cooking.\n",
            "-If using pork chops, let the pork chops stand for a few minutes before slicing.\n",
            "====================\n"
          ]
        }
      ],
      "source": [
        "for img_file in demo_files:\n",
        "    \n",
        "    if use_urls:\n",
        "        response = requests.get(img_file)\n",
        "        image = Image.open(BytesIO(response.content))\n",
        "    else:\n",
        "        image_path = os.path.join(image_folder, img_file)\n",
        "        image = Image.open(image_path).convert('RGB')\n",
        "    \n",
        "    transf_list = []\n",
        "    transf_list.append(transforms.Resize(256))\n",
        "    transf_list.append(transforms.CenterCrop(224))\n",
        "    transform = transforms.Compose(transf_list)\n",
        "    \n",
        "    image_transf = transform(image)\n",
        "    image_tensor = to_input_transf(image_transf).unsqueeze(0).to(device)\n",
        "    \n",
        "    plt.imshow(image_transf)\n",
        "    plt.axis('off')\n",
        "    plt.show()\n",
        "    plt.close()\n",
        "    \n",
        "    num_valid = 1\n",
        "    for i in range(numgens):\n",
        "        with torch.no_grad():\n",
        "            outputs = model.sample(image_tensor, greedy=greedy[i], \n",
        "                                   temperature=temperature, beam=beam[i], true_ingrs=None)\n",
        "            \n",
        "        ingr_ids = outputs['ingr_ids'].cpu().numpy()\n",
        "        recipe_ids = outputs['recipe_ids'].cpu().numpy()\n",
        "            \n",
        "        outs, valid = prepare_output(recipe_ids[0], ingr_ids[0], ingrs_vocab, vocab)\n",
        "        \n",
        "        if valid['is_valid'] or show_anyways:\n",
        "            \n",
        "            print ('RECIPE', num_valid)\n",
        "            num_valid+=1\n",
        "            #print (\"greedy:\", greedy[i], \"beam:\", beam[i])\n",
        "    \n",
        "            BOLD = '\\033[1m'\n",
        "            END = '\\033[0m'\n",
        "            print (BOLD + '\\nTitle:' + END,outs['title'])\n",
        "\n",
        "            print (BOLD + '\\nIngredients:'+ END)\n",
        "            print (', '.join(outs['ingrs']))\n",
        "\n",
        "            print (BOLD + '\\nInstructions:'+END)\n",
        "            print ('-'+'\\n-'.join(outs['recipe']))\n",
        "\n",
        "            print ('='*20)\n",
        "\n",
        "        else:\n",
        "            pass\n",
        "            print (\"Not a valid recipe!\")\n",
        "            print (\"Reason: \", valid['reason'])\n",
        "        "
      ]
    },
    {
      "cell_type": "code",
      "execution_count": null,
      "metadata": {
        "id": "so1sVz9wXOez"
      },
      "outputs": [],
      "source": []
    },
    {
      "cell_type": "code",
      "execution_count": null,
      "metadata": {
        "id": "N78RCabvXOez"
      },
      "outputs": [],
      "source": []
    }
  ],
  "metadata": {
    "kernelspec": {
      "display_name": "Python 3",
      "language": "python",
      "name": "python3"
    },
    "language_info": {
      "codemirror_mode": {
        "name": "ipython",
        "version": 3
      },
      "file_extension": ".py",
      "mimetype": "text/x-python",
      "name": "python",
      "nbconvert_exporter": "python",
      "pygments_lexer": "ipython3",
      "version": "3.6.5"
    },
    "colab": {
      "provenance": []
    },
    "widgets": {
      "application/vnd.jupyter.widget-state+json": {
        "373b4e7b7a9f42a3aacfe1c1e819b635": {
          "model_module": "@jupyter-widgets/controls",
          "model_name": "HBoxModel",
          "model_module_version": "1.5.0",
          "state": {
            "_dom_classes": [],
            "_model_module": "@jupyter-widgets/controls",
            "_model_module_version": "1.5.0",
            "_model_name": "HBoxModel",
            "_view_count": null,
            "_view_module": "@jupyter-widgets/controls",
            "_view_module_version": "1.5.0",
            "_view_name": "HBoxView",
            "box_style": "",
            "children": [
              "IPY_MODEL_e499fedf4a6c4b85b711a8324a3595cf",
              "IPY_MODEL_a9893cbe26d54e34aa8049ffeaa1513a",
              "IPY_MODEL_47321d77a1194f8f8b9c32ed47cf0c2d"
            ],
            "layout": "IPY_MODEL_146d683dd7bc4e3fb424f2e059230ba2"
          }
        },
        "e499fedf4a6c4b85b711a8324a3595cf": {
          "model_module": "@jupyter-widgets/controls",
          "model_name": "HTMLModel",
          "model_module_version": "1.5.0",
          "state": {
            "_dom_classes": [],
            "_model_module": "@jupyter-widgets/controls",
            "_model_module_version": "1.5.0",
            "_model_name": "HTMLModel",
            "_view_count": null,
            "_view_module": "@jupyter-widgets/controls",
            "_view_module_version": "1.5.0",
            "_view_name": "HTMLView",
            "description": "",
            "description_tooltip": null,
            "layout": "IPY_MODEL_dbf7af0e3cad482b891b94b3d03c4f7d",
            "placeholder": "​",
            "style": "IPY_MODEL_9128889ee5a141ec8717a3bc8045487c",
            "value": "100%"
          }
        },
        "a9893cbe26d54e34aa8049ffeaa1513a": {
          "model_module": "@jupyter-widgets/controls",
          "model_name": "FloatProgressModel",
          "model_module_version": "1.5.0",
          "state": {
            "_dom_classes": [],
            "_model_module": "@jupyter-widgets/controls",
            "_model_module_version": "1.5.0",
            "_model_name": "FloatProgressModel",
            "_view_count": null,
            "_view_module": "@jupyter-widgets/controls",
            "_view_module_version": "1.5.0",
            "_view_name": "ProgressView",
            "bar_style": "success",
            "description": "",
            "description_tooltip": null,
            "layout": "IPY_MODEL_74fa4986c5e14a77a83e2414d8793260",
            "max": 102530333,
            "min": 0,
            "orientation": "horizontal",
            "style": "IPY_MODEL_44b2a4120eb0422da72dc5458e3ccf86",
            "value": 102530333
          }
        },
        "47321d77a1194f8f8b9c32ed47cf0c2d": {
          "model_module": "@jupyter-widgets/controls",
          "model_name": "HTMLModel",
          "model_module_version": "1.5.0",
          "state": {
            "_dom_classes": [],
            "_model_module": "@jupyter-widgets/controls",
            "_model_module_version": "1.5.0",
            "_model_name": "HTMLModel",
            "_view_count": null,
            "_view_module": "@jupyter-widgets/controls",
            "_view_module_version": "1.5.0",
            "_view_name": "HTMLView",
            "description": "",
            "description_tooltip": null,
            "layout": "IPY_MODEL_cd1e3430b63f48c2827073cf5f5b5995",
            "placeholder": "​",
            "style": "IPY_MODEL_faeba38f03bb4b81b786fdb94184a560",
            "value": " 97.8M/97.8M [00:01&lt;00:00, 114MB/s]"
          }
        },
        "146d683dd7bc4e3fb424f2e059230ba2": {
          "model_module": "@jupyter-widgets/base",
          "model_name": "LayoutModel",
          "model_module_version": "1.2.0",
          "state": {
            "_model_module": "@jupyter-widgets/base",
            "_model_module_version": "1.2.0",
            "_model_name": "LayoutModel",
            "_view_count": null,
            "_view_module": "@jupyter-widgets/base",
            "_view_module_version": "1.2.0",
            "_view_name": "LayoutView",
            "align_content": null,
            "align_items": null,
            "align_self": null,
            "border": null,
            "bottom": null,
            "display": null,
            "flex": null,
            "flex_flow": null,
            "grid_area": null,
            "grid_auto_columns": null,
            "grid_auto_flow": null,
            "grid_auto_rows": null,
            "grid_column": null,
            "grid_gap": null,
            "grid_row": null,
            "grid_template_areas": null,
            "grid_template_columns": null,
            "grid_template_rows": null,
            "height": null,
            "justify_content": null,
            "justify_items": null,
            "left": null,
            "margin": null,
            "max_height": null,
            "max_width": null,
            "min_height": null,
            "min_width": null,
            "object_fit": null,
            "object_position": null,
            "order": null,
            "overflow": null,
            "overflow_x": null,
            "overflow_y": null,
            "padding": null,
            "right": null,
            "top": null,
            "visibility": null,
            "width": null
          }
        },
        "dbf7af0e3cad482b891b94b3d03c4f7d": {
          "model_module": "@jupyter-widgets/base",
          "model_name": "LayoutModel",
          "model_module_version": "1.2.0",
          "state": {
            "_model_module": "@jupyter-widgets/base",
            "_model_module_version": "1.2.0",
            "_model_name": "LayoutModel",
            "_view_count": null,
            "_view_module": "@jupyter-widgets/base",
            "_view_module_version": "1.2.0",
            "_view_name": "LayoutView",
            "align_content": null,
            "align_items": null,
            "align_self": null,
            "border": null,
            "bottom": null,
            "display": null,
            "flex": null,
            "flex_flow": null,
            "grid_area": null,
            "grid_auto_columns": null,
            "grid_auto_flow": null,
            "grid_auto_rows": null,
            "grid_column": null,
            "grid_gap": null,
            "grid_row": null,
            "grid_template_areas": null,
            "grid_template_columns": null,
            "grid_template_rows": null,
            "height": null,
            "justify_content": null,
            "justify_items": null,
            "left": null,
            "margin": null,
            "max_height": null,
            "max_width": null,
            "min_height": null,
            "min_width": null,
            "object_fit": null,
            "object_position": null,
            "order": null,
            "overflow": null,
            "overflow_x": null,
            "overflow_y": null,
            "padding": null,
            "right": null,
            "top": null,
            "visibility": null,
            "width": null
          }
        },
        "9128889ee5a141ec8717a3bc8045487c": {
          "model_module": "@jupyter-widgets/controls",
          "model_name": "DescriptionStyleModel",
          "model_module_version": "1.5.0",
          "state": {
            "_model_module": "@jupyter-widgets/controls",
            "_model_module_version": "1.5.0",
            "_model_name": "DescriptionStyleModel",
            "_view_count": null,
            "_view_module": "@jupyter-widgets/base",
            "_view_module_version": "1.2.0",
            "_view_name": "StyleView",
            "description_width": ""
          }
        },
        "74fa4986c5e14a77a83e2414d8793260": {
          "model_module": "@jupyter-widgets/base",
          "model_name": "LayoutModel",
          "model_module_version": "1.2.0",
          "state": {
            "_model_module": "@jupyter-widgets/base",
            "_model_module_version": "1.2.0",
            "_model_name": "LayoutModel",
            "_view_count": null,
            "_view_module": "@jupyter-widgets/base",
            "_view_module_version": "1.2.0",
            "_view_name": "LayoutView",
            "align_content": null,
            "align_items": null,
            "align_self": null,
            "border": null,
            "bottom": null,
            "display": null,
            "flex": null,
            "flex_flow": null,
            "grid_area": null,
            "grid_auto_columns": null,
            "grid_auto_flow": null,
            "grid_auto_rows": null,
            "grid_column": null,
            "grid_gap": null,
            "grid_row": null,
            "grid_template_areas": null,
            "grid_template_columns": null,
            "grid_template_rows": null,
            "height": null,
            "justify_content": null,
            "justify_items": null,
            "left": null,
            "margin": null,
            "max_height": null,
            "max_width": null,
            "min_height": null,
            "min_width": null,
            "object_fit": null,
            "object_position": null,
            "order": null,
            "overflow": null,
            "overflow_x": null,
            "overflow_y": null,
            "padding": null,
            "right": null,
            "top": null,
            "visibility": null,
            "width": null
          }
        },
        "44b2a4120eb0422da72dc5458e3ccf86": {
          "model_module": "@jupyter-widgets/controls",
          "model_name": "ProgressStyleModel",
          "model_module_version": "1.5.0",
          "state": {
            "_model_module": "@jupyter-widgets/controls",
            "_model_module_version": "1.5.0",
            "_model_name": "ProgressStyleModel",
            "_view_count": null,
            "_view_module": "@jupyter-widgets/base",
            "_view_module_version": "1.2.0",
            "_view_name": "StyleView",
            "bar_color": null,
            "description_width": ""
          }
        },
        "cd1e3430b63f48c2827073cf5f5b5995": {
          "model_module": "@jupyter-widgets/base",
          "model_name": "LayoutModel",
          "model_module_version": "1.2.0",
          "state": {
            "_model_module": "@jupyter-widgets/base",
            "_model_module_version": "1.2.0",
            "_model_name": "LayoutModel",
            "_view_count": null,
            "_view_module": "@jupyter-widgets/base",
            "_view_module_version": "1.2.0",
            "_view_name": "LayoutView",
            "align_content": null,
            "align_items": null,
            "align_self": null,
            "border": null,
            "bottom": null,
            "display": null,
            "flex": null,
            "flex_flow": null,
            "grid_area": null,
            "grid_auto_columns": null,
            "grid_auto_flow": null,
            "grid_auto_rows": null,
            "grid_column": null,
            "grid_gap": null,
            "grid_row": null,
            "grid_template_areas": null,
            "grid_template_columns": null,
            "grid_template_rows": null,
            "height": null,
            "justify_content": null,
            "justify_items": null,
            "left": null,
            "margin": null,
            "max_height": null,
            "max_width": null,
            "min_height": null,
            "min_width": null,
            "object_fit": null,
            "object_position": null,
            "order": null,
            "overflow": null,
            "overflow_x": null,
            "overflow_y": null,
            "padding": null,
            "right": null,
            "top": null,
            "visibility": null,
            "width": null
          }
        },
        "faeba38f03bb4b81b786fdb94184a560": {
          "model_module": "@jupyter-widgets/controls",
          "model_name": "DescriptionStyleModel",
          "model_module_version": "1.5.0",
          "state": {
            "_model_module": "@jupyter-widgets/controls",
            "_model_module_version": "1.5.0",
            "_model_name": "DescriptionStyleModel",
            "_view_count": null,
            "_view_module": "@jupyter-widgets/base",
            "_view_module_version": "1.2.0",
            "_view_name": "StyleView",
            "description_width": ""
          }
        }
      }
    }
  },
  "nbformat": 4,
  "nbformat_minor": 0
}