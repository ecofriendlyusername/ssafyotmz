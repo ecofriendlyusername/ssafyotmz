{
  "nbformat": 4,
  "nbformat_minor": 0,
  "metadata": {
    "colab": {
      "provenance": []
    },
    "kernelspec": {
      "name": "python3",
      "display_name": "Python 3"
    },
    "language_info": {
      "name": "python"
    }
  },
  "cells": [
    {
      "cell_type": "markdown",
      "source": [
        "# load library"
      ],
      "metadata": {
        "id": "4P2kzVcn17Ky"
      }
    },
    {
      "cell_type": "code",
      "execution_count": null,
      "metadata": {
        "id": "0X_TObp5uF49"
      },
      "outputs": [],
      "source": [
        "!pip install torch==1.8.1+cu111 torchvision==0.9.1+cu111 torchaudio==0.8.1 -f https://download.pytorch.org/whl/lts/1.8/torch_lts.html\n",
        "!pip install torchtext==0.9.1"
      ]
    },
    {
      "cell_type": "code",
      "source": [
        "cd /content/drive/MyDrive/kfashion_attribute_model"
      ],
      "metadata": {
        "colab": {
          "base_uri": "https://localhost:8080/"
        },
        "id": "ULbk7WhHwEFu",
        "outputId": "fbcbb20d-22c2-4ee3-9d5a-7f01db5bb1cb"
      },
      "execution_count": 3,
      "outputs": [
        {
          "output_type": "stream",
          "name": "stdout",
          "text": [
            "/content/drive/MyDrive/kfashion_attribute_model\n"
          ]
        }
      ]
    },
    {
      "cell_type": "code",
      "source": [
        "#torch\n",
        "import torch\n",
        "from torch import nn\n",
        "import torch.nn.functional as F\n",
        "import torchvision.transforms as transforms\n",
        "\n",
        "#numpy\n",
        "import numpy as np\n",
        "\n",
        "#model\n",
        "from layers import *\n",
        "\n",
        "from resnest import *\n",
        "from resnet import ResNet\n",
        "\n",
        "#utility\n",
        "from helpers import build_model_with_cfg\n",
        "import math\n",
        "from urllib.request import urlretrieve\n",
        "from PIL import Image\n",
        "from tqdm import tqdm\n",
        "import random\n",
        "import matplotlib.pyplot as plt\n"
      ],
      "metadata": {
        "id": "vFyk6xbLv2R4"
      },
      "execution_count": 31,
      "outputs": []
    },
    {
      "cell_type": "markdown",
      "source": [
        "# define transform utility"
      ],
      "metadata": {
        "id": "N96yd7505Qnp"
      }
    },
    {
      "cell_type": "code",
      "source": [
        "class Warp(object):\n",
        "    def __init__(self, size, interpolation=Image.BILINEAR):\n",
        "        self.size = int(size)\n",
        "        self.interpolation = interpolation\n",
        "\n",
        "    def __call__(self, img):\n",
        "        return img.resize((self.size, self.size), self.interpolation)\n",
        "\n",
        "    def __str__(self):\n",
        "        return self.__class__.__name__ + ' (size={size}, interpolation={interpolation})'.format(size=self.size,\n",
        "                                                                                                interpolation=self.interpolation)\n",
        "class MultiScaleCrop(object):\n",
        "\n",
        "    def __init__(self, input_size, scales=None, max_distort=1, fix_crop=True, more_fix_crop=True):\n",
        "        self.scales = scales if scales is not None else [1, 875, .75, .66]\n",
        "        self.max_distort = max_distort\n",
        "        self.fix_crop = fix_crop\n",
        "        self.more_fix_crop = more_fix_crop\n",
        "        self.input_size = input_size if not isinstance(input_size, int) else [input_size, input_size]\n",
        "        self.interpolation = Image.BILINEAR\n",
        "\n",
        "    def __call__(self, img):\n",
        "        im_size = img.size\n",
        "        crop_w, crop_h, offset_w, offset_h = self._sample_crop_size(im_size)\n",
        "        crop_img_group = img.crop((offset_w, offset_h, offset_w + crop_w, offset_h + crop_h))\n",
        "        ret_img_group = crop_img_group.resize((self.input_size[0], self.input_size[1]), self.interpolation)\n",
        "        return ret_img_group\n",
        "\n",
        "    def _sample_crop_size(self, im_size):\n",
        "        image_w, image_h = im_size[0], im_size[1]\n",
        "\n",
        "        # find a crop size\n",
        "        base_size = min(image_w, image_h)\n",
        "        crop_sizes = [int(base_size * x) for x in self.scales]\n",
        "        crop_h = [self.input_size[1] if abs(x - self.input_size[1]) < 3 else x for x in crop_sizes]\n",
        "        crop_w = [self.input_size[0] if abs(x - self.input_size[0]) < 3 else x for x in crop_sizes]\n",
        "\n",
        "        pairs = []\n",
        "        for i, h in enumerate(crop_h):\n",
        "            for j, w in enumerate(crop_w):\n",
        "                if abs(i - j) <= self.max_distort:\n",
        "                    pairs.append((w, h))\n",
        "\n",
        "        crop_pair = random.choice(pairs)\n",
        "        if not self.fix_crop:\n",
        "            w_offset = random.randint(0, image_w - crop_pair[0])\n",
        "            h_offset = random.randint(0, image_h - crop_pair[1])\n",
        "        else:\n",
        "            w_offset, h_offset = self._sample_fix_offset(image_w, image_h, crop_pair[0], crop_pair[1])\n",
        "\n",
        "        return crop_pair[0], crop_pair[1], w_offset, h_offset\n",
        "\n",
        "    def _sample_fix_offset(self, image_w, image_h, crop_w, crop_h):\n",
        "        offsets = self.fill_fix_offset(self.more_fix_crop, image_w, image_h, crop_w, crop_h)\n",
        "        return random.choice(offsets)\n",
        "\n",
        "    @staticmethod\n",
        "    def fill_fix_offset(more_fix_crop, image_w, image_h, crop_w, crop_h):\n",
        "        w_step = (image_w - crop_w) // 4\n",
        "        h_step = (image_h - crop_h) // 4\n",
        "\n",
        "        ret = list()\n",
        "        ret.append((0, 0))  # upper left\n",
        "        ret.append((4 * w_step, 0))  # upper right\n",
        "        ret.append((0, 4 * h_step))  # lower left\n",
        "        ret.append((4 * w_step, 4 * h_step))  # lower right\n",
        "        ret.append((2 * w_step, 2 * h_step))  # center\n",
        "\n",
        "        if more_fix_crop:\n",
        "            ret.append((0, 2 * h_step))  # center left\n",
        "            ret.append((4 * w_step, 2 * h_step))  # center right\n",
        "            ret.append((2 * w_step, 4 * h_step))  # lower center\n",
        "            ret.append((2 * w_step, 0 * h_step))  # upper center\n",
        "\n",
        "            ret.append((1 * w_step, 1 * h_step))  # upper left quarter\n",
        "            ret.append((3 * w_step, 1 * h_step))  # upper right quarter\n",
        "            ret.append((1 * w_step, 3 * h_step))  # lower left quarter\n",
        "            ret.append((3 * w_step, 3 * h_step))  # lower righ quarter\n",
        "\n",
        "        return ret\n",
        "\n",
        "\n",
        "    def __str__(self):\n",
        "        return self.__class__.__name__\n",
        "\n",
        "\n",
        "def download_url(url, destination=None, progress_bar=True):\n",
        "    \"\"\"Download a URL to a local file.\n",
        "\n",
        "    Parameters\n",
        "    ----------\n",
        "    url : str\n",
        "        The URL to download.\n",
        "    destination : str, None\n",
        "        The destination of the file. If None is given the file is saved to a temporary directory.\n",
        "    progress_bar : bool\n",
        "        Whether to show a command-line progress bar while downloading.\n",
        "\n",
        "    Returns\n",
        "    -------\n",
        "    filename : str\n",
        "        The location of the downloaded file.\n",
        "\n",
        "    Notes\n",
        "    -----\n",
        "    Progress bar use/example adapted from tqdm documentation: https://github.com/tqdm/tqdm\n",
        "    \"\"\"\n",
        "\n",
        "    def my_hook(t):\n",
        "        last_b = [0]\n",
        "\n",
        "        def inner(b=1, bsize=1, tsize=None):\n",
        "            if tsize is not None:\n",
        "                t.total = tsize\n",
        "            if b > 0:\n",
        "                t.update((b - last_b[0]) * bsize)\n",
        "            last_b[0] = b\n",
        "\n",
        "        return inner\n",
        "\n",
        "    if progress_bar:\n",
        "        with tqdm(unit='B', unit_scale=True, miniters=1, desc=url.split('/')[-1]) as t:\n",
        "            filename, _ = urlretrieve(url, filename=destination, reporthook=my_hook(t))\n",
        "    else:\n",
        "        filename, _ = urlretrieve(url, filename=destination)\n",
        "\n",
        "\n",
        "class AveragePrecisionMeter(object):\n",
        "    \"\"\"\n",
        "    The APMeter measures the average precision per class.\n",
        "    The APMeter is designed to operate on `NxK` Tensors `output` and\n",
        "    `target`, and optionally a `Nx1` Tensor weight where (1) the `output`\n",
        "    contains model output scores for `N` examples and `K` classes that ought to\n",
        "    be higher when the model is more convinced that the example should be\n",
        "    positively labeled, and smaller when the model believes the example should\n",
        "    be negatively labeled (for instance, the output of a sigmoid function); (2)\n",
        "    the `target` contains only values 0 (for negative examples) and 1\n",
        "    (for positive examples); and (3) the `weight` ( > 0) represents weight for\n",
        "    each sample.\n",
        "    \"\"\"\n",
        "\n",
        "    def __init__(self, difficult_examples=False):\n",
        "        super(AveragePrecisionMeter, self).__init__()\n",
        "        self.reset()\n",
        "        self.difficult_examples = difficult_examples\n",
        "\n",
        "    def reset(self):\n",
        "        \"\"\"Resets the meter with empty member variables\"\"\"\n",
        "        self.scores = torch.FloatTensor(torch.FloatStorage())\n",
        "        self.targets = torch.LongTensor(torch.LongStorage())\n",
        "\n",
        "    def add(self, output, target):\n",
        "        \"\"\"\n",
        "        Args:\n",
        "            output (Tensor): NxK tensor that for each of the N examples\n",
        "                indicates the probability of the example belonging to each of\n",
        "                the K classes, according to the model. The probabilities should\n",
        "                sum to one over all classes\n",
        "            target (Tensor): binary NxK tensort that encodes which of the K\n",
        "                classes are associated with the N-th input\n",
        "                    (eg: a row [0, 1, 0, 1] indicates that the example is\n",
        "                         associated with classes 2 and 4)\n",
        "            weight (optional, Tensor): Nx1 tensor representing the weight for\n",
        "                each example (each weight > 0)\n",
        "        \"\"\"\n",
        "        if not torch.is_tensor(output):\n",
        "            output = torch.from_numpy(output)\n",
        "        if not torch.is_tensor(target):\n",
        "            target = torch.from_numpy(target)\n",
        "\n",
        "        if output.dim() == 1:\n",
        "            output = output.view(-1, 1)\n",
        "        else:\n",
        "            assert output.dim() == 2, \\\n",
        "                'wrong output size (should be 1D or 2D with one column \\\n",
        "                per class)'\n",
        "        if target.dim() == 1:\n",
        "            target = target.view(-1, 1)\n",
        "        else:\n",
        "            assert target.dim() == 2, \\\n",
        "                'wrong target size (should be 1D or 2D with one column \\\n",
        "                per class)'\n",
        "        if self.scores.numel() > 0:\n",
        "            assert target.size(1) == self.targets.size(1), \\\n",
        "                'dimensions for output should match previously added examples.'\n",
        "\n",
        "        # make sure storage is of sufficient size\n",
        "        if self.scores.storage().size() < self.scores.numel() + output.numel():\n",
        "            new_size = math.ceil(self.scores.storage().size() * 1.5)\n",
        "            self.scores.storage().resize_(int(new_size + output.numel()))\n",
        "            self.targets.storage().resize_(int(new_size + output.numel()))\n",
        "\n",
        "        # store scores and targets\n",
        "        offset = self.scores.size(0) if self.scores.dim() > 0 else 0\n",
        "        self.scores.resize_(offset + output.size(0), output.size(1))\n",
        "        self.targets.resize_(offset + target.size(0), target.size(1))\n",
        "        self.scores.narrow(0, offset, output.size(0)).copy_(output)\n",
        "        self.targets.narrow(0, offset, target.size(0)).copy_(target)\n",
        "\n",
        "    def value(self):\n",
        "        \"\"\"Returns the model's average precision for each class\n",
        "        Return:\n",
        "            ap (FloatTensor): 1xK tensor, with avg precision for each class k\n",
        "        \"\"\"\n",
        "\n",
        "        if self.scores.numel() == 0:\n",
        "            return 0\n",
        "        ap = torch.zeros(self.scores.size(1))\n",
        "        rg = torch.arange(1, self.scores.size(0)).float()\n",
        "        # compute average precision for each class\n",
        "        for k in range(self.scores.size(1)):\n",
        "            # sort scores\n",
        "            scores = self.scores[:, k]\n",
        "            targets = self.targets[:, k]\n",
        "            # compute average precision\n",
        "            ap[k] = AveragePrecisionMeter.average_precision(scores, targets, self.difficult_examples)\n",
        "        return ap\n",
        "\n",
        "    @staticmethod\n",
        "    def average_precision(output, target, difficult_examples=True):\n",
        "\n",
        "        # sort examples\n",
        "        sorted, indices = torch.sort(output, dim=0, descending=True)\n",
        "\n",
        "        # Computes prec@i\n",
        "        pos_count = 0.\n",
        "        total_count = 0.\n",
        "        precision_at_i = 0.\n",
        "        for i in indices:\n",
        "            label = target[i]\n",
        "            if difficult_examples and label == 0:\n",
        "                continue\n",
        "            if label == 1:\n",
        "                pos_count += 1\n",
        "            total_count += 1\n",
        "            if label == 1:\n",
        "                precision_at_i += pos_count / total_count\n",
        "        precision_at_i /= pos_count\n",
        "        return precision_at_i\n",
        "\n",
        "    def overall(self):\n",
        "        if self.scores.numel() == 0:\n",
        "            return 0\n",
        "        scores = self.scores.cpu().numpy()\n",
        "        targets = self.targets.cpu().numpy()\n",
        "        targets[targets == -1] = 0\n",
        "        return self.evaluation(scores, targets)\n",
        "\n",
        "    def overall_topk(self, k):\n",
        "        targets = self.targets.cpu().numpy()\n",
        "        targets[targets == -1] = 0\n",
        "        n, c = self.scores.size()\n",
        "        scores = np.zeros((n, c)) - 1\n",
        "        index = self.scores.topk(k, 1, True, True)[1].cpu().numpy()\n",
        "        tmp = self.scores.cpu().numpy()\n",
        "        for i in range(n):\n",
        "            for ind in index[i]:\n",
        "                scores[i, ind] = 1 if tmp[i, ind] >= 0 else -1\n",
        "        return self.evaluation(scores, targets)\n",
        "\n",
        "\n",
        "    def evaluation(self, scores_, targets_):\n",
        "        n, n_class = scores_.shape\n",
        "        Nc, Np, Ng = np.zeros(n_class), np.zeros(n_class), np.zeros(n_class)\n",
        "        for k in range(n_class):\n",
        "            scores = scores_[:, k]\n",
        "            targets = targets_[:, k]\n",
        "            targets[targets == -1] = 0\n",
        "            Ng[k] = np.sum(targets == 1)\n",
        "            Np[k] = np.sum(scores >= 0)\n",
        "            Nc[k] = np.sum(targets * (scores >= 0))\n",
        "        Np[Np == 0] = 1\n",
        "        OP = np.sum(Nc) / np.sum(Np)\n",
        "        OR = np.sum(Nc) / np.sum(Ng)\n",
        "        OF1 = (2 * OP * OR) / (OP + OR)\n",
        "\n",
        "        CP = np.sum(Nc / Np) / n_class\n",
        "        CR = np.sum(Nc / Ng) / n_class\n",
        "        CF1 = (2 * CP * CR) / (CP + CR)\n",
        "        return OP, OR, OF1, CP, CR, CF1\n",
        "\n",
        "def top_n_recall(preds, truths, n=1):\n",
        "    best_n = np.argsort(preds, axis=1)[:,-n:]\n",
        "    ts = np.argmax(truths, axis=1)\n",
        "    successes = 0\n",
        "    s_img_id = []\n",
        "    w_img_id = []\n",
        "    for i in range(ts.shape[0]):\n",
        "        if ts[i] in best_n[i,:]:\n",
        "            successes += 1\n",
        "            s_img_id.append(i)\n",
        "        else:\n",
        "            w_img_id.append(i)\n",
        "\n",
        "    return float(successes)/ts.shape[0], s_img_id, w_img_id, best_n\n",
        "\n",
        "def gen_A(num_classes, t, adj_file):\n",
        "    import pickle\n",
        "    result = pickle.load(open(adj_file, 'rb'))\n",
        "    _adj = result['adj']\n",
        "    _nums = result['nums']\n",
        "    _nums = _nums[:, np.newaxis]\n",
        "    _adj = _adj / _nums\n",
        "    _adj[_adj < t] = 0\n",
        "    _adj[_adj >= t] = 1\n",
        "    _adj = _adj * 0.25 / (_adj.sum(0, keepdims=True) + 1e-6)\n",
        "    _adj = _adj + np.identity(num_classes, np.int)\n",
        "    return _adj\n",
        "\n",
        "def gen_adj(A):\n",
        "    D = torch.pow(A.sum(1).float(), -0.5)\n",
        "    D = torch.diag(D)\n",
        "    adj = torch.matmul(torch.matmul(A, D).t(), D)\n",
        "    return adj\n"
      ],
      "metadata": {
        "id": "NhjvbJbi5O5a"
      },
      "execution_count": 23,
      "outputs": []
    },
    {
      "cell_type": "code",
      "source": [],
      "metadata": {
        "id": "X0zLnuYD6ECM"
      },
      "execution_count": null,
      "outputs": []
    },
    {
      "cell_type": "markdown",
      "source": [
        "# hyperparameter"
      ],
      "metadata": {
        "id": "QDGjrYUO2CgG"
      }
    },
    {
      "cell_type": "code",
      "source": [
        "use_gpu = torch.cuda.is_available()\n",
        "\n",
        "batch_size = 128\n",
        "\n",
        "image_size = 224\n",
        "\n",
        "evaluate = True\n",
        "\n",
        "\n",
        "model_name = \"category\"\n",
        "num_classes = 21\n",
        "resume = './checkpoint/kfashion_category/model_category_best.pth.tar'\n",
        "\n",
        "\n",
        "# model_name = \"texture\"\n",
        "# num_classes = 27\n",
        "# resume = './checkpoint/kfashion_texture/model_texture_best.pth.tar'\n",
        "\n",
        "\n",
        "# model_name = \"print\"\n",
        "# num_classes = 21\n",
        "# resume = './checkpoint/kfashion_print/model_print_best.pth.tar'\n",
        "\n",
        "\n",
        "model = resnest50d(pretrained=False, nc=num_classes)\n",
        "    \n",
        "criterion = nn.MultiLabelSoftMarginLoss()"
      ],
      "metadata": {
        "id": "41FqVq-g15t_"
      },
      "execution_count": 27,
      "outputs": []
    },
    {
      "cell_type": "code",
      "source": [
        "model"
      ],
      "metadata": {
        "id": "GXoRBax74Quj"
      },
      "execution_count": null,
      "outputs": []
    },
    {
      "cell_type": "code",
      "source": [
        "change_category = {\n",
        "  0:\"재킷\",\n",
        "  1:\"조거팬츠\",\n",
        "  2:\"짚업\",\n",
        "  3:\"스커트\",\n",
        "  4:\"가디건\",\n",
        "  5:\"점퍼\",\n",
        "  6:\"티셔츠\",\n",
        "  7:\"셔츠\",\n",
        "  8:\"팬츠\",\n",
        "  9:\"드레스\",\n",
        "  10:\"패딩\",\n",
        "  11:\"청바지\",\n",
        "  12:\"점프수트\",\n",
        "  13:\"니트웨어\",\n",
        "  14:\"베스트\",\n",
        "  15:\"코트\",\n",
        "  16:\"브라탑\",\n",
        "  17:\"블라우스\",\n",
        "  18:\"탑\",\n",
        "  19:\"후드티\",\n",
        "  20:\"래깅스\"\n",
        "}"
      ],
      "metadata": {
        "id": "DnqB9Qd89aoy"
      },
      "execution_count": 34,
      "outputs": []
    },
    {
      "cell_type": "markdown",
      "source": [
        "#best model"
      ],
      "metadata": {
        "id": "XM0NqZQW6qLY"
      }
    },
    {
      "cell_type": "code",
      "source": [
        "checkpoint = torch.load(resume, map_location=torch.device('cpu'))\n",
        "\n",
        "model.load_state_dict(checkpoint['state_dict'])"
      ],
      "metadata": {
        "colab": {
          "base_uri": "https://localhost:8080/"
        },
        "id": "k2ShFtVl6rOA",
        "outputId": "67cbe31d-f84c-4b95-e86b-5f25aad1ae47"
      },
      "execution_count": 28,
      "outputs": [
        {
          "output_type": "execute_result",
          "data": {
            "text/plain": [
              "<All keys matched successfully>"
            ]
          },
          "metadata": {},
          "execution_count": 28
        }
      ]
    },
    {
      "cell_type": "markdown",
      "source": [
        "# define augmentation"
      ],
      "metadata": {
        "id": "MqzlBi-56Y5o"
      }
    },
    {
      "cell_type": "code",
      "source": [
        "normalize = transforms.Normalize(mean = model.image_normalization_mean, std = model.image_normalization_std)\n",
        "\n",
        "train_transform = transforms.Compose([\n",
        "    MultiScaleCrop(image_size, scales = (1.0,0.875,0.75, 0.66,0.5), max_distort = 2),\n",
        "    transforms.RandomHorizontalFlip(),\n",
        "    transforms.ToTensor(),\n",
        "    normalize,\n",
        "])\n",
        "\n",
        "val_transform = transforms.Compose([\n",
        "    Warp(image_size),\n",
        "    transforms.ToTensor(),\n",
        "    normalize,\n",
        "])"
      ],
      "metadata": {
        "id": "jTsczofL6IcL"
      },
      "execution_count": 25,
      "outputs": []
    },
    {
      "cell_type": "markdown",
      "source": [
        "#inference"
      ],
      "metadata": {
        "id": "0boSR2pf6dFD"
      }
    },
    {
      "cell_type": "code",
      "source": [
        "filename = \"/content/121157_상의.jpg\"\n",
        "\n",
        "img = Image.open(filename).convert('RGB')\n",
        "\n",
        "plt.imshow(img)\n",
        "\n",
        "if val_transform is not None:\n",
        "    \n",
        "    img = val_transform(img)\n",
        "\n",
        "\n",
        "img = img.unsqueeze(0)\n",
        "\n",
        "feature_var = torch.autograd.Variable(img).float()\n",
        "\n",
        "model.eval()\n",
        "\n",
        "output = model(feature_var)\n",
        "percentage_output = F.softmax(output, dim = 1)\n",
        "\n",
        "\n",
        "pred = output.cpu().detach().numpy()\n",
        "\n",
        "sorted_pred = np.argsort(pred,axis = 1)\n",
        "\n",
        "for i in range(20,-1,-1):\n",
        "    \n",
        "    print(f\"top {21-i}: {change_category[sorted_pred[0][i]]}, conf:{percentage_output[0][sorted_pred[0][i]]*100:.4f}\")"
      ],
      "metadata": {
        "colab": {
          "base_uri": "https://localhost:8080/",
          "height": 650
        },
        "id": "dkIpoHc76d73",
        "outputId": "3d5dc185-91bf-48df-9499-5663940569de"
      },
      "execution_count": 57,
      "outputs": [
        {
          "output_type": "stream",
          "name": "stdout",
          "text": [
            "top 1: 티셔츠, conf:86.9403\n",
            "top 2: 탑, conf:5.3995\n",
            "top 3: 니트웨어, conf:2.7804\n",
            "top 4: 블라우스, conf:2.3808\n",
            "top 5: 드레스, conf:1.4845\n",
            "top 6: 후드티, conf:0.3623\n",
            "top 7: 셔츠, conf:0.2125\n",
            "top 8: 가디건, conf:0.1150\n",
            "top 9: 브라탑, conf:0.0723\n",
            "top 10: 베스트, conf:0.0446\n",
            "top 11: 스커트, conf:0.0440\n",
            "top 12: 재킷, conf:0.0340\n",
            "top 13: 점퍼, conf:0.0291\n",
            "top 14: 짚업, conf:0.0264\n",
            "top 15: 청바지, conf:0.0202\n",
            "top 16: 점프수트, conf:0.0127\n",
            "top 17: 코트, conf:0.0115\n",
            "top 18: 패딩, conf:0.0089\n",
            "top 19: 조거팬츠, conf:0.0076\n",
            "top 20: 팬츠, conf:0.0069\n",
            "top 21: 래깅스, conf:0.0067\n"
          ]
        },
        {
          "output_type": "display_data",
          "data": {
            "text/plain": [
              "<Figure size 432x288 with 1 Axes>"
            ],
            "image/png": "[encoded data removed]"
          },
          "metadata": {
            "needs_background": "light"
          }
        }
      ]
    },
    {
      "cell_type": "code",
      "source": [
        "sorted_pred"
      ],
      "metadata": {
        "colab": {
          "base_uri": "https://localhost:8080/"
        },
        "id": "X4WuGxjz_Yr7",
        "outputId": "e761cef9-0d05-4a33-8693-283ea12255c3"
      },
      "execution_count": 36,
      "outputs": [
        {
          "output_type": "execute_result",
          "data": {
            "text/plain": [
              "array([[16,  7, 19, 13, 12, 10, 20,  1, 15,  2, 18, 14,  4,  5,  0, 11,\n",
              "        17,  6,  9,  8,  3]])"
            ]
          },
          "metadata": {},
          "execution_count": 36
        }
      ]
    },
    {
      "cell_type": "code",
      "source": [],
      "metadata": {
        "id": "KAkUuq4O8mRi"
      },
      "execution_count": null,
      "outputs": []
    }
  ]
}